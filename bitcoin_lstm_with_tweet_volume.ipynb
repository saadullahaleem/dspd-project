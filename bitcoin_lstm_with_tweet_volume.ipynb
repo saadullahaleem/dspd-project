{
  "nbformat": 4,
  "nbformat_minor": 0,
  "metadata": {
    "colab": {
      "name": "bitcoin_lstm_with_tweet_volume.ipynb",
      "provenance": [],
      "collapsed_sections": [
        "GxEFs3X6J_bM"
      ]
    },
    "kernelspec": {
      "display_name": "Python 3",
      "name": "python3"
    }
  },
  "cells": [
    {
      "cell_type": "markdown",
      "metadata": {
        "id": "7ZgjOxfZOLf2"
      },
      "source": [
        "## Bitcoin LSTM Model with Tweet Volume and Sentiment"
      ]
    },
    {
      "cell_type": "code",
      "metadata": {
        "colab": {
          "base_uri": "https://localhost:8080/"
        },
        "id": "AT4iGJIzC1zC",
        "outputId": "f9dbaa96-d3fe-4154-c879-b49ee678738c"
      },
      "source": [
        "import pandas as pd\n",
        "import re \n",
        "from matplotlib import pyplot\n",
        "import seaborn as sns\n",
        "import numpy as np\n",
        "import os # accessing directory structure\n",
        "\n",
        "from google.colab import drive\n",
        "# This will prompt for authorization.\n",
        "drive.mount('/content/drive')\n"
      ],
      "execution_count": null,
      "outputs": [
        {
          "output_type": "stream",
          "text": [
            "Drive already mounted at /content/drive; to attempt to forcibly remount, call drive.mount(\"/content/drive\", force_remount=True).\n"
          ],
          "name": "stdout"
        }
      ]
    },
    {
      "cell_type": "code",
      "metadata": {
        "id": "-FVwBkawEIUt"
      },
      "source": [
        "\n",
        "#set seed\n",
        "np.random.seed(12345)"
      ],
      "execution_count": null,
      "outputs": []
    },
    {
      "cell_type": "markdown",
      "metadata": {
        "id": "IAy1PGqqFKgd"
      },
      "source": [
        "# Data Pre-processing"
      ]
    },
    {
      "cell_type": "code",
      "metadata": {
        "id": "fTrYAKf7FMS4"
      },
      "source": [
        "notclean = pd.read_csv('/content/drive/MyDrive/Datasets/cleanprep.csv', delimiter=',', error_bad_lines=False,engine = 'python',header = None)"
      ],
      "execution_count": null,
      "outputs": []
    },
    {
      "cell_type": "code",
      "metadata": {
        "colab": {
          "base_uri": "https://localhost:8080/",
          "height": 195
        },
        "id": "RgpMPQYOFeRw",
        "outputId": "fabe614d-1d4c-46b3-ad6a-32b72000166c"
      },
      "source": [
        "notclean.head()"
      ],
      "execution_count": null,
      "outputs": [
        {
          "output_type": "execute_result",
          "data": {
            "text/html": [
              "<div>\n",
              "<style scoped>\n",
              "    .dataframe tbody tr th:only-of-type {\n",
              "        vertical-align: middle;\n",
              "    }\n",
              "\n",
              "    .dataframe tbody tr th {\n",
              "        vertical-align: top;\n",
              "    }\n",
              "\n",
              "    .dataframe thead th {\n",
              "        text-align: right;\n",
              "    }\n",
              "</style>\n",
              "<table border=\"1\" class=\"dataframe\">\n",
              "  <thead>\n",
              "    <tr style=\"text-align: right;\">\n",
              "      <th></th>\n",
              "      <th>0</th>\n",
              "      <th>1</th>\n",
              "      <th>2</th>\n",
              "      <th>3</th>\n",
              "      <th>4</th>\n",
              "    </tr>\n",
              "  </thead>\n",
              "  <tbody>\n",
              "    <tr>\n",
              "      <th>0</th>\n",
              "      <td>2018-07-11 19:35:15.363270</td>\n",
              "      <td>b'tj'</td>\n",
              "      <td>b\"Next two weeks prob v boring (climb up to 9k...</td>\n",
              "      <td>0.007273</td>\n",
              "      <td>0.590909</td>\n",
              "    </tr>\n",
              "    <tr>\n",
              "      <th>1</th>\n",
              "      <td>2018-07-11 19:35:15.736769</td>\n",
              "      <td>b'Kool_Kheart'</td>\n",
              "      <td>b'@Miss_rinola But you\\xe2\\x80\\x99ve heard abo...</td>\n",
              "      <td>0.000000</td>\n",
              "      <td>0.000000</td>\n",
              "    </tr>\n",
              "    <tr>\n",
              "      <th>2</th>\n",
              "      <td>2018-07-11 19:35:15.744769</td>\n",
              "      <td>b'Gary Lang'</td>\n",
              "      <td>b'Duplicate skilled traders automatically with...</td>\n",
              "      <td>0.625000</td>\n",
              "      <td>0.500000</td>\n",
              "    </tr>\n",
              "    <tr>\n",
              "      <th>3</th>\n",
              "      <td>2018-07-11 19:35:15.867339</td>\n",
              "      <td>b'Jobs in Fintech'</td>\n",
              "      <td>b'Project Manager - Technical - FinTech - Cent...</td>\n",
              "      <td>0.000000</td>\n",
              "      <td>0.175000</td>\n",
              "    </tr>\n",
              "    <tr>\n",
              "      <th>4</th>\n",
              "      <td>2018-07-11 19:35:16.021448</td>\n",
              "      <td>b'ERC20'</td>\n",
              "      <td>b'Coinbase App Downloads Drop, Crypto Hype Fad...</td>\n",
              "      <td>0.333333</td>\n",
              "      <td>0.500000</td>\n",
              "    </tr>\n",
              "  </tbody>\n",
              "</table>\n",
              "</div>"
            ],
            "text/plain": [
              "                            0                   1  ...         3         4\n",
              "0  2018-07-11 19:35:15.363270               b'tj'  ...  0.007273  0.590909\n",
              "1  2018-07-11 19:35:15.736769      b'Kool_Kheart'  ...  0.000000  0.000000\n",
              "2  2018-07-11 19:35:15.744769        b'Gary Lang'  ...  0.625000  0.500000\n",
              "3  2018-07-11 19:35:15.867339  b'Jobs in Fintech'  ...  0.000000  0.175000\n",
              "4  2018-07-11 19:35:16.021448            b'ERC20'  ...  0.333333  0.500000\n",
              "\n",
              "[5 rows x 5 columns]"
            ]
          },
          "metadata": {
            "tags": []
          },
          "execution_count": 550
        }
      ]
    },
    {
      "cell_type": "code",
      "metadata": {
        "colab": {
          "base_uri": "https://localhost:8080/"
        },
        "id": "AyWTAU1wtuXy",
        "outputId": "460ee720-b2ea-47db-d42c-588c2f7be1d0"
      },
      "source": [
        "notclean.shape\n"
      ],
      "execution_count": null,
      "outputs": [
        {
          "output_type": "execute_result",
          "data": {
            "text/plain": [
              "(1413001, 5)"
            ]
          },
          "metadata": {
            "tags": []
          },
          "execution_count": 551
        }
      ]
    },
    {
      "cell_type": "code",
      "metadata": {
        "colab": {
          "base_uri": "https://localhost:8080/",
          "height": 195
        },
        "id": "dEpnblb3FkcY",
        "outputId": "3561271c-5164-4331-92aa-7a12adcb91f3"
      },
      "source": [
        "#-----------------Pre-processing -------------------#\n",
        "\n",
        "notclean.columns =['dt', 'name','text','polarity','sensitivity']\n",
        "notclean.head()\n"
      ],
      "execution_count": null,
      "outputs": [
        {
          "output_type": "execute_result",
          "data": {
            "text/html": [
              "<div>\n",
              "<style scoped>\n",
              "    .dataframe tbody tr th:only-of-type {\n",
              "        vertical-align: middle;\n",
              "    }\n",
              "\n",
              "    .dataframe tbody tr th {\n",
              "        vertical-align: top;\n",
              "    }\n",
              "\n",
              "    .dataframe thead th {\n",
              "        text-align: right;\n",
              "    }\n",
              "</style>\n",
              "<table border=\"1\" class=\"dataframe\">\n",
              "  <thead>\n",
              "    <tr style=\"text-align: right;\">\n",
              "      <th></th>\n",
              "      <th>dt</th>\n",
              "      <th>name</th>\n",
              "      <th>text</th>\n",
              "      <th>polarity</th>\n",
              "      <th>sensitivity</th>\n",
              "    </tr>\n",
              "  </thead>\n",
              "  <tbody>\n",
              "    <tr>\n",
              "      <th>0</th>\n",
              "      <td>2018-07-11 19:35:15.363270</td>\n",
              "      <td>b'tj'</td>\n",
              "      <td>b\"Next two weeks prob v boring (climb up to 9k...</td>\n",
              "      <td>0.007273</td>\n",
              "      <td>0.590909</td>\n",
              "    </tr>\n",
              "    <tr>\n",
              "      <th>1</th>\n",
              "      <td>2018-07-11 19:35:15.736769</td>\n",
              "      <td>b'Kool_Kheart'</td>\n",
              "      <td>b'@Miss_rinola But you\\xe2\\x80\\x99ve heard abo...</td>\n",
              "      <td>0.000000</td>\n",
              "      <td>0.000000</td>\n",
              "    </tr>\n",
              "    <tr>\n",
              "      <th>2</th>\n",
              "      <td>2018-07-11 19:35:15.744769</td>\n",
              "      <td>b'Gary Lang'</td>\n",
              "      <td>b'Duplicate skilled traders automatically with...</td>\n",
              "      <td>0.625000</td>\n",
              "      <td>0.500000</td>\n",
              "    </tr>\n",
              "    <tr>\n",
              "      <th>3</th>\n",
              "      <td>2018-07-11 19:35:15.867339</td>\n",
              "      <td>b'Jobs in Fintech'</td>\n",
              "      <td>b'Project Manager - Technical - FinTech - Cent...</td>\n",
              "      <td>0.000000</td>\n",
              "      <td>0.175000</td>\n",
              "    </tr>\n",
              "    <tr>\n",
              "      <th>4</th>\n",
              "      <td>2018-07-11 19:35:16.021448</td>\n",
              "      <td>b'ERC20'</td>\n",
              "      <td>b'Coinbase App Downloads Drop, Crypto Hype Fad...</td>\n",
              "      <td>0.333333</td>\n",
              "      <td>0.500000</td>\n",
              "    </tr>\n",
              "  </tbody>\n",
              "</table>\n",
              "</div>"
            ],
            "text/plain": [
              "                           dt                name  ...  polarity  sensitivity\n",
              "0  2018-07-11 19:35:15.363270               b'tj'  ...  0.007273     0.590909\n",
              "1  2018-07-11 19:35:15.736769      b'Kool_Kheart'  ...  0.000000     0.000000\n",
              "2  2018-07-11 19:35:15.744769        b'Gary Lang'  ...  0.625000     0.500000\n",
              "3  2018-07-11 19:35:15.867339  b'Jobs in Fintech'  ...  0.000000     0.175000\n",
              "4  2018-07-11 19:35:16.021448            b'ERC20'  ...  0.333333     0.500000\n",
              "\n",
              "[5 rows x 5 columns]"
            ]
          },
          "metadata": {
            "tags": []
          },
          "execution_count": 552
        }
      ]
    },
    {
      "cell_type": "code",
      "metadata": {
        "colab": {
          "base_uri": "https://localhost:8080/",
          "height": 195
        },
        "id": "zSZoERuRmgFG",
        "outputId": "84d3d35e-f2ea-48e8-8560-1f32a1f8cd81"
      },
      "source": [
        "notclean =notclean.drop(['name','text'], axis=1)\n",
        "notclean.head()"
      ],
      "execution_count": null,
      "outputs": [
        {
          "output_type": "execute_result",
          "data": {
            "text/html": [
              "<div>\n",
              "<style scoped>\n",
              "    .dataframe tbody tr th:only-of-type {\n",
              "        vertical-align: middle;\n",
              "    }\n",
              "\n",
              "    .dataframe tbody tr th {\n",
              "        vertical-align: top;\n",
              "    }\n",
              "\n",
              "    .dataframe thead th {\n",
              "        text-align: right;\n",
              "    }\n",
              "</style>\n",
              "<table border=\"1\" class=\"dataframe\">\n",
              "  <thead>\n",
              "    <tr style=\"text-align: right;\">\n",
              "      <th></th>\n",
              "      <th>dt</th>\n",
              "      <th>polarity</th>\n",
              "      <th>sensitivity</th>\n",
              "    </tr>\n",
              "  </thead>\n",
              "  <tbody>\n",
              "    <tr>\n",
              "      <th>0</th>\n",
              "      <td>2018-07-11 19:35:15.363270</td>\n",
              "      <td>0.007273</td>\n",
              "      <td>0.590909</td>\n",
              "    </tr>\n",
              "    <tr>\n",
              "      <th>1</th>\n",
              "      <td>2018-07-11 19:35:15.736769</td>\n",
              "      <td>0.000000</td>\n",
              "      <td>0.000000</td>\n",
              "    </tr>\n",
              "    <tr>\n",
              "      <th>2</th>\n",
              "      <td>2018-07-11 19:35:15.744769</td>\n",
              "      <td>0.625000</td>\n",
              "      <td>0.500000</td>\n",
              "    </tr>\n",
              "    <tr>\n",
              "      <th>3</th>\n",
              "      <td>2018-07-11 19:35:15.867339</td>\n",
              "      <td>0.000000</td>\n",
              "      <td>0.175000</td>\n",
              "    </tr>\n",
              "    <tr>\n",
              "      <th>4</th>\n",
              "      <td>2018-07-11 19:35:16.021448</td>\n",
              "      <td>0.333333</td>\n",
              "      <td>0.500000</td>\n",
              "    </tr>\n",
              "  </tbody>\n",
              "</table>\n",
              "</div>"
            ],
            "text/plain": [
              "                           dt  polarity  sensitivity\n",
              "0  2018-07-11 19:35:15.363270  0.007273     0.590909\n",
              "1  2018-07-11 19:35:15.736769  0.000000     0.000000\n",
              "2  2018-07-11 19:35:15.744769  0.625000     0.500000\n",
              "3  2018-07-11 19:35:15.867339  0.000000     0.175000\n",
              "4  2018-07-11 19:35:16.021448  0.333333     0.500000"
            ]
          },
          "metadata": {
            "tags": []
          },
          "execution_count": 553
        }
      ]
    },
    {
      "cell_type": "code",
      "metadata": {
        "colab": {
          "base_uri": "https://localhost:8080/",
          "height": 363
        },
        "id": "JtyO9KxYFut-",
        "outputId": "39cb9c36-0bd9-42e5-8ee6-d46ecf427a07"
      },
      "source": [
        "notclean.info()\n",
        "notclean['dt'] = pd.to_datetime(notclean['dt'])\n",
        "notclean['DateTime'] = notclean['dt'].dt.floor('h')\n",
        "notclean.head()"
      ],
      "execution_count": null,
      "outputs": [
        {
          "output_type": "stream",
          "text": [
            "<class 'pandas.core.frame.DataFrame'>\n",
            "RangeIndex: 1413001 entries, 0 to 1413000\n",
            "Data columns (total 3 columns):\n",
            " #   Column       Non-Null Count    Dtype  \n",
            "---  ------       --------------    -----  \n",
            " 0   dt           1413001 non-null  object \n",
            " 1   polarity     1413001 non-null  float64\n",
            " 2   sensitivity  1413001 non-null  float64\n",
            "dtypes: float64(2), object(1)\n",
            "memory usage: 32.3+ MB\n"
          ],
          "name": "stdout"
        },
        {
          "output_type": "execute_result",
          "data": {
            "text/html": [
              "<div>\n",
              "<style scoped>\n",
              "    .dataframe tbody tr th:only-of-type {\n",
              "        vertical-align: middle;\n",
              "    }\n",
              "\n",
              "    .dataframe tbody tr th {\n",
              "        vertical-align: top;\n",
              "    }\n",
              "\n",
              "    .dataframe thead th {\n",
              "        text-align: right;\n",
              "    }\n",
              "</style>\n",
              "<table border=\"1\" class=\"dataframe\">\n",
              "  <thead>\n",
              "    <tr style=\"text-align: right;\">\n",
              "      <th></th>\n",
              "      <th>dt</th>\n",
              "      <th>polarity</th>\n",
              "      <th>sensitivity</th>\n",
              "      <th>DateTime</th>\n",
              "    </tr>\n",
              "  </thead>\n",
              "  <tbody>\n",
              "    <tr>\n",
              "      <th>0</th>\n",
              "      <td>2018-07-11 19:35:15.363270</td>\n",
              "      <td>0.007273</td>\n",
              "      <td>0.590909</td>\n",
              "      <td>2018-07-11 19:00:00</td>\n",
              "    </tr>\n",
              "    <tr>\n",
              "      <th>1</th>\n",
              "      <td>2018-07-11 19:35:15.736769</td>\n",
              "      <td>0.000000</td>\n",
              "      <td>0.000000</td>\n",
              "      <td>2018-07-11 19:00:00</td>\n",
              "    </tr>\n",
              "    <tr>\n",
              "      <th>2</th>\n",
              "      <td>2018-07-11 19:35:15.744769</td>\n",
              "      <td>0.625000</td>\n",
              "      <td>0.500000</td>\n",
              "      <td>2018-07-11 19:00:00</td>\n",
              "    </tr>\n",
              "    <tr>\n",
              "      <th>3</th>\n",
              "      <td>2018-07-11 19:35:15.867339</td>\n",
              "      <td>0.000000</td>\n",
              "      <td>0.175000</td>\n",
              "      <td>2018-07-11 19:00:00</td>\n",
              "    </tr>\n",
              "    <tr>\n",
              "      <th>4</th>\n",
              "      <td>2018-07-11 19:35:16.021448</td>\n",
              "      <td>0.333333</td>\n",
              "      <td>0.500000</td>\n",
              "      <td>2018-07-11 19:00:00</td>\n",
              "    </tr>\n",
              "  </tbody>\n",
              "</table>\n",
              "</div>"
            ],
            "text/plain": [
              "                          dt  polarity  sensitivity            DateTime\n",
              "0 2018-07-11 19:35:15.363270  0.007273     0.590909 2018-07-11 19:00:00\n",
              "1 2018-07-11 19:35:15.736769  0.000000     0.000000 2018-07-11 19:00:00\n",
              "2 2018-07-11 19:35:15.744769  0.625000     0.500000 2018-07-11 19:00:00\n",
              "3 2018-07-11 19:35:15.867339  0.000000     0.175000 2018-07-11 19:00:00\n",
              "4 2018-07-11 19:35:16.021448  0.333333     0.500000 2018-07-11 19:00:00"
            ]
          },
          "metadata": {
            "tags": []
          },
          "execution_count": 554
        }
      ]
    },
    {
      "cell_type": "code",
      "metadata": {
        "colab": {
          "base_uri": "https://localhost:8080/",
          "height": 195
        },
        "id": "eyWwOprcF4Sj",
        "outputId": "2dfe1d1d-807b-4cee-95ec-699a4d7dff51"
      },
      "source": [
        "vdf = notclean.groupby(pd.Grouper(key='dt',freq='H')).size().reset_index(name='tweet_vol')\n",
        "vdf.head()\n"
      ],
      "execution_count": null,
      "outputs": [
        {
          "output_type": "execute_result",
          "data": {
            "text/html": [
              "<div>\n",
              "<style scoped>\n",
              "    .dataframe tbody tr th:only-of-type {\n",
              "        vertical-align: middle;\n",
              "    }\n",
              "\n",
              "    .dataframe tbody tr th {\n",
              "        vertical-align: top;\n",
              "    }\n",
              "\n",
              "    .dataframe thead th {\n",
              "        text-align: right;\n",
              "    }\n",
              "</style>\n",
              "<table border=\"1\" class=\"dataframe\">\n",
              "  <thead>\n",
              "    <tr style=\"text-align: right;\">\n",
              "      <th></th>\n",
              "      <th>dt</th>\n",
              "      <th>tweet_vol</th>\n",
              "    </tr>\n",
              "  </thead>\n",
              "  <tbody>\n",
              "    <tr>\n",
              "      <th>0</th>\n",
              "      <td>2018-07-11 19:00:00</td>\n",
              "      <td>1747</td>\n",
              "    </tr>\n",
              "    <tr>\n",
              "      <th>1</th>\n",
              "      <td>2018-07-11 20:00:00</td>\n",
              "      <td>4354</td>\n",
              "    </tr>\n",
              "    <tr>\n",
              "      <th>2</th>\n",
              "      <td>2018-07-11 21:00:00</td>\n",
              "      <td>4432</td>\n",
              "    </tr>\n",
              "    <tr>\n",
              "      <th>3</th>\n",
              "      <td>2018-07-11 22:00:00</td>\n",
              "      <td>3980</td>\n",
              "    </tr>\n",
              "    <tr>\n",
              "      <th>4</th>\n",
              "      <td>2018-07-11 23:00:00</td>\n",
              "      <td>3830</td>\n",
              "    </tr>\n",
              "  </tbody>\n",
              "</table>\n",
              "</div>"
            ],
            "text/plain": [
              "                   dt  tweet_vol\n",
              "0 2018-07-11 19:00:00       1747\n",
              "1 2018-07-11 20:00:00       4354\n",
              "2 2018-07-11 21:00:00       4432\n",
              "3 2018-07-11 22:00:00       3980\n",
              "4 2018-07-11 23:00:00       3830"
            ]
          },
          "metadata": {
            "tags": []
          },
          "execution_count": 555
        }
      ]
    },
    {
      "cell_type": "code",
      "metadata": {
        "colab": {
          "base_uri": "https://localhost:8080/"
        },
        "id": "nS7kHs-1GKD8",
        "outputId": "35c23010-df45-4b68-a356-82b21df4f58c"
      },
      "source": [
        "vdf.info()"
      ],
      "execution_count": null,
      "outputs": [
        {
          "output_type": "stream",
          "text": [
            "<class 'pandas.core.frame.DataFrame'>\n",
            "RangeIndex: 302 entries, 0 to 301\n",
            "Data columns (total 2 columns):\n",
            " #   Column     Non-Null Count  Dtype         \n",
            "---  ------     --------------  -----         \n",
            " 0   dt         302 non-null    datetime64[ns]\n",
            " 1   tweet_vol  302 non-null    int64         \n",
            "dtypes: datetime64[ns](1), int64(1)\n",
            "memory usage: 4.8 KB\n"
          ],
          "name": "stdout"
        }
      ]
    },
    {
      "cell_type": "code",
      "metadata": {
        "id": "QJJTz6flGNic"
      },
      "source": [
        "vdf.index = pd.to_datetime(vdf.index)\n",
        "vdf = vdf.set_index('dt')\n",
        " "
      ],
      "execution_count": null,
      "outputs": []
    },
    {
      "cell_type": "code",
      "metadata": {
        "colab": {
          "base_uri": "https://localhost:8080/"
        },
        "id": "f7Xro2NLGkn5",
        "outputId": "f433df4c-81a9-4125-c910-6d1e04f4d5a7"
      },
      "source": [
        "vdf.info()"
      ],
      "execution_count": null,
      "outputs": [
        {
          "output_type": "stream",
          "text": [
            "<class 'pandas.core.frame.DataFrame'>\n",
            "DatetimeIndex: 302 entries, 2018-07-11 19:00:00 to 2018-07-24 08:00:00\n",
            "Data columns (total 1 columns):\n",
            " #   Column     Non-Null Count  Dtype\n",
            "---  ------     --------------  -----\n",
            " 0   tweet_vol  302 non-null    int64\n",
            "dtypes: int64(1)\n",
            "memory usage: 4.7 KB\n"
          ],
          "name": "stdout"
        }
      ]
    },
    {
      "cell_type": "code",
      "metadata": {
        "colab": {
          "base_uri": "https://localhost:8080/",
          "height": 225
        },
        "id": "w_cN5W6XGphI",
        "outputId": "f79ae7ee-b848-415f-946b-2eef5482493b"
      },
      "source": [
        "vdf.head()"
      ],
      "execution_count": null,
      "outputs": [
        {
          "output_type": "execute_result",
          "data": {
            "text/html": [
              "<div>\n",
              "<style scoped>\n",
              "    .dataframe tbody tr th:only-of-type {\n",
              "        vertical-align: middle;\n",
              "    }\n",
              "\n",
              "    .dataframe tbody tr th {\n",
              "        vertical-align: top;\n",
              "    }\n",
              "\n",
              "    .dataframe thead th {\n",
              "        text-align: right;\n",
              "    }\n",
              "</style>\n",
              "<table border=\"1\" class=\"dataframe\">\n",
              "  <thead>\n",
              "    <tr style=\"text-align: right;\">\n",
              "      <th></th>\n",
              "      <th>tweet_vol</th>\n",
              "    </tr>\n",
              "    <tr>\n",
              "      <th>dt</th>\n",
              "      <th></th>\n",
              "    </tr>\n",
              "  </thead>\n",
              "  <tbody>\n",
              "    <tr>\n",
              "      <th>2018-07-11 19:00:00</th>\n",
              "      <td>1747</td>\n",
              "    </tr>\n",
              "    <tr>\n",
              "      <th>2018-07-11 20:00:00</th>\n",
              "      <td>4354</td>\n",
              "    </tr>\n",
              "    <tr>\n",
              "      <th>2018-07-11 21:00:00</th>\n",
              "      <td>4432</td>\n",
              "    </tr>\n",
              "    <tr>\n",
              "      <th>2018-07-11 22:00:00</th>\n",
              "      <td>3980</td>\n",
              "    </tr>\n",
              "    <tr>\n",
              "      <th>2018-07-11 23:00:00</th>\n",
              "      <td>3830</td>\n",
              "    </tr>\n",
              "  </tbody>\n",
              "</table>\n",
              "</div>"
            ],
            "text/plain": [
              "                     tweet_vol\n",
              "dt                            \n",
              "2018-07-11 19:00:00       1747\n",
              "2018-07-11 20:00:00       4354\n",
              "2018-07-11 21:00:00       4432\n",
              "2018-07-11 22:00:00       3980\n",
              "2018-07-11 23:00:00       3830"
            ]
          },
          "metadata": {
            "tags": []
          },
          "execution_count": 559
        }
      ]
    },
    {
      "cell_type": "code",
      "metadata": {
        "colab": {
          "base_uri": "https://localhost:8080/"
        },
        "id": "bUzwaj9EG4IK",
        "outputId": "d094472f-00c8-4c3f-a228-71d8527e471f"
      },
      "source": [
        "notclean.info()"
      ],
      "execution_count": null,
      "outputs": [
        {
          "output_type": "stream",
          "text": [
            "<class 'pandas.core.frame.DataFrame'>\n",
            "RangeIndex: 1413001 entries, 0 to 1413000\n",
            "Data columns (total 4 columns):\n",
            " #   Column       Non-Null Count    Dtype         \n",
            "---  ------       --------------    -----         \n",
            " 0   dt           1413001 non-null  datetime64[ns]\n",
            " 1   polarity     1413001 non-null  float64       \n",
            " 2   sensitivity  1413001 non-null  float64       \n",
            " 3   DateTime     1413001 non-null  datetime64[ns]\n",
            "dtypes: datetime64[ns](2), float64(2)\n",
            "memory usage: 43.1 MB\n"
          ],
          "name": "stdout"
        }
      ]
    },
    {
      "cell_type": "code",
      "metadata": {
        "colab": {
          "base_uri": "https://localhost:8080/"
        },
        "id": "7OpxcB81G7QR",
        "outputId": "0498dc74-7a84-4b11-e55b-2a6d4589355e"
      },
      "source": [
        "notclean.index = pd.to_datetime(notclean.index)\n",
        "notclean.info()"
      ],
      "execution_count": null,
      "outputs": [
        {
          "output_type": "stream",
          "text": [
            "<class 'pandas.core.frame.DataFrame'>\n",
            "DatetimeIndex: 1413001 entries, 1970-01-01 00:00:00 to 1970-01-01 00:00:00.001413\n",
            "Data columns (total 4 columns):\n",
            " #   Column       Non-Null Count    Dtype         \n",
            "---  ------       --------------    -----         \n",
            " 0   dt           1413001 non-null  datetime64[ns]\n",
            " 1   polarity     1413001 non-null  float64       \n",
            " 2   sensitivity  1413001 non-null  float64       \n",
            " 3   DateTime     1413001 non-null  datetime64[ns]\n",
            "dtypes: datetime64[ns](2), float64(2)\n",
            "memory usage: 53.9 MB\n"
          ],
          "name": "stdout"
        }
      ]
    },
    {
      "cell_type": "code",
      "metadata": {
        "id": "DsZWUhbUG-ll"
      },
      "source": [
        "vdf['tweet_vol'] =vdf['tweet_vol'].astype(float)"
      ],
      "execution_count": null,
      "outputs": []
    },
    {
      "cell_type": "code",
      "metadata": {
        "colab": {
          "base_uri": "https://localhost:8080/"
        },
        "id": "eZvKFRDbHCm8",
        "outputId": "054a16a0-20b6-45c9-e1fe-341c89d87891"
      },
      "source": [
        "vdf.info()"
      ],
      "execution_count": null,
      "outputs": [
        {
          "output_type": "stream",
          "text": [
            "<class 'pandas.core.frame.DataFrame'>\n",
            "DatetimeIndex: 302 entries, 2018-07-11 19:00:00 to 2018-07-24 08:00:00\n",
            "Data columns (total 1 columns):\n",
            " #   Column     Non-Null Count  Dtype  \n",
            "---  ------     --------------  -----  \n",
            " 0   tweet_vol  302 non-null    float64\n",
            "dtypes: float64(1)\n",
            "memory usage: 4.7 KB\n"
          ],
          "name": "stdout"
        }
      ]
    },
    {
      "cell_type": "code",
      "metadata": {
        "colab": {
          "base_uri": "https://localhost:8080/"
        },
        "id": "GMESULL2HFUm",
        "outputId": "994d03ce-f929-4cb0-cbab-33afa3561881"
      },
      "source": [
        "notclean.info()"
      ],
      "execution_count": null,
      "outputs": [
        {
          "output_type": "stream",
          "text": [
            "<class 'pandas.core.frame.DataFrame'>\n",
            "DatetimeIndex: 1413001 entries, 1970-01-01 00:00:00 to 1970-01-01 00:00:00.001413\n",
            "Data columns (total 4 columns):\n",
            " #   Column       Non-Null Count    Dtype         \n",
            "---  ------       --------------    -----         \n",
            " 0   dt           1413001 non-null  datetime64[ns]\n",
            " 1   polarity     1413001 non-null  float64       \n",
            " 2   sensitivity  1413001 non-null  float64       \n",
            " 3   DateTime     1413001 non-null  datetime64[ns]\n",
            "dtypes: datetime64[ns](2), float64(2)\n",
            "memory usage: 53.9 MB\n"
          ],
          "name": "stdout"
        }
      ]
    },
    {
      "cell_type": "code",
      "metadata": {
        "colab": {
          "base_uri": "https://localhost:8080/",
          "height": 195
        },
        "id": "kfW-mwxjHH5A",
        "outputId": "11df99b4-e9f5-4be5-abd3-c7cf0611cfaf"
      },
      "source": [
        "notclean.head()"
      ],
      "execution_count": null,
      "outputs": [
        {
          "output_type": "execute_result",
          "data": {
            "text/html": [
              "<div>\n",
              "<style scoped>\n",
              "    .dataframe tbody tr th:only-of-type {\n",
              "        vertical-align: middle;\n",
              "    }\n",
              "\n",
              "    .dataframe tbody tr th {\n",
              "        vertical-align: top;\n",
              "    }\n",
              "\n",
              "    .dataframe thead th {\n",
              "        text-align: right;\n",
              "    }\n",
              "</style>\n",
              "<table border=\"1\" class=\"dataframe\">\n",
              "  <thead>\n",
              "    <tr style=\"text-align: right;\">\n",
              "      <th></th>\n",
              "      <th>dt</th>\n",
              "      <th>polarity</th>\n",
              "      <th>sensitivity</th>\n",
              "      <th>DateTime</th>\n",
              "    </tr>\n",
              "  </thead>\n",
              "  <tbody>\n",
              "    <tr>\n",
              "      <th>1970-01-01 00:00:00.000000000</th>\n",
              "      <td>2018-07-11 19:35:15.363270</td>\n",
              "      <td>0.007273</td>\n",
              "      <td>0.590909</td>\n",
              "      <td>2018-07-11 19:00:00</td>\n",
              "    </tr>\n",
              "    <tr>\n",
              "      <th>1970-01-01 00:00:00.000000001</th>\n",
              "      <td>2018-07-11 19:35:15.736769</td>\n",
              "      <td>0.000000</td>\n",
              "      <td>0.000000</td>\n",
              "      <td>2018-07-11 19:00:00</td>\n",
              "    </tr>\n",
              "    <tr>\n",
              "      <th>1970-01-01 00:00:00.000000002</th>\n",
              "      <td>2018-07-11 19:35:15.744769</td>\n",
              "      <td>0.625000</td>\n",
              "      <td>0.500000</td>\n",
              "      <td>2018-07-11 19:00:00</td>\n",
              "    </tr>\n",
              "    <tr>\n",
              "      <th>1970-01-01 00:00:00.000000003</th>\n",
              "      <td>2018-07-11 19:35:15.867339</td>\n",
              "      <td>0.000000</td>\n",
              "      <td>0.175000</td>\n",
              "      <td>2018-07-11 19:00:00</td>\n",
              "    </tr>\n",
              "    <tr>\n",
              "      <th>1970-01-01 00:00:00.000000004</th>\n",
              "      <td>2018-07-11 19:35:16.021448</td>\n",
              "      <td>0.333333</td>\n",
              "      <td>0.500000</td>\n",
              "      <td>2018-07-11 19:00:00</td>\n",
              "    </tr>\n",
              "  </tbody>\n",
              "</table>\n",
              "</div>"
            ],
            "text/plain": [
              "                                                      dt  ...            DateTime\n",
              "1970-01-01 00:00:00.000000000 2018-07-11 19:35:15.363270  ... 2018-07-11 19:00:00\n",
              "1970-01-01 00:00:00.000000001 2018-07-11 19:35:15.736769  ... 2018-07-11 19:00:00\n",
              "1970-01-01 00:00:00.000000002 2018-07-11 19:35:15.744769  ... 2018-07-11 19:00:00\n",
              "1970-01-01 00:00:00.000000003 2018-07-11 19:35:15.867339  ... 2018-07-11 19:00:00\n",
              "1970-01-01 00:00:00.000000004 2018-07-11 19:35:16.021448  ... 2018-07-11 19:00:00\n",
              "\n",
              "[5 rows x 4 columns]"
            ]
          },
          "metadata": {
            "tags": []
          },
          "execution_count": 565
        }
      ]
    },
    {
      "cell_type": "code",
      "metadata": {
        "id": "M-VsUV59HPkI"
      },
      "source": [
        "df = notclean.groupby('DateTime').agg(lambda x: x.mean())"
      ],
      "execution_count": null,
      "outputs": []
    },
    {
      "cell_type": "code",
      "metadata": {
        "id": "xITDKk22HTiA"
      },
      "source": [
        "df['Tweet_vol'] = vdf['tweet_vol']"
      ],
      "execution_count": null,
      "outputs": []
    },
    {
      "cell_type": "code",
      "metadata": {
        "id": "WJQkXMFnHV8i"
      },
      "source": [
        "df = df.drop(df.index[0])"
      ],
      "execution_count": null,
      "outputs": []
    },
    {
      "cell_type": "code",
      "metadata": {
        "colab": {
          "base_uri": "https://localhost:8080/",
          "height": 225
        },
        "id": "xQFnsiAFHY2k",
        "outputId": "c64dc985-3efa-491d-be55-b52459ec9891"
      },
      "source": [
        "df.head()"
      ],
      "execution_count": null,
      "outputs": [
        {
          "output_type": "execute_result",
          "data": {
            "text/html": [
              "<div>\n",
              "<style scoped>\n",
              "    .dataframe tbody tr th:only-of-type {\n",
              "        vertical-align: middle;\n",
              "    }\n",
              "\n",
              "    .dataframe tbody tr th {\n",
              "        vertical-align: top;\n",
              "    }\n",
              "\n",
              "    .dataframe thead th {\n",
              "        text-align: right;\n",
              "    }\n",
              "</style>\n",
              "<table border=\"1\" class=\"dataframe\">\n",
              "  <thead>\n",
              "    <tr style=\"text-align: right;\">\n",
              "      <th></th>\n",
              "      <th>dt</th>\n",
              "      <th>polarity</th>\n",
              "      <th>sensitivity</th>\n",
              "      <th>Tweet_vol</th>\n",
              "    </tr>\n",
              "    <tr>\n",
              "      <th>DateTime</th>\n",
              "      <th></th>\n",
              "      <th></th>\n",
              "      <th></th>\n",
              "      <th></th>\n",
              "    </tr>\n",
              "  </thead>\n",
              "  <tbody>\n",
              "    <tr>\n",
              "      <th>2018-07-11 20:00:00</th>\n",
              "      <td>2018-07-11 20:27:49.510634240</td>\n",
              "      <td>0.102657</td>\n",
              "      <td>0.216148</td>\n",
              "      <td>4354.0</td>\n",
              "    </tr>\n",
              "    <tr>\n",
              "      <th>2018-07-11 21:00:00</th>\n",
              "      <td>2018-07-11 21:28:35.636373760</td>\n",
              "      <td>0.098004</td>\n",
              "      <td>0.218612</td>\n",
              "      <td>4432.0</td>\n",
              "    </tr>\n",
              "    <tr>\n",
              "      <th>2018-07-11 22:00:00</th>\n",
              "      <td>2018-07-11 22:27:44.646708224</td>\n",
              "      <td>0.096688</td>\n",
              "      <td>0.231342</td>\n",
              "      <td>3980.0</td>\n",
              "    </tr>\n",
              "    <tr>\n",
              "      <th>2018-07-11 23:00:00</th>\n",
              "      <td>2018-07-11 23:28:06.455845632</td>\n",
              "      <td>0.103997</td>\n",
              "      <td>0.217739</td>\n",
              "      <td>3830.0</td>\n",
              "    </tr>\n",
              "    <tr>\n",
              "      <th>2018-07-12 00:00:00</th>\n",
              "      <td>2018-07-12 00:28:47.975380992</td>\n",
              "      <td>0.094383</td>\n",
              "      <td>0.195256</td>\n",
              "      <td>3998.0</td>\n",
              "    </tr>\n",
              "  </tbody>\n",
              "</table>\n",
              "</div>"
            ],
            "text/plain": [
              "                                               dt  ...  Tweet_vol\n",
              "DateTime                                           ...           \n",
              "2018-07-11 20:00:00 2018-07-11 20:27:49.510634240  ...     4354.0\n",
              "2018-07-11 21:00:00 2018-07-11 21:28:35.636373760  ...     4432.0\n",
              "2018-07-11 22:00:00 2018-07-11 22:27:44.646708224  ...     3980.0\n",
              "2018-07-11 23:00:00 2018-07-11 23:28:06.455845632  ...     3830.0\n",
              "2018-07-12 00:00:00 2018-07-12 00:28:47.975380992  ...     3998.0\n",
              "\n",
              "[5 rows x 4 columns]"
            ]
          },
          "metadata": {
            "tags": []
          },
          "execution_count": 569
        }
      ]
    },
    {
      "cell_type": "code",
      "metadata": {
        "colab": {
          "base_uri": "https://localhost:8080/",
          "height": 225
        },
        "id": "i9uzLnzdHb5v",
        "outputId": "c49a6e4d-e862-4706-c2a1-4bcc390bfec5"
      },
      "source": [
        "df.tail()"
      ],
      "execution_count": null,
      "outputs": [
        {
          "output_type": "execute_result",
          "data": {
            "text/html": [
              "<div>\n",
              "<style scoped>\n",
              "    .dataframe tbody tr th:only-of-type {\n",
              "        vertical-align: middle;\n",
              "    }\n",
              "\n",
              "    .dataframe tbody tr th {\n",
              "        vertical-align: top;\n",
              "    }\n",
              "\n",
              "    .dataframe thead th {\n",
              "        text-align: right;\n",
              "    }\n",
              "</style>\n",
              "<table border=\"1\" class=\"dataframe\">\n",
              "  <thead>\n",
              "    <tr style=\"text-align: right;\">\n",
              "      <th></th>\n",
              "      <th>dt</th>\n",
              "      <th>polarity</th>\n",
              "      <th>sensitivity</th>\n",
              "      <th>Tweet_vol</th>\n",
              "    </tr>\n",
              "    <tr>\n",
              "      <th>DateTime</th>\n",
              "      <th></th>\n",
              "      <th></th>\n",
              "      <th></th>\n",
              "      <th></th>\n",
              "    </tr>\n",
              "  </thead>\n",
              "  <tbody>\n",
              "    <tr>\n",
              "      <th>2018-07-24 04:00:00</th>\n",
              "      <td>2018-07-24 04:27:40.946246144</td>\n",
              "      <td>0.121358</td>\n",
              "      <td>0.236000</td>\n",
              "      <td>4475.0</td>\n",
              "    </tr>\n",
              "    <tr>\n",
              "      <th>2018-07-24 05:00:00</th>\n",
              "      <td>2018-07-24 05:28:40.424965632</td>\n",
              "      <td>0.095163</td>\n",
              "      <td>0.216924</td>\n",
              "      <td>4808.0</td>\n",
              "    </tr>\n",
              "    <tr>\n",
              "      <th>2018-07-24 06:00:00</th>\n",
              "      <td>2018-07-24 06:30:52.606722816</td>\n",
              "      <td>0.088992</td>\n",
              "      <td>0.220173</td>\n",
              "      <td>6036.0</td>\n",
              "    </tr>\n",
              "    <tr>\n",
              "      <th>2018-07-24 07:00:00</th>\n",
              "      <td>2018-07-24 07:27:29.229672704</td>\n",
              "      <td>0.091439</td>\n",
              "      <td>0.198279</td>\n",
              "      <td>6047.0</td>\n",
              "    </tr>\n",
              "    <tr>\n",
              "      <th>2018-07-24 08:00:00</th>\n",
              "      <td>2018-07-24 08:07:02.674451968</td>\n",
              "      <td>0.071268</td>\n",
              "      <td>0.218217</td>\n",
              "      <td>2444.0</td>\n",
              "    </tr>\n",
              "  </tbody>\n",
              "</table>\n",
              "</div>"
            ],
            "text/plain": [
              "                                               dt  ...  Tweet_vol\n",
              "DateTime                                           ...           \n",
              "2018-07-24 04:00:00 2018-07-24 04:27:40.946246144  ...     4475.0\n",
              "2018-07-24 05:00:00 2018-07-24 05:28:40.424965632  ...     4808.0\n",
              "2018-07-24 06:00:00 2018-07-24 06:30:52.606722816  ...     6036.0\n",
              "2018-07-24 07:00:00 2018-07-24 07:27:29.229672704  ...     6047.0\n",
              "2018-07-24 08:00:00 2018-07-24 08:07:02.674451968  ...     2444.0\n",
              "\n",
              "[5 rows x 4 columns]"
            ]
          },
          "metadata": {
            "tags": []
          },
          "execution_count": 570
        }
      ]
    },
    {
      "cell_type": "code",
      "metadata": {
        "colab": {
          "base_uri": "https://localhost:8080/"
        },
        "id": "9DSb3jaGHetb",
        "outputId": "8b237ec8-311e-4dd0-a248-b01502d5527b"
      },
      "source": [
        "df.info()"
      ],
      "execution_count": null,
      "outputs": [
        {
          "output_type": "stream",
          "text": [
            "<class 'pandas.core.frame.DataFrame'>\n",
            "DatetimeIndex: 301 entries, 2018-07-11 20:00:00 to 2018-07-24 08:00:00\n",
            "Data columns (total 4 columns):\n",
            " #   Column       Non-Null Count  Dtype         \n",
            "---  ------       --------------  -----         \n",
            " 0   dt           301 non-null    datetime64[ns]\n",
            " 1   polarity     301 non-null    float64       \n",
            " 2   sensitivity  301 non-null    float64       \n",
            " 3   Tweet_vol    301 non-null    float64       \n",
            "dtypes: datetime64[ns](1), float64(3)\n",
            "memory usage: 11.8 KB\n"
          ],
          "name": "stdout"
        }
      ]
    },
    {
      "cell_type": "code",
      "metadata": {
        "colab": {
          "base_uri": "https://localhost:8080/"
        },
        "id": "O5d1VH3lxFyX",
        "outputId": "bc0873d6-4aae-4289-9754-a880e300380c"
      },
      "source": [
        "train= pd.read_csv('/content/drive/MyDrive/Datasets/cleanprep.csv',nrows=20000)\n",
        "train.shape"
      ],
      "execution_count": null,
      "outputs": [
        {
          "output_type": "execute_result",
          "data": {
            "text/plain": [
              "(20000, 5)"
            ]
          },
          "metadata": {
            "tags": []
          },
          "execution_count": 572
        }
      ]
    },
    {
      "cell_type": "code",
      "metadata": {
        "colab": {
          "base_uri": "https://localhost:8080/",
          "height": 195
        },
        "id": "PXd1tSxexO3g",
        "outputId": "e1da5d01-5f55-43cf-c15c-c4a0676d9083"
      },
      "source": [
        "train.columns=['date','name','text','sentiment','polarity']\n",
        "train=train.drop(['date','name','polarity'],axis=1)\n",
        "train.head()"
      ],
      "execution_count": null,
      "outputs": [
        {
          "output_type": "execute_result",
          "data": {
            "text/html": [
              "<div>\n",
              "<style scoped>\n",
              "    .dataframe tbody tr th:only-of-type {\n",
              "        vertical-align: middle;\n",
              "    }\n",
              "\n",
              "    .dataframe tbody tr th {\n",
              "        vertical-align: top;\n",
              "    }\n",
              "\n",
              "    .dataframe thead th {\n",
              "        text-align: right;\n",
              "    }\n",
              "</style>\n",
              "<table border=\"1\" class=\"dataframe\">\n",
              "  <thead>\n",
              "    <tr style=\"text-align: right;\">\n",
              "      <th></th>\n",
              "      <th>text</th>\n",
              "      <th>sentiment</th>\n",
              "    </tr>\n",
              "  </thead>\n",
              "  <tbody>\n",
              "    <tr>\n",
              "      <th>0</th>\n",
              "      <td>b'@Miss_rinola But you\\xe2\\x80\\x99ve heard abo...</td>\n",
              "      <td>0.000000</td>\n",
              "    </tr>\n",
              "    <tr>\n",
              "      <th>1</th>\n",
              "      <td>b'Duplicate skilled traders automatically with...</td>\n",
              "      <td>0.625000</td>\n",
              "    </tr>\n",
              "    <tr>\n",
              "      <th>2</th>\n",
              "      <td>b'Project Manager - Technical - FinTech - Cent...</td>\n",
              "      <td>0.000000</td>\n",
              "    </tr>\n",
              "    <tr>\n",
              "      <th>3</th>\n",
              "      <td>b'Coinbase App Downloads Drop, Crypto Hype Fad...</td>\n",
              "      <td>0.333333</td>\n",
              "    </tr>\n",
              "    <tr>\n",
              "      <th>4</th>\n",
              "      <td>b'If you don\\xe2\\x80\\x99t understand Bitcoin, ...</td>\n",
              "      <td>0.000000</td>\n",
              "    </tr>\n",
              "  </tbody>\n",
              "</table>\n",
              "</div>"
            ],
            "text/plain": [
              "                                                text  sentiment\n",
              "0  b'@Miss_rinola But you\\xe2\\x80\\x99ve heard abo...   0.000000\n",
              "1  b'Duplicate skilled traders automatically with...   0.625000\n",
              "2  b'Project Manager - Technical - FinTech - Cent...   0.000000\n",
              "3  b'Coinbase App Downloads Drop, Crypto Hype Fad...   0.333333\n",
              "4  b'If you don\\xe2\\x80\\x99t understand Bitcoin, ...   0.000000"
            ]
          },
          "metadata": {
            "tags": []
          },
          "execution_count": 573
        }
      ]
    },
    {
      "cell_type": "code",
      "metadata": {
        "colab": {
          "base_uri": "https://localhost:8080/"
        },
        "id": "SLDffSsfxRlP",
        "outputId": "d3c326b2-c43c-4249-d820-ab4dc880d345"
      },
      "source": [
        "import nltk\n",
        "nltk.download('stopwords')\n",
        "#lets save stopwords in a variable\n",
        "stop = list(stopwords.words(\"english\"))\n",
        "print(stop)"
      ],
      "execution_count": null,
      "outputs": [
        {
          "output_type": "stream",
          "text": [
            "[nltk_data] Downloading package stopwords to /root/nltk_data...\n",
            "[nltk_data]   Package stopwords is already up-to-date!\n",
            "['i', 'me', 'my', 'myself', 'we', 'our', 'ours', 'ourselves', 'you', \"you're\", \"you've\", \"you'll\", \"you'd\", 'your', 'yours', 'yourself', 'yourselves', 'he', 'him', 'his', 'himself', 'she', \"she's\", 'her', 'hers', 'herself', 'it', \"it's\", 'its', 'itself', 'they', 'them', 'their', 'theirs', 'themselves', 'what', 'which', 'who', 'whom', 'this', 'that', \"that'll\", 'these', 'those', 'am', 'is', 'are', 'was', 'were', 'be', 'been', 'being', 'have', 'has', 'had', 'having', 'do', 'does', 'did', 'doing', 'a', 'an', 'the', 'and', 'but', 'if', 'or', 'because', 'as', 'until', 'while', 'of', 'at', 'by', 'for', 'with', 'about', 'against', 'between', 'into', 'through', 'during', 'before', 'after', 'above', 'below', 'to', 'from', 'up', 'down', 'in', 'out', 'on', 'off', 'over', 'under', 'again', 'further', 'then', 'once', 'here', 'there', 'when', 'where', 'why', 'how', 'all', 'any', 'both', 'each', 'few', 'more', 'most', 'other', 'some', 'such', 'no', 'nor', 'not', 'only', 'own', 'same', 'so', 'than', 'too', 'very', 's', 't', 'can', 'will', 'just', 'don', \"don't\", 'should', \"should've\", 'now', 'd', 'll', 'm', 'o', 're', 've', 'y', 'ain', 'aren', \"aren't\", 'couldn', \"couldn't\", 'didn', \"didn't\", 'doesn', \"doesn't\", 'hadn', \"hadn't\", 'hasn', \"hasn't\", 'haven', \"haven't\", 'isn', \"isn't\", 'ma', 'mightn', \"mightn't\", 'mustn', \"mustn't\", 'needn', \"needn't\", 'shan', \"shan't\", 'shouldn', \"shouldn't\", 'wasn', \"wasn't\", 'weren', \"weren't\", 'won', \"won't\", 'wouldn', \"wouldn't\"]\n"
          ],
          "name": "stdout"
        }
      ]
    },
    {
      "cell_type": "code",
      "metadata": {
        "colab": {
          "base_uri": "https://localhost:8080/"
        },
        "id": "1vD8aKXcxWWV",
        "outputId": "8d6b907a-f910-4455-aa10-af2f23a696b1"
      },
      "source": [
        "# save list of punctuation/special characters in a variable\n",
        "punctuation = list(string.punctuation)\n",
        "print(punctuation)"
      ],
      "execution_count": null,
      "outputs": [
        {
          "output_type": "stream",
          "text": [
            "['!', '\"', '#', '$', '%', '&', \"'\", '(', ')', '*', '+', ',', '-', '.', '/', ':', ';', '<', '=', '>', '?', '@', '[', '\\\\', ']', '^', '_', '`', '{', '|', '}', '~']\n"
          ],
          "name": "stdout"
        }
      ]
    },
    {
      "cell_type": "code",
      "metadata": {
        "id": "u1sFGr6IxYvO"
      },
      "source": [
        "# create an object to convert the words to its lemma form\n",
        "lemma = WordNetLemmatizer()"
      ],
      "execution_count": null,
      "outputs": []
    },
    {
      "cell_type": "code",
      "metadata": {
        "id": "fkLX46sJxdmJ"
      },
      "source": [
        "# lets make a combine list of stopwords and punctuations\n",
        "sw_pun = stop + punctuation"
      ],
      "execution_count": null,
      "outputs": []
    },
    {
      "cell_type": "code",
      "metadata": {
        "id": "Pnzv-b6rxh_z"
      },
      "source": [
        "# function to preprocess the messages\n",
        "def preprocess(tweet):\n",
        "    tweet = re.sub(r\"https?:\\/\\/t.co\\/[A-Za-z0-9]+\", \"\", tweet) # removing urls \n",
        "    tweet = re.sub('[^\\w]',' ',tweet) # remove embedded special characters in words (for example #earthquake)         \n",
        "    #tweet = re.sub('[\\d]','',tweet) # this will remove numeric characters\n",
        "    tweet = tweet.lower()\n",
        "    words = tweet.split()  \n",
        "    sentence = \"\"\n",
        "    for word in words:     \n",
        "        if word not in (sw_pun):  # removing stopwords & punctuations                \n",
        "            word = lemma.lemmatize(word,pos = 'v')  # converting to lemma    \n",
        "            if len(word) > 3: # we will consider words with length  greater than 3 only\n",
        "                sentence = sentence + word + ' '             \n",
        "    return(sentence)"
      ],
      "execution_count": null,
      "outputs": []
    },
    {
      "cell_type": "code",
      "metadata": {
        "colab": {
          "base_uri": "https://localhost:8080/"
        },
        "id": "52_QORgDxtCC",
        "outputId": "9b2652de-a964-4dc7-a4ac-a45f9bb7df8f"
      },
      "source": [
        "nltk.download('wordnet')\n",
        "# apply preprocessing functions on the train and test datasets\n",
        "train['text'] = train['text'].apply(lambda s : preprocess(s))"
      ],
      "execution_count": null,
      "outputs": [
        {
          "output_type": "stream",
          "text": [
            "[nltk_data] Downloading package wordnet to /root/nltk_data...\n",
            "[nltk_data]   Package wordnet is already up-to-date!\n"
          ],
          "name": "stdout"
        }
      ]
    },
    {
      "cell_type": "code",
      "metadata": {
        "id": "YEiwZk9AxuCp"
      },
      "source": [
        "# function to remove emojis\n",
        "def remove_emoji(text):\n",
        "    emoji_pattern = re.compile(\"[\"\n",
        "                           u\"\\U0001F600-\\U0001F64F\"  # emoticons\n",
        "                           u\"\\U0001F300-\\U0001F5FF\"  # symbols & pictographs\n",
        "                           u\"\\U0001F680-\\U0001F6FF\"  # transport & map symbols\n",
        "                           u\"\\U0001F1E0-\\U0001F1FF\"  # flags (iOS)\n",
        "                           u\"\\U00002702-\\U000027B0\"\n",
        "                           u\"\\U000024C2-\\U0001F251\"\n",
        "                           \"]+\", flags=re.UNICODE)\n",
        "    return emoji_pattern.sub(r'', text)"
      ],
      "execution_count": null,
      "outputs": []
    },
    {
      "cell_type": "code",
      "metadata": {
        "id": "y_tLTKTKxwPM"
      },
      "source": [
        "# applying the function on the train and the test datasets\n",
        "train['text'] = train['text'].apply(lambda s : remove_emoji(s))"
      ],
      "execution_count": null,
      "outputs": []
    },
    {
      "cell_type": "markdown",
      "metadata": {
        "id": "JaN0AAJxuQgK"
      },
      "source": [
        "#Vocabulary Creation"
      ]
    },
    {
      "cell_type": "code",
      "metadata": {
        "id": "NXjyOAAGuXLT"
      },
      "source": [
        "# function to create vocab\n",
        "from collections import Counter\n",
        "def create_vocab(df):\n",
        "    vocab = Counter()\n",
        "    for i in range(df.shape[0]):\n",
        "        vocab.update(df.text[i].split())\n",
        "    return(vocab)"
      ],
      "execution_count": null,
      "outputs": []
    },
    {
      "cell_type": "code",
      "metadata": {
        "colab": {
          "base_uri": "https://localhost:8080/"
        },
        "id": "xyn_y-3mubf6",
        "outputId": "b150aa16-b338-4c07-e8e8-3ef909e06e1b"
      },
      "source": [
        "# concatenate training and testing datasets\n",
        "master=train.reset_index(drop=True)\n",
        "\n",
        "# call vocabulary creation function on master dataset\n",
        "vocab = create_vocab(master)\n",
        "\n",
        "# lets check the no. of words in the vocabulary\n",
        "len(vocab)"
      ],
      "execution_count": null,
      "outputs": [
        {
          "output_type": "execute_result",
          "data": {
            "text/plain": [
              "19951"
            ]
          },
          "metadata": {
            "tags": []
          },
          "execution_count": 583
        }
      ]
    },
    {
      "cell_type": "code",
      "metadata": {
        "colab": {
          "base_uri": "https://localhost:8080/"
        },
        "id": "U2UzlhX2zHnM",
        "outputId": "958b2046-00cc-49e9-d940-c9d7aa10c3c6"
      },
      "source": [
        "# lets check the most common 50 words in the vocabulary\n",
        "vocab.most_common(50)"
      ],
      "execution_count": null,
      "outputs": [
        {
          "output_type": "execute_result",
          "data": {
            "text/plain": [
              "[('bitcoin', 10895),\n",
              " ('crypto', 3131),\n",
              " ('price', 2043),\n",
              " ('blockchain', 1707),\n",
              " ('cryptocurrency', 1464),\n",
              " ('ethereum', 1277),\n",
              " ('exchange', 899),\n",
              " ('copy', 842),\n",
              " ('traders', 728),\n",
              " ('automatically', 686),\n",
              " ('wangzai888', 682),\n",
              " ('trade', 678),\n",
              " ('market', 582),\n",
              " ('2018', 577),\n",
              " ('airdrop', 531),\n",
              " ('money', 515),\n",
              " ('x99s', 507),\n",
              " ('cash', 485),\n",
              " ('news', 469),\n",
              " ('nbtc', 450),\n",
              " ('project', 434),\n",
              " ('sell', 430),\n",
              " ('ripple', 426),\n",
              " ('free', 424),\n",
              " ('current', 420),\n",
              " ('make', 417),\n",
              " ('litecoin', 413),\n",
              " ('binance', 393),\n",
              " ('leverage', 368),\n",
              " ('bitmex', 368),\n",
              " ('coin', 359),\n",
              " ('india', 338),\n",
              " ('know', 337),\n",
              " ('time', 335),\n",
              " ('100x', 328),\n",
              " ('neth', 325),\n",
              " ('look', 323),\n",
              " ('live', 318),\n",
              " ('best', 314),\n",
              " ('mine', 314),\n",
              " ('covesting', 313),\n",
              " ('hackney', 306),\n",
              " ('blackpool', 305),\n",
              " ('kent', 305),\n",
              " ('solihul', 305),\n",
              " ('southall', 305),\n",
              " ('scotland', 305),\n",
              " ('nottinghill', 305),\n",
              " ('delhi', 305),\n",
              " ('britainfirst', 305)]"
            ]
          },
          "metadata": {
            "tags": []
          },
          "execution_count": 584
        }
      ]
    },
    {
      "cell_type": "code",
      "metadata": {
        "id": "GOmyBsshzL6e"
      },
      "source": [
        "# create the final vocab by considering words with more than one occurence\n",
        "final_vocab = []\n",
        "min_occur = 2\n",
        "for k,v in vocab.items():\n",
        "    if v >= min_occur:\n",
        "        final_vocab.append(k)"
      ],
      "execution_count": null,
      "outputs": []
    },
    {
      "cell_type": "code",
      "metadata": {
        "colab": {
          "base_uri": "https://localhost:8080/"
        },
        "id": "BTwJv1EnzSIo",
        "outputId": "8c24b439-8f47-4e83-e599-6480f9697230"
      },
      "source": [
        "# lets check the no. of the words in the final vocabulary\n",
        "vocab_size = len(final_vocab)\n",
        "vocab_size"
      ],
      "execution_count": null,
      "outputs": [
        {
          "output_type": "execute_result",
          "data": {
            "text/plain": [
              "7854"
            ]
          },
          "metadata": {
            "tags": []
          },
          "execution_count": 586
        }
      ]
    },
    {
      "cell_type": "code",
      "metadata": {
        "id": "Eq-ASt4FzZOU"
      },
      "source": [
        "# function to filter the dataset, keep only words which are present in the vocab\n",
        "def filter(tweet):\n",
        "    sentence = \"\"\n",
        "    for word in tweet.split():  \n",
        "        if word in final_vocab:\n",
        "            sentence = sentence + word + ' '\n",
        "    return(sentence)"
      ],
      "execution_count": null,
      "outputs": []
    },
    {
      "cell_type": "code",
      "metadata": {
        "colab": {
          "base_uri": "https://localhost:8080/",
          "height": 343
        },
        "id": "d0pGAg_mzfGg",
        "outputId": "e813e526-0c25-4221-83e9-be96ebfe7323"
      },
      "source": [
        "# apply filter function on the train and test datasets\n",
        "train['text'] = train['text'].apply(lambda s : filter(s))\n",
        "train.sample(10)"
      ],
      "execution_count": null,
      "outputs": [
        {
          "output_type": "execute_result",
          "data": {
            "text/html": [
              "<div>\n",
              "<style scoped>\n",
              "    .dataframe tbody tr th:only-of-type {\n",
              "        vertical-align: middle;\n",
              "    }\n",
              "\n",
              "    .dataframe tbody tr th {\n",
              "        vertical-align: top;\n",
              "    }\n",
              "\n",
              "    .dataframe thead th {\n",
              "        text-align: right;\n",
              "    }\n",
              "</style>\n",
              "<table border=\"1\" class=\"dataframe\">\n",
              "  <thead>\n",
              "    <tr style=\"text-align: right;\">\n",
              "      <th></th>\n",
              "      <th>text</th>\n",
              "      <th>sentiment</th>\n",
              "    </tr>\n",
              "  </thead>\n",
              "  <tbody>\n",
              "    <tr>\n",
              "      <th>2923</th>\n",
              "      <td>money historical approach bitcoin money japan</td>\n",
              "      <td>0.000000</td>\n",
              "    </tr>\n",
              "    <tr>\n",
              "      <th>19309</th>\n",
              "      <td>iran could become first country force bitcoin ...</td>\n",
              "      <td>-0.025000</td>\n",
              "    </tr>\n",
              "    <tr>\n",
              "      <th>3721</th>\n",
              "      <td>latest episode live cboe bitcoin decision date...</td>\n",
              "      <td>0.335227</td>\n",
              "    </tr>\n",
              "    <tr>\n",
              "      <th>10774</th>\n",
              "      <td>bitcoin bitcoincash transaction bitcoin bitcoi...</td>\n",
              "      <td>0.000000</td>\n",
              "    </tr>\n",
              "    <tr>\n",
              "      <th>2031</th>\n",
              "      <td>criptodolar crypto trade 2018 dash</td>\n",
              "      <td>0.000000</td>\n",
              "    </tr>\n",
              "    <tr>\n",
              "      <th>10895</th>\n",
              "      <td>xa5711 mini lisk</td>\n",
              "      <td>0.000000</td>\n",
              "    </tr>\n",
              "    <tr>\n",
              "      <th>3576</th>\n",
              "      <td>well</td>\n",
              "      <td>0.000000</td>\n",
              "    </tr>\n",
              "    <tr>\n",
              "      <th>14079</th>\n",
              "      <td></td>\n",
              "      <td>0.000000</td>\n",
              "    </tr>\n",
              "    <tr>\n",
              "      <th>14488</th>\n",
              "      <td>btcp btcp fork trade invest privacy</td>\n",
              "      <td>0.000000</td>\n",
              "    </tr>\n",
              "    <tr>\n",
              "      <th>7058</th>\n",
              "      <td>mb8coin read understand project believe mb8coi...</td>\n",
              "      <td>0.750000</td>\n",
              "    </tr>\n",
              "  </tbody>\n",
              "</table>\n",
              "</div>"
            ],
            "text/plain": [
              "                                                    text  sentiment\n",
              "2923      money historical approach bitcoin money japan    0.000000\n",
              "19309  iran could become first country force bitcoin ...  -0.025000\n",
              "3721   latest episode live cboe bitcoin decision date...   0.335227\n",
              "10774  bitcoin bitcoincash transaction bitcoin bitcoi...   0.000000\n",
              "2031                 criptodolar crypto trade 2018 dash    0.000000\n",
              "10895                                  xa5711 mini lisk    0.000000\n",
              "3576                                               well    0.000000\n",
              "14079                                                      0.000000\n",
              "14488               btcp btcp fork trade invest privacy    0.000000\n",
              "7058   mb8coin read understand project believe mb8coi...   0.750000"
            ]
          },
          "metadata": {
            "tags": []
          },
          "execution_count": 588
        }
      ]
    },
    {
      "cell_type": "code",
      "metadata": {
        "id": "WMB98SEDHivE"
      },
      "source": [
        "btcDF = pd.read_csv('/content/drive/MyDrive/Datasets/btcSave2.csv', error_bad_lines=False,engine = 'python')"
      ],
      "execution_count": null,
      "outputs": []
    },
    {
      "cell_type": "code",
      "metadata": {
        "id": "TgC7PPGPHisK"
      },
      "source": [
        "btcDF['Timestamp'] = pd.to_datetime(btcDF['Timestamp'])\n",
        "btcDF = btcDF.set_index(pd.DatetimeIndex(btcDF['Timestamp']))"
      ],
      "execution_count": null,
      "outputs": []
    },
    {
      "cell_type": "code",
      "metadata": {
        "colab": {
          "base_uri": "https://localhost:8080/",
          "height": 225
        },
        "id": "W_c_4pCgHtGz",
        "outputId": "7383bf18-18ce-4f5a-a0c5-d935f5a49842"
      },
      "source": [
        "btcDF.head()"
      ],
      "execution_count": null,
      "outputs": [
        {
          "output_type": "execute_result",
          "data": {
            "text/html": [
              "<div>\n",
              "<style scoped>\n",
              "    .dataframe tbody tr th:only-of-type {\n",
              "        vertical-align: middle;\n",
              "    }\n",
              "\n",
              "    .dataframe tbody tr th {\n",
              "        vertical-align: top;\n",
              "    }\n",
              "\n",
              "    .dataframe thead th {\n",
              "        text-align: right;\n",
              "    }\n",
              "</style>\n",
              "<table border=\"1\" class=\"dataframe\">\n",
              "  <thead>\n",
              "    <tr style=\"text-align: right;\">\n",
              "      <th></th>\n",
              "      <th>Timestamp</th>\n",
              "      <th>Open</th>\n",
              "      <th>High</th>\n",
              "      <th>Low</th>\n",
              "      <th>Close</th>\n",
              "      <th>Volume (BTC)</th>\n",
              "      <th>Volume (Currency)</th>\n",
              "      <th>Weighted Price</th>\n",
              "    </tr>\n",
              "    <tr>\n",
              "      <th>Timestamp</th>\n",
              "      <th></th>\n",
              "      <th></th>\n",
              "      <th></th>\n",
              "      <th></th>\n",
              "      <th></th>\n",
              "      <th></th>\n",
              "      <th></th>\n",
              "      <th></th>\n",
              "    </tr>\n",
              "  </thead>\n",
              "  <tbody>\n",
              "    <tr>\n",
              "      <th>2018-07-10 01:00:00</th>\n",
              "      <td>2018-07-10 01:00:00</td>\n",
              "      <td>6666.75</td>\n",
              "      <td>6683.90</td>\n",
              "      <td>6635.59</td>\n",
              "      <td>6669.73</td>\n",
              "      <td>281.73</td>\n",
              "      <td>1875693.72</td>\n",
              "      <td>6657.70</td>\n",
              "    </tr>\n",
              "    <tr>\n",
              "      <th>2018-07-10 02:00:00</th>\n",
              "      <td>2018-07-10 02:00:00</td>\n",
              "      <td>6662.44</td>\n",
              "      <td>6674.60</td>\n",
              "      <td>6647.00</td>\n",
              "      <td>6647.00</td>\n",
              "      <td>174.10</td>\n",
              "      <td>1160103.29</td>\n",
              "      <td>6663.38</td>\n",
              "    </tr>\n",
              "    <tr>\n",
              "      <th>2018-07-10 03:00:00</th>\n",
              "      <td>2018-07-10 03:00:00</td>\n",
              "      <td>6652.52</td>\n",
              "      <td>6662.82</td>\n",
              "      <td>6621.99</td>\n",
              "      <td>6632.53</td>\n",
              "      <td>231.41</td>\n",
              "      <td>1536936.22</td>\n",
              "      <td>6641.70</td>\n",
              "    </tr>\n",
              "    <tr>\n",
              "      <th>2018-07-10 04:00:00</th>\n",
              "      <td>2018-07-10 04:00:00</td>\n",
              "      <td>6631.17</td>\n",
              "      <td>6655.48</td>\n",
              "      <td>6625.54</td>\n",
              "      <td>6635.92</td>\n",
              "      <td>120.38</td>\n",
              "      <td>799154.77</td>\n",
              "      <td>6638.52</td>\n",
              "    </tr>\n",
              "    <tr>\n",
              "      <th>2018-07-10 05:00:00</th>\n",
              "      <td>2018-07-10 05:00:00</td>\n",
              "      <td>6632.81</td>\n",
              "      <td>6651.06</td>\n",
              "      <td>6627.64</td>\n",
              "      <td>6640.57</td>\n",
              "      <td>94.00</td>\n",
              "      <td>624289.31</td>\n",
              "      <td>6641.32</td>\n",
              "    </tr>\n",
              "  </tbody>\n",
              "</table>\n",
              "</div>"
            ],
            "text/plain": [
              "                              Timestamp  ...  Weighted Price\n",
              "Timestamp                                ...                \n",
              "2018-07-10 01:00:00 2018-07-10 01:00:00  ...         6657.70\n",
              "2018-07-10 02:00:00 2018-07-10 02:00:00  ...         6663.38\n",
              "2018-07-10 03:00:00 2018-07-10 03:00:00  ...         6641.70\n",
              "2018-07-10 04:00:00 2018-07-10 04:00:00  ...         6638.52\n",
              "2018-07-10 05:00:00 2018-07-10 05:00:00  ...         6641.32\n",
              "\n",
              "[5 rows x 8 columns]"
            ]
          },
          "metadata": {
            "tags": []
          },
          "execution_count": 591
        }
      ]
    },
    {
      "cell_type": "code",
      "metadata": {
        "id": "ycNEyUoYHwDR"
      },
      "source": [
        "btcDF = btcDF.drop(['Timestamp'], axis=1)"
      ],
      "execution_count": null,
      "outputs": []
    },
    {
      "cell_type": "code",
      "metadata": {
        "colab": {
          "base_uri": "https://localhost:8080/",
          "height": 225
        },
        "id": "vsLa53n6Hyvk",
        "outputId": "79c48516-6106-4ed1-ebeb-a6f8b6c20a70"
      },
      "source": [
        "btcDF.head()"
      ],
      "execution_count": null,
      "outputs": [
        {
          "output_type": "execute_result",
          "data": {
            "text/html": [
              "<div>\n",
              "<style scoped>\n",
              "    .dataframe tbody tr th:only-of-type {\n",
              "        vertical-align: middle;\n",
              "    }\n",
              "\n",
              "    .dataframe tbody tr th {\n",
              "        vertical-align: top;\n",
              "    }\n",
              "\n",
              "    .dataframe thead th {\n",
              "        text-align: right;\n",
              "    }\n",
              "</style>\n",
              "<table border=\"1\" class=\"dataframe\">\n",
              "  <thead>\n",
              "    <tr style=\"text-align: right;\">\n",
              "      <th></th>\n",
              "      <th>Open</th>\n",
              "      <th>High</th>\n",
              "      <th>Low</th>\n",
              "      <th>Close</th>\n",
              "      <th>Volume (BTC)</th>\n",
              "      <th>Volume (Currency)</th>\n",
              "      <th>Weighted Price</th>\n",
              "    </tr>\n",
              "    <tr>\n",
              "      <th>Timestamp</th>\n",
              "      <th></th>\n",
              "      <th></th>\n",
              "      <th></th>\n",
              "      <th></th>\n",
              "      <th></th>\n",
              "      <th></th>\n",
              "      <th></th>\n",
              "    </tr>\n",
              "  </thead>\n",
              "  <tbody>\n",
              "    <tr>\n",
              "      <th>2018-07-10 01:00:00</th>\n",
              "      <td>6666.75</td>\n",
              "      <td>6683.90</td>\n",
              "      <td>6635.59</td>\n",
              "      <td>6669.73</td>\n",
              "      <td>281.73</td>\n",
              "      <td>1875693.72</td>\n",
              "      <td>6657.70</td>\n",
              "    </tr>\n",
              "    <tr>\n",
              "      <th>2018-07-10 02:00:00</th>\n",
              "      <td>6662.44</td>\n",
              "      <td>6674.60</td>\n",
              "      <td>6647.00</td>\n",
              "      <td>6647.00</td>\n",
              "      <td>174.10</td>\n",
              "      <td>1160103.29</td>\n",
              "      <td>6663.38</td>\n",
              "    </tr>\n",
              "    <tr>\n",
              "      <th>2018-07-10 03:00:00</th>\n",
              "      <td>6652.52</td>\n",
              "      <td>6662.82</td>\n",
              "      <td>6621.99</td>\n",
              "      <td>6632.53</td>\n",
              "      <td>231.41</td>\n",
              "      <td>1536936.22</td>\n",
              "      <td>6641.70</td>\n",
              "    </tr>\n",
              "    <tr>\n",
              "      <th>2018-07-10 04:00:00</th>\n",
              "      <td>6631.17</td>\n",
              "      <td>6655.48</td>\n",
              "      <td>6625.54</td>\n",
              "      <td>6635.92</td>\n",
              "      <td>120.38</td>\n",
              "      <td>799154.77</td>\n",
              "      <td>6638.52</td>\n",
              "    </tr>\n",
              "    <tr>\n",
              "      <th>2018-07-10 05:00:00</th>\n",
              "      <td>6632.81</td>\n",
              "      <td>6651.06</td>\n",
              "      <td>6627.64</td>\n",
              "      <td>6640.57</td>\n",
              "      <td>94.00</td>\n",
              "      <td>624289.31</td>\n",
              "      <td>6641.32</td>\n",
              "    </tr>\n",
              "  </tbody>\n",
              "</table>\n",
              "</div>"
            ],
            "text/plain": [
              "                        Open     High  ...  Volume (Currency)  Weighted Price\n",
              "Timestamp                              ...                                   \n",
              "2018-07-10 01:00:00  6666.75  6683.90  ...         1875693.72         6657.70\n",
              "2018-07-10 02:00:00  6662.44  6674.60  ...         1160103.29         6663.38\n",
              "2018-07-10 03:00:00  6652.52  6662.82  ...         1536936.22         6641.70\n",
              "2018-07-10 04:00:00  6631.17  6655.48  ...          799154.77         6638.52\n",
              "2018-07-10 05:00:00  6632.81  6651.06  ...          624289.31         6641.32\n",
              "\n",
              "[5 rows x 7 columns]"
            ]
          },
          "metadata": {
            "tags": []
          },
          "execution_count": 593
        }
      ]
    },
    {
      "cell_type": "code",
      "metadata": {
        "id": "QeMJ1j1sH1kB"
      },
      "source": [
        "Final_df = pd.merge(df,btcDF, how='inner',left_index=True, right_index=True)"
      ],
      "execution_count": null,
      "outputs": []
    },
    {
      "cell_type": "code",
      "metadata": {
        "colab": {
          "base_uri": "https://localhost:8080/",
          "height": 380
        },
        "id": "ctqCq3zxH4ZD",
        "outputId": "e620acc1-44ab-402b-e28b-0d25ec3004b1"
      },
      "source": [
        "Final_df.head()"
      ],
      "execution_count": null,
      "outputs": [
        {
          "output_type": "execute_result",
          "data": {
            "text/html": [
              "<div>\n",
              "<style scoped>\n",
              "    .dataframe tbody tr th:only-of-type {\n",
              "        vertical-align: middle;\n",
              "    }\n",
              "\n",
              "    .dataframe tbody tr th {\n",
              "        vertical-align: top;\n",
              "    }\n",
              "\n",
              "    .dataframe thead th {\n",
              "        text-align: right;\n",
              "    }\n",
              "</style>\n",
              "<table border=\"1\" class=\"dataframe\">\n",
              "  <thead>\n",
              "    <tr style=\"text-align: right;\">\n",
              "      <th></th>\n",
              "      <th>dt</th>\n",
              "      <th>polarity</th>\n",
              "      <th>sensitivity</th>\n",
              "      <th>Tweet_vol</th>\n",
              "      <th>Open</th>\n",
              "      <th>High</th>\n",
              "      <th>Low</th>\n",
              "      <th>Close</th>\n",
              "      <th>Volume (BTC)</th>\n",
              "      <th>Volume (Currency)</th>\n",
              "      <th>Weighted Price</th>\n",
              "    </tr>\n",
              "  </thead>\n",
              "  <tbody>\n",
              "    <tr>\n",
              "      <th>2018-07-11 20:00:00</th>\n",
              "      <td>2018-07-11 20:27:49.510634240</td>\n",
              "      <td>0.102657</td>\n",
              "      <td>0.216148</td>\n",
              "      <td>4354.0</td>\n",
              "      <td>6342.97</td>\n",
              "      <td>6354.19</td>\n",
              "      <td>6291.00</td>\n",
              "      <td>6350.00</td>\n",
              "      <td>986.73</td>\n",
              "      <td>6231532.37</td>\n",
              "      <td>6315.33</td>\n",
              "    </tr>\n",
              "    <tr>\n",
              "      <th>2018-07-11 21:00:00</th>\n",
              "      <td>2018-07-11 21:28:35.636373760</td>\n",
              "      <td>0.098004</td>\n",
              "      <td>0.218612</td>\n",
              "      <td>4432.0</td>\n",
              "      <td>6352.99</td>\n",
              "      <td>6370.00</td>\n",
              "      <td>6345.76</td>\n",
              "      <td>6356.48</td>\n",
              "      <td>126.46</td>\n",
              "      <td>804221.55</td>\n",
              "      <td>6359.53</td>\n",
              "    </tr>\n",
              "    <tr>\n",
              "      <th>2018-07-11 22:00:00</th>\n",
              "      <td>2018-07-11 22:27:44.646708224</td>\n",
              "      <td>0.096688</td>\n",
              "      <td>0.231342</td>\n",
              "      <td>3980.0</td>\n",
              "      <td>6350.85</td>\n",
              "      <td>6378.47</td>\n",
              "      <td>6345.00</td>\n",
              "      <td>6361.93</td>\n",
              "      <td>259.10</td>\n",
              "      <td>1646353.87</td>\n",
              "      <td>6354.12</td>\n",
              "    </tr>\n",
              "    <tr>\n",
              "      <th>2018-07-11 23:00:00</th>\n",
              "      <td>2018-07-11 23:28:06.455845632</td>\n",
              "      <td>0.103997</td>\n",
              "      <td>0.217739</td>\n",
              "      <td>3830.0</td>\n",
              "      <td>6362.36</td>\n",
              "      <td>6381.25</td>\n",
              "      <td>6356.74</td>\n",
              "      <td>6368.78</td>\n",
              "      <td>81.54</td>\n",
              "      <td>519278.69</td>\n",
              "      <td>6368.23</td>\n",
              "    </tr>\n",
              "    <tr>\n",
              "      <th>2018-07-12 00:00:00</th>\n",
              "      <td>2018-07-12 00:28:47.975380992</td>\n",
              "      <td>0.094383</td>\n",
              "      <td>0.195256</td>\n",
              "      <td>3998.0</td>\n",
              "      <td>6369.49</td>\n",
              "      <td>6381.25</td>\n",
              "      <td>6361.83</td>\n",
              "      <td>6380.00</td>\n",
              "      <td>124.55</td>\n",
              "      <td>793560.22</td>\n",
              "      <td>6371.51</td>\n",
              "    </tr>\n",
              "  </tbody>\n",
              "</table>\n",
              "</div>"
            ],
            "text/plain": [
              "                                               dt  ...  Weighted Price\n",
              "2018-07-11 20:00:00 2018-07-11 20:27:49.510634240  ...         6315.33\n",
              "2018-07-11 21:00:00 2018-07-11 21:28:35.636373760  ...         6359.53\n",
              "2018-07-11 22:00:00 2018-07-11 22:27:44.646708224  ...         6354.12\n",
              "2018-07-11 23:00:00 2018-07-11 23:28:06.455845632  ...         6368.23\n",
              "2018-07-12 00:00:00 2018-07-12 00:28:47.975380992  ...         6371.51\n",
              "\n",
              "[5 rows x 11 columns]"
            ]
          },
          "metadata": {
            "tags": []
          },
          "execution_count": 595
        }
      ]
    },
    {
      "cell_type": "code",
      "metadata": {
        "colab": {
          "base_uri": "https://localhost:8080/"
        },
        "id": "TCBpS4saH9YQ",
        "outputId": "644cc214-ee24-43bf-cf24-1e03f53a6021"
      },
      "source": [
        "Final_df.info()"
      ],
      "execution_count": null,
      "outputs": [
        {
          "output_type": "stream",
          "text": [
            "<class 'pandas.core.frame.DataFrame'>\n",
            "DatetimeIndex: 294 entries, 2018-07-11 20:00:00 to 2018-07-24 01:00:00\n",
            "Data columns (total 11 columns):\n",
            " #   Column             Non-Null Count  Dtype         \n",
            "---  ------             --------------  -----         \n",
            " 0   dt                 294 non-null    datetime64[ns]\n",
            " 1   polarity           294 non-null    float64       \n",
            " 2   sensitivity        294 non-null    float64       \n",
            " 3   Tweet_vol          294 non-null    float64       \n",
            " 4   Open               294 non-null    float64       \n",
            " 5   High               294 non-null    float64       \n",
            " 6   Low                294 non-null    float64       \n",
            " 7   Close              294 non-null    float64       \n",
            " 8   Volume (BTC)       294 non-null    float64       \n",
            " 9   Volume (Currency)  294 non-null    float64       \n",
            " 10  Weighted Price     294 non-null    float64       \n",
            "dtypes: datetime64[ns](1), float64(10)\n",
            "memory usage: 27.6 KB\n"
          ],
          "name": "stdout"
        }
      ]
    },
    {
      "cell_type": "code",
      "metadata": {
        "id": "_dRxp6q1IA12"
      },
      "source": [
        "Final_df=Final_df.drop(['Weighted Price'],axis=1 )\n"
      ],
      "execution_count": null,
      "outputs": []
    },
    {
      "cell_type": "code",
      "metadata": {
        "colab": {
          "base_uri": "https://localhost:8080/",
          "height": 296
        },
        "id": "gd5J7U4KJSzi",
        "outputId": "c5e26152-d6d2-49aa-924c-eff112a72256"
      },
      "source": [
        "Final_df.head()"
      ],
      "execution_count": null,
      "outputs": [
        {
          "output_type": "execute_result",
          "data": {
            "text/html": [
              "<div>\n",
              "<style scoped>\n",
              "    .dataframe tbody tr th:only-of-type {\n",
              "        vertical-align: middle;\n",
              "    }\n",
              "\n",
              "    .dataframe tbody tr th {\n",
              "        vertical-align: top;\n",
              "    }\n",
              "\n",
              "    .dataframe thead th {\n",
              "        text-align: right;\n",
              "    }\n",
              "</style>\n",
              "<table border=\"1\" class=\"dataframe\">\n",
              "  <thead>\n",
              "    <tr style=\"text-align: right;\">\n",
              "      <th></th>\n",
              "      <th>dt</th>\n",
              "      <th>polarity</th>\n",
              "      <th>sensitivity</th>\n",
              "      <th>Tweet_vol</th>\n",
              "      <th>Open</th>\n",
              "      <th>High</th>\n",
              "      <th>Low</th>\n",
              "      <th>Close</th>\n",
              "      <th>Volume (BTC)</th>\n",
              "      <th>Volume (Currency)</th>\n",
              "    </tr>\n",
              "  </thead>\n",
              "  <tbody>\n",
              "    <tr>\n",
              "      <th>2018-07-11 20:00:00</th>\n",
              "      <td>2018-07-11 20:27:49.510634240</td>\n",
              "      <td>0.102657</td>\n",
              "      <td>0.216148</td>\n",
              "      <td>4354.0</td>\n",
              "      <td>6342.97</td>\n",
              "      <td>6354.19</td>\n",
              "      <td>6291.00</td>\n",
              "      <td>6350.00</td>\n",
              "      <td>986.73</td>\n",
              "      <td>6231532.37</td>\n",
              "    </tr>\n",
              "    <tr>\n",
              "      <th>2018-07-11 21:00:00</th>\n",
              "      <td>2018-07-11 21:28:35.636373760</td>\n",
              "      <td>0.098004</td>\n",
              "      <td>0.218612</td>\n",
              "      <td>4432.0</td>\n",
              "      <td>6352.99</td>\n",
              "      <td>6370.00</td>\n",
              "      <td>6345.76</td>\n",
              "      <td>6356.48</td>\n",
              "      <td>126.46</td>\n",
              "      <td>804221.55</td>\n",
              "    </tr>\n",
              "    <tr>\n",
              "      <th>2018-07-11 22:00:00</th>\n",
              "      <td>2018-07-11 22:27:44.646708224</td>\n",
              "      <td>0.096688</td>\n",
              "      <td>0.231342</td>\n",
              "      <td>3980.0</td>\n",
              "      <td>6350.85</td>\n",
              "      <td>6378.47</td>\n",
              "      <td>6345.00</td>\n",
              "      <td>6361.93</td>\n",
              "      <td>259.10</td>\n",
              "      <td>1646353.87</td>\n",
              "    </tr>\n",
              "    <tr>\n",
              "      <th>2018-07-11 23:00:00</th>\n",
              "      <td>2018-07-11 23:28:06.455845632</td>\n",
              "      <td>0.103997</td>\n",
              "      <td>0.217739</td>\n",
              "      <td>3830.0</td>\n",
              "      <td>6362.36</td>\n",
              "      <td>6381.25</td>\n",
              "      <td>6356.74</td>\n",
              "      <td>6368.78</td>\n",
              "      <td>81.54</td>\n",
              "      <td>519278.69</td>\n",
              "    </tr>\n",
              "    <tr>\n",
              "      <th>2018-07-12 00:00:00</th>\n",
              "      <td>2018-07-12 00:28:47.975380992</td>\n",
              "      <td>0.094383</td>\n",
              "      <td>0.195256</td>\n",
              "      <td>3998.0</td>\n",
              "      <td>6369.49</td>\n",
              "      <td>6381.25</td>\n",
              "      <td>6361.83</td>\n",
              "      <td>6380.00</td>\n",
              "      <td>124.55</td>\n",
              "      <td>793560.22</td>\n",
              "    </tr>\n",
              "  </tbody>\n",
              "</table>\n",
              "</div>"
            ],
            "text/plain": [
              "                                               dt  ...  Volume (Currency)\n",
              "2018-07-11 20:00:00 2018-07-11 20:27:49.510634240  ...         6231532.37\n",
              "2018-07-11 21:00:00 2018-07-11 21:28:35.636373760  ...          804221.55\n",
              "2018-07-11 22:00:00 2018-07-11 22:27:44.646708224  ...         1646353.87\n",
              "2018-07-11 23:00:00 2018-07-11 23:28:06.455845632  ...          519278.69\n",
              "2018-07-12 00:00:00 2018-07-12 00:28:47.975380992  ...          793560.22\n",
              "\n",
              "[5 rows x 10 columns]"
            ]
          },
          "metadata": {
            "tags": []
          },
          "execution_count": 598
        }
      ]
    },
    {
      "cell_type": "code",
      "metadata": {
        "id": "Ko8XKAoiIIYX"
      },
      "source": [
        "Final_df.columns = ['','Polarity', 'Sensitivity','Tweet_vol','Open','High','Low', 'Close_Price', 'Volume_BTC', 'Volume_Dollar']"
      ],
      "execution_count": null,
      "outputs": []
    },
    {
      "cell_type": "code",
      "metadata": {
        "colab": {
          "base_uri": "https://localhost:8080/",
          "height": 383
        },
        "id": "8roBrFsmJEOv",
        "outputId": "5e725679-c605-4986-8506-82efa47a9881"
      },
      "source": [
        "Final_df.head()"
      ],
      "execution_count": null,
      "outputs": [
        {
          "output_type": "execute_result",
          "data": {
            "text/html": [
              "<div>\n",
              "<style scoped>\n",
              "    .dataframe tbody tr th:only-of-type {\n",
              "        vertical-align: middle;\n",
              "    }\n",
              "\n",
              "    .dataframe tbody tr th {\n",
              "        vertical-align: top;\n",
              "    }\n",
              "\n",
              "    .dataframe thead th {\n",
              "        text-align: right;\n",
              "    }\n",
              "</style>\n",
              "<table border=\"1\" class=\"dataframe\">\n",
              "  <thead>\n",
              "    <tr style=\"text-align: right;\">\n",
              "      <th></th>\n",
              "      <th></th>\n",
              "      <th>Polarity</th>\n",
              "      <th>Sensitivity</th>\n",
              "      <th>Tweet_vol</th>\n",
              "      <th>Open</th>\n",
              "      <th>High</th>\n",
              "      <th>Low</th>\n",
              "      <th>Close_Price</th>\n",
              "      <th>Volume_BTC</th>\n",
              "      <th>Volume_Dollar</th>\n",
              "    </tr>\n",
              "  </thead>\n",
              "  <tbody>\n",
              "    <tr>\n",
              "      <th>2018-07-11 20:00:00</th>\n",
              "      <td>2018-07-11 20:27:49.510634240</td>\n",
              "      <td>0.102657</td>\n",
              "      <td>0.216148</td>\n",
              "      <td>4354.0</td>\n",
              "      <td>6342.97</td>\n",
              "      <td>6354.19</td>\n",
              "      <td>6291.00</td>\n",
              "      <td>6350.00</td>\n",
              "      <td>986.73</td>\n",
              "      <td>6231532.37</td>\n",
              "    </tr>\n",
              "    <tr>\n",
              "      <th>2018-07-11 21:00:00</th>\n",
              "      <td>2018-07-11 21:28:35.636373760</td>\n",
              "      <td>0.098004</td>\n",
              "      <td>0.218612</td>\n",
              "      <td>4432.0</td>\n",
              "      <td>6352.99</td>\n",
              "      <td>6370.00</td>\n",
              "      <td>6345.76</td>\n",
              "      <td>6356.48</td>\n",
              "      <td>126.46</td>\n",
              "      <td>804221.55</td>\n",
              "    </tr>\n",
              "    <tr>\n",
              "      <th>2018-07-11 22:00:00</th>\n",
              "      <td>2018-07-11 22:27:44.646708224</td>\n",
              "      <td>0.096688</td>\n",
              "      <td>0.231342</td>\n",
              "      <td>3980.0</td>\n",
              "      <td>6350.85</td>\n",
              "      <td>6378.47</td>\n",
              "      <td>6345.00</td>\n",
              "      <td>6361.93</td>\n",
              "      <td>259.10</td>\n",
              "      <td>1646353.87</td>\n",
              "    </tr>\n",
              "    <tr>\n",
              "      <th>2018-07-11 23:00:00</th>\n",
              "      <td>2018-07-11 23:28:06.455845632</td>\n",
              "      <td>0.103997</td>\n",
              "      <td>0.217739</td>\n",
              "      <td>3830.0</td>\n",
              "      <td>6362.36</td>\n",
              "      <td>6381.25</td>\n",
              "      <td>6356.74</td>\n",
              "      <td>6368.78</td>\n",
              "      <td>81.54</td>\n",
              "      <td>519278.69</td>\n",
              "    </tr>\n",
              "    <tr>\n",
              "      <th>2018-07-12 00:00:00</th>\n",
              "      <td>2018-07-12 00:28:47.975380992</td>\n",
              "      <td>0.094383</td>\n",
              "      <td>0.195256</td>\n",
              "      <td>3998.0</td>\n",
              "      <td>6369.49</td>\n",
              "      <td>6381.25</td>\n",
              "      <td>6361.83</td>\n",
              "      <td>6380.00</td>\n",
              "      <td>124.55</td>\n",
              "      <td>793560.22</td>\n",
              "    </tr>\n",
              "  </tbody>\n",
              "</table>\n",
              "</div>"
            ],
            "text/plain": [
              "                                                   ...  Volume_Dollar\n",
              "2018-07-11 20:00:00 2018-07-11 20:27:49.510634240  ...     6231532.37\n",
              "2018-07-11 21:00:00 2018-07-11 21:28:35.636373760  ...      804221.55\n",
              "2018-07-11 22:00:00 2018-07-11 22:27:44.646708224  ...     1646353.87\n",
              "2018-07-11 23:00:00 2018-07-11 23:28:06.455845632  ...      519278.69\n",
              "2018-07-12 00:00:00 2018-07-12 00:28:47.975380992  ...      793560.22\n",
              "\n",
              "[5 rows x 10 columns]"
            ]
          },
          "metadata": {
            "tags": []
          },
          "execution_count": 600
        }
      ]
    },
    {
      "cell_type": "code",
      "metadata": {
        "id": "p9eY-YT-Jw-6"
      },
      "source": [
        "Final_df = Final_df[['Polarity', 'Sensitivity','Tweet_vol', 'Open','High','Low', 'Volume_BTC', 'Volume_Dollar', 'Close_Price']]"
      ],
      "execution_count": null,
      "outputs": []
    },
    {
      "cell_type": "code",
      "metadata": {
        "colab": {
          "base_uri": "https://localhost:8080/",
          "height": 402
        },
        "id": "rke-fe7wJyx3",
        "outputId": "c4dc6542-e838-4539-fb68-d7dea0d81661"
      },
      "source": [
        "Final_df"
      ],
      "execution_count": null,
      "outputs": [
        {
          "output_type": "execute_result",
          "data": {
            "text/html": [
              "<div>\n",
              "<style scoped>\n",
              "    .dataframe tbody tr th:only-of-type {\n",
              "        vertical-align: middle;\n",
              "    }\n",
              "\n",
              "    .dataframe tbody tr th {\n",
              "        vertical-align: top;\n",
              "    }\n",
              "\n",
              "    .dataframe thead th {\n",
              "        text-align: right;\n",
              "    }\n",
              "</style>\n",
              "<table border=\"1\" class=\"dataframe\">\n",
              "  <thead>\n",
              "    <tr style=\"text-align: right;\">\n",
              "      <th></th>\n",
              "      <th>Polarity</th>\n",
              "      <th>Sensitivity</th>\n",
              "      <th>Tweet_vol</th>\n",
              "      <th>Open</th>\n",
              "      <th>High</th>\n",
              "      <th>Low</th>\n",
              "      <th>Volume_BTC</th>\n",
              "      <th>Volume_Dollar</th>\n",
              "      <th>Close_Price</th>\n",
              "    </tr>\n",
              "  </thead>\n",
              "  <tbody>\n",
              "    <tr>\n",
              "      <th>2018-07-11 20:00:00</th>\n",
              "      <td>0.102657</td>\n",
              "      <td>0.216148</td>\n",
              "      <td>4354.0</td>\n",
              "      <td>6342.97</td>\n",
              "      <td>6354.19</td>\n",
              "      <td>6291.00</td>\n",
              "      <td>986.73</td>\n",
              "      <td>6231532.37</td>\n",
              "      <td>6350.00</td>\n",
              "    </tr>\n",
              "    <tr>\n",
              "      <th>2018-07-11 21:00:00</th>\n",
              "      <td>0.098004</td>\n",
              "      <td>0.218612</td>\n",
              "      <td>4432.0</td>\n",
              "      <td>6352.99</td>\n",
              "      <td>6370.00</td>\n",
              "      <td>6345.76</td>\n",
              "      <td>126.46</td>\n",
              "      <td>804221.55</td>\n",
              "      <td>6356.48</td>\n",
              "    </tr>\n",
              "    <tr>\n",
              "      <th>2018-07-11 22:00:00</th>\n",
              "      <td>0.096688</td>\n",
              "      <td>0.231342</td>\n",
              "      <td>3980.0</td>\n",
              "      <td>6350.85</td>\n",
              "      <td>6378.47</td>\n",
              "      <td>6345.00</td>\n",
              "      <td>259.10</td>\n",
              "      <td>1646353.87</td>\n",
              "      <td>6361.93</td>\n",
              "    </tr>\n",
              "    <tr>\n",
              "      <th>2018-07-11 23:00:00</th>\n",
              "      <td>0.103997</td>\n",
              "      <td>0.217739</td>\n",
              "      <td>3830.0</td>\n",
              "      <td>6362.36</td>\n",
              "      <td>6381.25</td>\n",
              "      <td>6356.74</td>\n",
              "      <td>81.54</td>\n",
              "      <td>519278.69</td>\n",
              "      <td>6368.78</td>\n",
              "    </tr>\n",
              "    <tr>\n",
              "      <th>2018-07-12 00:00:00</th>\n",
              "      <td>0.094383</td>\n",
              "      <td>0.195256</td>\n",
              "      <td>3998.0</td>\n",
              "      <td>6369.49</td>\n",
              "      <td>6381.25</td>\n",
              "      <td>6361.83</td>\n",
              "      <td>124.55</td>\n",
              "      <td>793560.22</td>\n",
              "      <td>6380.00</td>\n",
              "    </tr>\n",
              "    <tr>\n",
              "      <th>...</th>\n",
              "      <td>...</td>\n",
              "      <td>...</td>\n",
              "      <td>...</td>\n",
              "      <td>...</td>\n",
              "      <td>...</td>\n",
              "      <td>...</td>\n",
              "      <td>...</td>\n",
              "      <td>...</td>\n",
              "      <td>...</td>\n",
              "    </tr>\n",
              "    <tr>\n",
              "      <th>2018-07-23 21:00:00</th>\n",
              "      <td>0.107282</td>\n",
              "      <td>0.235636</td>\n",
              "      <td>5164.0</td>\n",
              "      <td>7746.99</td>\n",
              "      <td>7763.59</td>\n",
              "      <td>7690.16</td>\n",
              "      <td>237.63</td>\n",
              "      <td>1836633.86</td>\n",
              "      <td>7706.00</td>\n",
              "    </tr>\n",
              "    <tr>\n",
              "      <th>2018-07-23 22:00:00</th>\n",
              "      <td>0.094493</td>\n",
              "      <td>0.271796</td>\n",
              "      <td>4646.0</td>\n",
              "      <td>7699.13</td>\n",
              "      <td>7759.99</td>\n",
              "      <td>7690.50</td>\n",
              "      <td>63.31</td>\n",
              "      <td>489000.25</td>\n",
              "      <td>7750.09</td>\n",
              "    </tr>\n",
              "    <tr>\n",
              "      <th>2018-07-23 23:00:00</th>\n",
              "      <td>0.074246</td>\n",
              "      <td>0.231640</td>\n",
              "      <td>4455.0</td>\n",
              "      <td>7754.57</td>\n",
              "      <td>7777.00</td>\n",
              "      <td>7715.45</td>\n",
              "      <td>280.46</td>\n",
              "      <td>2173424.81</td>\n",
              "      <td>7722.32</td>\n",
              "    </tr>\n",
              "    <tr>\n",
              "      <th>2018-07-24 00:00:00</th>\n",
              "      <td>0.080870</td>\n",
              "      <td>0.219367</td>\n",
              "      <td>3862.0</td>\n",
              "      <td>7722.95</td>\n",
              "      <td>7730.61</td>\n",
              "      <td>7690.17</td>\n",
              "      <td>496.48</td>\n",
              "      <td>3830571.66</td>\n",
              "      <td>7719.62</td>\n",
              "    </tr>\n",
              "    <tr>\n",
              "      <th>2018-07-24 01:00:00</th>\n",
              "      <td>0.090717</td>\n",
              "      <td>0.212626</td>\n",
              "      <td>4620.0</td>\n",
              "      <td>7712.46</td>\n",
              "      <td>7727.70</td>\n",
              "      <td>7691.14</td>\n",
              "      <td>163.99</td>\n",
              "      <td>1264085.79</td>\n",
              "      <td>7723.22</td>\n",
              "    </tr>\n",
              "  </tbody>\n",
              "</table>\n",
              "<p>294 rows × 9 columns</p>\n",
              "</div>"
            ],
            "text/plain": [
              "                     Polarity  Sensitivity  ...  Volume_Dollar  Close_Price\n",
              "2018-07-11 20:00:00  0.102657     0.216148  ...     6231532.37      6350.00\n",
              "2018-07-11 21:00:00  0.098004     0.218612  ...      804221.55      6356.48\n",
              "2018-07-11 22:00:00  0.096688     0.231342  ...     1646353.87      6361.93\n",
              "2018-07-11 23:00:00  0.103997     0.217739  ...      519278.69      6368.78\n",
              "2018-07-12 00:00:00  0.094383     0.195256  ...      793560.22      6380.00\n",
              "...                       ...          ...  ...            ...          ...\n",
              "2018-07-23 21:00:00  0.107282     0.235636  ...     1836633.86      7706.00\n",
              "2018-07-23 22:00:00  0.094493     0.271796  ...      489000.25      7750.09\n",
              "2018-07-23 23:00:00  0.074246     0.231640  ...     2173424.81      7722.32\n",
              "2018-07-24 00:00:00  0.080870     0.219367  ...     3830571.66      7719.62\n",
              "2018-07-24 01:00:00  0.090717     0.212626  ...     1264085.79      7723.22\n",
              "\n",
              "[294 rows x 9 columns]"
            ]
          },
          "metadata": {
            "tags": []
          },
          "execution_count": 602
        }
      ]
    },
    {
      "cell_type": "code",
      "metadata": {
        "id": "8QPL_pMc4RAb"
      },
      "source": [
        "#---------------Stage 1 Complete ------------------#\n",
        "#Final_df.to_csv('Desktop/Sentiment.csv')"
      ],
      "execution_count": null,
      "outputs": []
    },
    {
      "cell_type": "markdown",
      "metadata": {
        "id": "GxEFs3X6J_bM"
      },
      "source": [
        "# Exploratory Analysis"
      ]
    },
    {
      "cell_type": "code",
      "metadata": {
        "colab": {
          "base_uri": "https://localhost:8080/"
        },
        "id": "vohoeBc5J9Lv",
        "outputId": "b6615bc6-c461-4b2c-e009-ab67cd5cc75f"
      },
      "source": [
        "#--------------Analysis----------------------------#\n",
        "\n",
        "values = Final_df.values\n",
        "groups = [0,1,2,3,4,5,6,7]\n",
        "i =1  \n",
        "pyplot.figure()\n",
        "for group in groups:\n",
        "    pyplot.subplot(len(groups), 1,i)\n",
        "    pyplot.plot(values[:,group])\n",
        "    pyplot.title(Final_df.columns[group], y=.5, loc='right')\n",
        "    i += 1\n",
        "pyplot.show()"
      ],
      "execution_count": null,
      "outputs": [
        {
          "output_type": "display_data",
          "data": {
            "image/png": "[encoded data removed]",
            "text/plain": [
              "<Figure size 432x288 with 8 Axes>"
            ]
          },
          "metadata": {
            "tags": []
          }
        }
      ]
    },
    {
      "cell_type": "code",
      "metadata": {
        "colab": {
          "base_uri": "https://localhost:8080/"
        },
        "id": "C-zD2QL8KE4d",
        "outputId": "f9aa16ce-348f-4249-f58b-6246b1c2821b"
      },
      "source": [
        "Final_df['Volume_BTC'].max()\n"
      ],
      "execution_count": null,
      "outputs": [
        {
          "output_type": "execute_result",
          "data": {
            "text/plain": [
              "2640.49"
            ]
          },
          "metadata": {
            "tags": []
          },
          "execution_count": 605
        }
      ]
    },
    {
      "cell_type": "code",
      "metadata": {
        "colab": {
          "base_uri": "https://localhost:8080/"
        },
        "id": "FZC-LRDtKNyn",
        "outputId": "4888d140-f0ac-48cb-955d-a23834fee571"
      },
      "source": [
        "Final_df['Volume_Dollar'].max()"
      ],
      "execution_count": null,
      "outputs": [
        {
          "output_type": "execute_result",
          "data": {
            "text/plain": [
              "19126407.89"
            ]
          },
          "metadata": {
            "tags": []
          },
          "execution_count": 606
        }
      ]
    },
    {
      "cell_type": "code",
      "metadata": {
        "colab": {
          "base_uri": "https://localhost:8080/"
        },
        "id": "HzMjP4NkKQuO",
        "outputId": "170c92a0-7672-47bd-ad5a-c94897cc16f1"
      },
      "source": [
        "Final_df['Volume_BTC'].sum()"
      ],
      "execution_count": null,
      "outputs": [
        {
          "output_type": "execute_result",
          "data": {
            "text/plain": [
              "96945.04000000001"
            ]
          },
          "metadata": {
            "tags": []
          },
          "execution_count": 607
        }
      ]
    },
    {
      "cell_type": "code",
      "metadata": {
        "colab": {
          "base_uri": "https://localhost:8080/"
        },
        "id": "0CK5OJJOKTxO",
        "outputId": "283cb303-defd-4e49-aec8-d2b8eee0dbb7"
      },
      "source": [
        "Final_df['Volume_Dollar'].sum()"
      ],
      "execution_count": null,
      "outputs": [
        {
          "output_type": "execute_result",
          "data": {
            "text/plain": [
              "684457140.05"
            ]
          },
          "metadata": {
            "tags": []
          },
          "execution_count": 608
        }
      ]
    },
    {
      "cell_type": "code",
      "metadata": {
        "colab": {
          "base_uri": "https://localhost:8080/"
        },
        "id": "HCa39bKtKWcV",
        "outputId": "3b53425b-c8f5-4a5c-a13a-069356588c3c"
      },
      "source": [
        "Final_df['Tweet_vol'].max()"
      ],
      "execution_count": null,
      "outputs": [
        {
          "output_type": "execute_result",
          "data": {
            "text/plain": [
              "10452.0"
            ]
          },
          "metadata": {
            "tags": []
          },
          "execution_count": 609
        }
      ]
    },
    {
      "cell_type": "code",
      "metadata": {
        "colab": {
          "base_uri": "https://localhost:8080/"
        },
        "id": "ayGfzYxZKZKD",
        "outputId": "1a868cf4-2bb4-47f8-d4af-13aefca4e08a"
      },
      "source": [
        "Final_df.describe()"
      ],
      "execution_count": null,
      "outputs": [
        {
          "output_type": "execute_result",
          "data": {
            "text/html": [
              "<div>\n",
              "<style scoped>\n",
              "    .dataframe tbody tr th:only-of-type {\n",
              "        vertical-align: middle;\n",
              "    }\n",
              "\n",
              "    .dataframe tbody tr th {\n",
              "        vertical-align: top;\n",
              "    }\n",
              "\n",
              "    .dataframe thead th {\n",
              "        text-align: right;\n",
              "    }\n",
              "</style>\n",
              "<table border=\"1\" class=\"dataframe\">\n",
              "  <thead>\n",
              "    <tr style=\"text-align: right;\">\n",
              "      <th></th>\n",
              "      <th>Polarity</th>\n",
              "      <th>Sensitivity</th>\n",
              "      <th>Tweet_vol</th>\n",
              "      <th>Open</th>\n",
              "      <th>High</th>\n",
              "      <th>Low</th>\n",
              "      <th>Volume_BTC</th>\n",
              "      <th>Volume_Dollar</th>\n",
              "      <th>Close_Price</th>\n",
              "    </tr>\n",
              "  </thead>\n",
              "  <tbody>\n",
              "    <tr>\n",
              "      <th>count</th>\n",
              "      <td>294.000000</td>\n",
              "      <td>294.000000</td>\n",
              "      <td>294.000000</td>\n",
              "      <td>294.000000</td>\n",
              "      <td>294.000000</td>\n",
              "      <td>294.000000</td>\n",
              "      <td>294.000000</td>\n",
              "      <td>2.940000e+02</td>\n",
              "      <td>294.000000</td>\n",
              "    </tr>\n",
              "    <tr>\n",
              "      <th>mean</th>\n",
              "      <td>0.099534</td>\n",
              "      <td>0.214141</td>\n",
              "      <td>4691.119048</td>\n",
              "      <td>6915.349388</td>\n",
              "      <td>6946.782925</td>\n",
              "      <td>6889.661054</td>\n",
              "      <td>329.745034</td>\n",
              "      <td>2.328086e+06</td>\n",
              "      <td>6920.150000</td>\n",
              "    </tr>\n",
              "    <tr>\n",
              "      <th>std</th>\n",
              "      <td>0.012114</td>\n",
              "      <td>0.014940</td>\n",
              "      <td>1048.922706</td>\n",
              "      <td>564.467674</td>\n",
              "      <td>573.078843</td>\n",
              "      <td>559.037540</td>\n",
              "      <td>344.527625</td>\n",
              "      <td>2.508128e+06</td>\n",
              "      <td>565.424866</td>\n",
              "    </tr>\n",
              "    <tr>\n",
              "      <th>min</th>\n",
              "      <td>0.051695</td>\n",
              "      <td>0.174330</td>\n",
              "      <td>2998.000000</td>\n",
              "      <td>6149.110000</td>\n",
              "      <td>6173.610000</td>\n",
              "      <td>6072.000000</td>\n",
              "      <td>22.000000</td>\n",
              "      <td>1.379601e+05</td>\n",
              "      <td>6149.110000</td>\n",
              "    </tr>\n",
              "    <tr>\n",
              "      <th>25%</th>\n",
              "      <td>0.091489</td>\n",
              "      <td>0.203450</td>\n",
              "      <td>3878.750000</td>\n",
              "      <td>6285.077500</td>\n",
              "      <td>6334.942500</td>\n",
              "      <td>6266.522500</td>\n",
              "      <td>129.230000</td>\n",
              "      <td>8.412214e+05</td>\n",
              "      <td>6283.497500</td>\n",
              "    </tr>\n",
              "    <tr>\n",
              "      <th>50%</th>\n",
              "      <td>0.099198</td>\n",
              "      <td>0.214756</td>\n",
              "      <td>4452.000000</td>\n",
              "      <td>7276.845000</td>\n",
              "      <td>7311.380000</td>\n",
              "      <td>7245.580000</td>\n",
              "      <td>223.870000</td>\n",
              "      <td>1.607008e+06</td>\n",
              "      <td>7281.975000</td>\n",
              "    </tr>\n",
              "    <tr>\n",
              "      <th>75%</th>\n",
              "      <td>0.106649</td>\n",
              "      <td>0.223910</td>\n",
              "      <td>5429.750000</td>\n",
              "      <td>7422.957500</td>\n",
              "      <td>7457.202500</td>\n",
              "      <td>7396.427500</td>\n",
              "      <td>385.135000</td>\n",
              "      <td>2.662185e+06</td>\n",
              "      <td>7424.560000</td>\n",
              "    </tr>\n",
              "    <tr>\n",
              "      <th>max</th>\n",
              "      <td>0.135088</td>\n",
              "      <td>0.271796</td>\n",
              "      <td>10452.000000</td>\n",
              "      <td>7754.570000</td>\n",
              "      <td>7800.000000</td>\n",
              "      <td>7724.500000</td>\n",
              "      <td>2640.490000</td>\n",
              "      <td>1.912641e+07</td>\n",
              "      <td>7750.090000</td>\n",
              "    </tr>\n",
              "  </tbody>\n",
              "</table>\n",
              "</div>"
            ],
            "text/plain": [
              "         Polarity  Sensitivity  ...  Volume_Dollar  Close_Price\n",
              "count  294.000000   294.000000  ...   2.940000e+02   294.000000\n",
              "mean     0.099534     0.214141  ...   2.328086e+06  6920.150000\n",
              "std      0.012114     0.014940  ...   2.508128e+06   565.424866\n",
              "min      0.051695     0.174330  ...   1.379601e+05  6149.110000\n",
              "25%      0.091489     0.203450  ...   8.412214e+05  6283.497500\n",
              "50%      0.099198     0.214756  ...   1.607008e+06  7281.975000\n",
              "75%      0.106649     0.223910  ...   2.662185e+06  7424.560000\n",
              "max      0.135088     0.271796  ...   1.912641e+07  7750.090000\n",
              "\n",
              "[8 rows x 9 columns]"
            ]
          },
          "metadata": {
            "tags": []
          },
          "execution_count": 610
        }
      ]
    },
    {
      "cell_type": "code",
      "metadata": {
        "colab": {
          "base_uri": "https://localhost:8080/"
        },
        "id": "zu6JNHWQKdU6",
        "outputId": "447231c6-c3ef-417c-966f-ad484b5d7da6"
      },
      "source": [
        "cor = Final_df.corr()\n",
        "cor"
      ],
      "execution_count": null,
      "outputs": [
        {
          "output_type": "execute_result",
          "data": {
            "text/html": [
              "<div>\n",
              "<style scoped>\n",
              "    .dataframe tbody tr th:only-of-type {\n",
              "        vertical-align: middle;\n",
              "    }\n",
              "\n",
              "    .dataframe tbody tr th {\n",
              "        vertical-align: top;\n",
              "    }\n",
              "\n",
              "    .dataframe thead th {\n",
              "        text-align: right;\n",
              "    }\n",
              "</style>\n",
              "<table border=\"1\" class=\"dataframe\">\n",
              "  <thead>\n",
              "    <tr style=\"text-align: right;\">\n",
              "      <th></th>\n",
              "      <th>Polarity</th>\n",
              "      <th>Sensitivity</th>\n",
              "      <th>Tweet_vol</th>\n",
              "      <th>Open</th>\n",
              "      <th>High</th>\n",
              "      <th>Low</th>\n",
              "      <th>Volume_BTC</th>\n",
              "      <th>Volume_Dollar</th>\n",
              "      <th>Close_Price</th>\n",
              "    </tr>\n",
              "  </thead>\n",
              "  <tbody>\n",
              "    <tr>\n",
              "      <th>Polarity</th>\n",
              "      <td>1.000000</td>\n",
              "      <td>0.380350</td>\n",
              "      <td>-0.167573</td>\n",
              "      <td>0.179056</td>\n",
              "      <td>0.176277</td>\n",
              "      <td>0.180088</td>\n",
              "      <td>-0.062868</td>\n",
              "      <td>-0.052646</td>\n",
              "      <td>0.178456</td>\n",
              "    </tr>\n",
              "    <tr>\n",
              "      <th>Sensitivity</th>\n",
              "      <td>0.380350</td>\n",
              "      <td>1.000000</td>\n",
              "      <td>0.053903</td>\n",
              "      <td>0.194763</td>\n",
              "      <td>0.200611</td>\n",
              "      <td>0.190222</td>\n",
              "      <td>0.097124</td>\n",
              "      <td>0.112425</td>\n",
              "      <td>0.193203</td>\n",
              "    </tr>\n",
              "    <tr>\n",
              "      <th>Tweet_vol</th>\n",
              "      <td>-0.167573</td>\n",
              "      <td>0.053903</td>\n",
              "      <td>1.000000</td>\n",
              "      <td>0.237185</td>\n",
              "      <td>0.262207</td>\n",
              "      <td>0.234330</td>\n",
              "      <td>0.541112</td>\n",
              "      <td>0.545850</td>\n",
              "      <td>0.250448</td>\n",
              "    </tr>\n",
              "    <tr>\n",
              "      <th>Open</th>\n",
              "      <td>0.179056</td>\n",
              "      <td>0.194763</td>\n",
              "      <td>0.237185</td>\n",
              "      <td>1.000000</td>\n",
              "      <td>0.997128</td>\n",
              "      <td>0.998799</td>\n",
              "      <td>0.217478</td>\n",
              "      <td>0.277600</td>\n",
              "      <td>0.997217</td>\n",
              "    </tr>\n",
              "    <tr>\n",
              "      <th>High</th>\n",
              "      <td>0.176277</td>\n",
              "      <td>0.200611</td>\n",
              "      <td>0.262207</td>\n",
              "      <td>0.997128</td>\n",
              "      <td>1.000000</td>\n",
              "      <td>0.996650</td>\n",
              "      <td>0.270551</td>\n",
              "      <td>0.329816</td>\n",
              "      <td>0.998816</td>\n",
              "    </tr>\n",
              "    <tr>\n",
              "      <th>Low</th>\n",
              "      <td>0.180088</td>\n",
              "      <td>0.190222</td>\n",
              "      <td>0.234330</td>\n",
              "      <td>0.998799</td>\n",
              "      <td>0.996650</td>\n",
              "      <td>1.000000</td>\n",
              "      <td>0.202895</td>\n",
              "      <td>0.263863</td>\n",
              "      <td>0.998058</td>\n",
              "    </tr>\n",
              "    <tr>\n",
              "      <th>Volume_BTC</th>\n",
              "      <td>-0.062868</td>\n",
              "      <td>0.097124</td>\n",
              "      <td>0.541112</td>\n",
              "      <td>0.217478</td>\n",
              "      <td>0.270551</td>\n",
              "      <td>0.202895</td>\n",
              "      <td>1.000000</td>\n",
              "      <td>0.995873</td>\n",
              "      <td>0.243875</td>\n",
              "    </tr>\n",
              "    <tr>\n",
              "      <th>Volume_Dollar</th>\n",
              "      <td>-0.052646</td>\n",
              "      <td>0.112425</td>\n",
              "      <td>0.545850</td>\n",
              "      <td>0.277600</td>\n",
              "      <td>0.329816</td>\n",
              "      <td>0.263863</td>\n",
              "      <td>0.995873</td>\n",
              "      <td>1.000000</td>\n",
              "      <td>0.303347</td>\n",
              "    </tr>\n",
              "    <tr>\n",
              "      <th>Close_Price</th>\n",
              "      <td>0.178456</td>\n",
              "      <td>0.193203</td>\n",
              "      <td>0.250448</td>\n",
              "      <td>0.997217</td>\n",
              "      <td>0.998816</td>\n",
              "      <td>0.998058</td>\n",
              "      <td>0.243875</td>\n",
              "      <td>0.303347</td>\n",
              "      <td>1.000000</td>\n",
              "    </tr>\n",
              "  </tbody>\n",
              "</table>\n",
              "</div>"
            ],
            "text/plain": [
              "               Polarity  Sensitivity  ...  Volume_Dollar  Close_Price\n",
              "Polarity       1.000000     0.380350  ...      -0.052646     0.178456\n",
              "Sensitivity    0.380350     1.000000  ...       0.112425     0.193203\n",
              "Tweet_vol     -0.167573     0.053903  ...       0.545850     0.250448\n",
              "Open           0.179056     0.194763  ...       0.277600     0.997217\n",
              "High           0.176277     0.200611  ...       0.329816     0.998816\n",
              "Low            0.180088     0.190222  ...       0.263863     0.998058\n",
              "Volume_BTC    -0.062868     0.097124  ...       0.995873     0.243875\n",
              "Volume_Dollar -0.052646     0.112425  ...       1.000000     0.303347\n",
              "Close_Price    0.178456     0.193203  ...       0.303347     1.000000\n",
              "\n",
              "[9 rows x 9 columns]"
            ]
          },
          "metadata": {
            "tags": []
          },
          "execution_count": 611
        }
      ]
    },
    {
      "cell_type": "code",
      "metadata": {
        "colab": {
          "base_uri": "https://localhost:8080/"
        },
        "id": "XeMw3NlzKgza",
        "outputId": "88148509-1c21-4536-e4f5-4f631df54b12"
      },
      "source": [
        "Top_Vol =Final_df['Volume_BTC'].nlargest(10)\n",
        "Top_Vol"
      ],
      "execution_count": null,
      "outputs": [
        {
          "output_type": "execute_result",
          "data": {
            "text/plain": [
              "2018-07-17 18:00:00    2640.49\n",
              "2018-07-17 19:00:00    2600.32\n",
              "2018-07-23 03:00:00    1669.28\n",
              "2018-07-18 04:00:00    1576.15\n",
              "2018-07-20 17:00:00    1510.00\n",
              "2018-07-18 19:00:00    1490.02\n",
              "2018-07-23 19:00:00    1396.32\n",
              "2018-07-12 07:00:00    1211.64\n",
              "2018-07-16 10:00:00    1147.69\n",
              "2018-07-23 08:00:00    1135.38\n",
              "Name: Volume_BTC, dtype: float64"
            ]
          },
          "metadata": {
            "tags": []
          },
          "execution_count": 612
        }
      ]
    },
    {
      "cell_type": "code",
      "metadata": {
        "colab": {
          "base_uri": "https://localhost:8080/"
        },
        "id": "X1yaYd5BKkVv",
        "outputId": "559cb048-232d-4b4b-f7d4-87bd0f52061c"
      },
      "source": [
        "Top_Sen =Final_df['Sensitivity'].nlargest(10)\n",
        "Top_Sen"
      ],
      "execution_count": null,
      "outputs": [
        {
          "output_type": "execute_result",
          "data": {
            "text/plain": [
              "2018-07-23 22:00:00    0.271796\n",
              "2018-07-19 20:00:00    0.262048\n",
              "2018-07-21 19:00:00    0.256952\n",
              "2018-07-20 22:00:00    0.246046\n",
              "2018-07-22 06:00:00    0.245820\n",
              "2018-07-19 19:00:00    0.244655\n",
              "2018-07-19 21:00:00    0.244215\n",
              "2018-07-18 20:00:00    0.243534\n",
              "2018-07-18 21:00:00    0.243422\n",
              "2018-07-18 18:00:00    0.241287\n",
              "Name: Sensitivity, dtype: float64"
            ]
          },
          "metadata": {
            "tags": []
          },
          "execution_count": 613
        }
      ]
    },
    {
      "cell_type": "code",
      "metadata": {
        "colab": {
          "base_uri": "https://localhost:8080/"
        },
        "id": "gnDtpY-aKpjI",
        "outputId": "87475ae0-bdea-4a22-8d6d-c043be5f6993"
      },
      "source": [
        "Top_Pol =Final_df['Polarity'].nlargest(10)\n",
        "Top_Pol"
      ],
      "execution_count": null,
      "outputs": [
        {
          "output_type": "execute_result",
          "data": {
            "text/plain": [
              "2018-07-22 05:00:00    0.135088\n",
              "2018-07-16 03:00:00    0.130634\n",
              "2018-07-19 20:00:00    0.127696\n",
              "2018-07-15 10:00:00    0.127469\n",
              "2018-07-22 06:00:00    0.126299\n",
              "2018-07-15 06:00:00    0.124505\n",
              "2018-07-16 05:00:00    0.124210\n",
              "2018-07-22 09:00:00    0.122784\n",
              "2018-07-15 13:00:00    0.122411\n",
              "2018-07-22 12:00:00    0.122021\n",
              "Name: Polarity, dtype: float64"
            ]
          },
          "metadata": {
            "tags": []
          },
          "execution_count": 614
        }
      ]
    },
    {
      "cell_type": "code",
      "metadata": {
        "colab": {
          "base_uri": "https://localhost:8080/"
        },
        "id": "7CCz7EXOKwxR",
        "outputId": "f866d53e-4f08-4f6e-a9e0-1cb515d19c3c"
      },
      "source": [
        "Top_Tweet =Final_df['Tweet_vol'].nlargest(10)\n",
        "Top_Tweet"
      ],
      "execution_count": null,
      "outputs": [
        {
          "output_type": "execute_result",
          "data": {
            "text/plain": [
              "2018-07-17 19:00:00    10452.0\n",
              "2018-07-17 18:00:00     7995.0\n",
              "2018-07-17 20:00:00     7354.0\n",
              "2018-07-16 14:00:00     7280.0\n",
              "2018-07-18 15:00:00     7222.0\n",
              "2018-07-18 14:00:00     7209.0\n",
              "2018-07-18 13:00:00     7171.0\n",
              "2018-07-16 13:00:00     7133.0\n",
              "2018-07-19 16:00:00     6886.0\n",
              "2018-07-18 12:00:00     6844.0\n",
              "Name: Tweet_vol, dtype: float64"
            ]
          },
          "metadata": {
            "tags": []
          },
          "execution_count": 615
        }
      ]
    },
    {
      "cell_type": "code",
      "metadata": {
        "colab": {
          "base_uri": "https://localhost:8080/"
        },
        "id": "IEBXkYhIK2Lu",
        "outputId": "b7237d24-2282-44c0-c9c5-e546bc5da71e"
      },
      "source": [
        "import matplotlib.pyplot as plt\n",
        "sns.set(style=\"white\")\n",
        "f, ax = plt.subplots(figsize=(11, 9))\n",
        "\n",
        "cmap = sns.diverging_palette(220, 10, as_cmap=True)\n",
        "ax =sns.heatmap(cor, cmap=cmap, vmax=1, center=0,\n",
        "            square=True, linewidths=.5, cbar_kws={\"shrink\": .7})\n",
        "plt.show()"
      ],
      "execution_count": null,
      "outputs": [
        {
          "output_type": "display_data",
          "data": {
            "image/png": "[encoded data removed]",
            "text/plain": [
              "<Figure size 792x648 with 2 Axes>"
            ]
          },
          "metadata": {
            "tags": []
          }
        }
      ]
    },
    {
      "cell_type": "code",
      "metadata": {
        "colab": {
          "base_uri": "https://localhost:8080/"
        },
        "id": "MzwXoW2XK9Th",
        "outputId": "6bd8b2e2-c85a-4331-96bd-8f1ec28bb203"
      },
      "source": [
        "plt.plot(Final_df.index, Final_df['Open'], 'yellow')\n",
        "plt.plot(Final_df.index, Final_df['Low'], 'red')\n",
        "plt.plot(Final_df.index, Final_df['High'], 'green')\n",
        "plt.title('BTC Close Price(hr)')\n",
        "plt.xticks(rotation='vertical')\n",
        "plt.ylabel('Price ($)');\n",
        "plt.show();\n",
        "\n",
        "plt.plot(Final_df.index, Final_df['Volume_BTC'], 'g')\n",
        "plt.title('Trading Vol BTC(hr)')\n",
        "plt.xticks(rotation='vertical')\n",
        "plt.ylabel('Vol BTC');\n",
        "plt.show();\n",
        "\n",
        "plt.plot(Final_df.index, Final_df['Polarity'], 'b')\n",
        "plt.xticks(rotation='vertical')\n",
        "plt.title('Twitter Sentiment(hr)')\n",
        "plt.ylabel('Pol (0-1)');\n",
        "plt.show();\n",
        "plt.legend()\n",
        "\n",
        "plt.plot(Final_df.index, Final_df['Tweet_vol'], 'b')\n",
        "plt.xticks(rotation='vertical')\n",
        "plt.title('Tweet Vol(hr)')\n",
        "plt.ylabel('No. of Tweets');\n",
        "plt.show();\n",
        "plt.legend()\n"
      ],
      "execution_count": null,
      "outputs": [
        {
          "output_type": "display_data",
          "data": {
            "image/png": "[encoded data removed]",
            "text/plain": [
              "<Figure size 432x288 with 1 Axes>"
            ]
          },
          "metadata": {
            "tags": []
          }
        },
        {
          "output_type": "display_data",
          "data": {
            "image/png": "[encoded data removed]",
            "text/plain": [
              "<Figure size 432x288 with 1 Axes>"
            ]
          },
          "metadata": {
            "tags": []
          }
        },
        {
          "output_type": "display_data",
          "data": {
            "image/png": "[encoded data removed]",
            "text/plain": [
              "<Figure size 432x288 with 1 Axes>"
            ]
          },
          "metadata": {
            "tags": []
          }
        },
        {
          "output_type": "stream",
          "text": [
            "No handles with labels found to put in legend.\n"
          ],
          "name": "stderr"
        },
        {
          "output_type": "display_data",
          "data": {
            "image/png": "[encoded data removed]",
            "text/plain": [
              "<Figure size 432x288 with 1 Axes>"
            ]
          },
          "metadata": {
            "tags": []
          }
        },
        {
          "output_type": "stream",
          "text": [
            "No handles with labels found to put in legend.\n"
          ],
          "name": "stderr"
        },
        {
          "output_type": "execute_result",
          "data": {
            "text/plain": [
              "<matplotlib.legend.Legend at 0x7fb298a494d0>"
            ]
          },
          "metadata": {
            "tags": []
          },
          "execution_count": 617
        },
        {
          "output_type": "display_data",
          "data": {
            "image/png": "[encoded data removed]",
            "text/plain": [
              "<Figure size 432x288 with 1 Axes>"
            ]
          },
          "metadata": {
            "tags": []
          }
        }
      ]
    },
    {
      "cell_type": "code",
      "metadata": {
        "id": "ARp8NHkvLEM7"
      },
      "source": [
        "#sns Heatmap for Hour x volume \n",
        "#Final_df['time']=Final_df.index.time()\n",
        "Final_df['time']=Final_df.index.to_series().apply(lambda x: x.strftime(\"%X\"))"
      ],
      "execution_count": null,
      "outputs": []
    },
    {
      "cell_type": "code",
      "metadata": {
        "colab": {
          "base_uri": "https://localhost:8080/"
        },
        "id": "GPp0o8q8LKif",
        "outputId": "94aad428-e132-490f-bb2f-fe07439dd798"
      },
      "source": [
        "Final_df.head()"
      ],
      "execution_count": null,
      "outputs": [
        {
          "output_type": "execute_result",
          "data": {
            "text/html": [
              "<div>\n",
              "<style scoped>\n",
              "    .dataframe tbody tr th:only-of-type {\n",
              "        vertical-align: middle;\n",
              "    }\n",
              "\n",
              "    .dataframe tbody tr th {\n",
              "        vertical-align: top;\n",
              "    }\n",
              "\n",
              "    .dataframe thead th {\n",
              "        text-align: right;\n",
              "    }\n",
              "</style>\n",
              "<table border=\"1\" class=\"dataframe\">\n",
              "  <thead>\n",
              "    <tr style=\"text-align: right;\">\n",
              "      <th></th>\n",
              "      <th>Polarity</th>\n",
              "      <th>Sensitivity</th>\n",
              "      <th>Tweet_vol</th>\n",
              "      <th>Open</th>\n",
              "      <th>High</th>\n",
              "      <th>Low</th>\n",
              "      <th>Volume_BTC</th>\n",
              "      <th>Volume_Dollar</th>\n",
              "      <th>Close_Price</th>\n",
              "      <th>time</th>\n",
              "    </tr>\n",
              "  </thead>\n",
              "  <tbody>\n",
              "    <tr>\n",
              "      <th>2018-07-11 20:00:00</th>\n",
              "      <td>0.102657</td>\n",
              "      <td>0.216148</td>\n",
              "      <td>4354.0</td>\n",
              "      <td>6342.97</td>\n",
              "      <td>6354.19</td>\n",
              "      <td>6291.00</td>\n",
              "      <td>986.73</td>\n",
              "      <td>6231532.37</td>\n",
              "      <td>6350.00</td>\n",
              "      <td>20:00:00</td>\n",
              "    </tr>\n",
              "    <tr>\n",
              "      <th>2018-07-11 21:00:00</th>\n",
              "      <td>0.098004</td>\n",
              "      <td>0.218612</td>\n",
              "      <td>4432.0</td>\n",
              "      <td>6352.99</td>\n",
              "      <td>6370.00</td>\n",
              "      <td>6345.76</td>\n",
              "      <td>126.46</td>\n",
              "      <td>804221.55</td>\n",
              "      <td>6356.48</td>\n",
              "      <td>21:00:00</td>\n",
              "    </tr>\n",
              "    <tr>\n",
              "      <th>2018-07-11 22:00:00</th>\n",
              "      <td>0.096688</td>\n",
              "      <td>0.231342</td>\n",
              "      <td>3980.0</td>\n",
              "      <td>6350.85</td>\n",
              "      <td>6378.47</td>\n",
              "      <td>6345.00</td>\n",
              "      <td>259.10</td>\n",
              "      <td>1646353.87</td>\n",
              "      <td>6361.93</td>\n",
              "      <td>22:00:00</td>\n",
              "    </tr>\n",
              "    <tr>\n",
              "      <th>2018-07-11 23:00:00</th>\n",
              "      <td>0.103997</td>\n",
              "      <td>0.217739</td>\n",
              "      <td>3830.0</td>\n",
              "      <td>6362.36</td>\n",
              "      <td>6381.25</td>\n",
              "      <td>6356.74</td>\n",
              "      <td>81.54</td>\n",
              "      <td>519278.69</td>\n",
              "      <td>6368.78</td>\n",
              "      <td>23:00:00</td>\n",
              "    </tr>\n",
              "    <tr>\n",
              "      <th>2018-07-12 00:00:00</th>\n",
              "      <td>0.094383</td>\n",
              "      <td>0.195256</td>\n",
              "      <td>3998.0</td>\n",
              "      <td>6369.49</td>\n",
              "      <td>6381.25</td>\n",
              "      <td>6361.83</td>\n",
              "      <td>124.55</td>\n",
              "      <td>793560.22</td>\n",
              "      <td>6380.00</td>\n",
              "      <td>00:00:00</td>\n",
              "    </tr>\n",
              "  </tbody>\n",
              "</table>\n",
              "</div>"
            ],
            "text/plain": [
              "                     Polarity  Sensitivity  ...  Close_Price      time\n",
              "2018-07-11 20:00:00  0.102657     0.216148  ...      6350.00  20:00:00\n",
              "2018-07-11 21:00:00  0.098004     0.218612  ...      6356.48  21:00:00\n",
              "2018-07-11 22:00:00  0.096688     0.231342  ...      6361.93  22:00:00\n",
              "2018-07-11 23:00:00  0.103997     0.217739  ...      6368.78  23:00:00\n",
              "2018-07-12 00:00:00  0.094383     0.195256  ...      6380.00  00:00:00\n",
              "\n",
              "[5 rows x 10 columns]"
            ]
          },
          "metadata": {
            "tags": []
          },
          "execution_count": 619
        }
      ]
    },
    {
      "cell_type": "code",
      "metadata": {
        "id": "8tyjAN3rLOE3"
      },
      "source": [
        "hour_df=Final_df"
      ],
      "execution_count": null,
      "outputs": []
    },
    {
      "cell_type": "code",
      "metadata": {
        "colab": {
          "base_uri": "https://localhost:8080/"
        },
        "id": "unOZKG9yLQp2",
        "outputId": "58d6afb3-803e-4b03-fd70-21c90cb78342"
      },
      "source": [
        "hour_df=hour_df.groupby('time').agg(lambda x: x.mean())\n",
        "hour_df"
      ],
      "execution_count": null,
      "outputs": [
        {
          "output_type": "execute_result",
          "data": {
            "text/html": [
              "<div>\n",
              "<style scoped>\n",
              "    .dataframe tbody tr th:only-of-type {\n",
              "        vertical-align: middle;\n",
              "    }\n",
              "\n",
              "    .dataframe tbody tr th {\n",
              "        vertical-align: top;\n",
              "    }\n",
              "\n",
              "    .dataframe thead th {\n",
              "        text-align: right;\n",
              "    }\n",
              "</style>\n",
              "<table border=\"1\" class=\"dataframe\">\n",
              "  <thead>\n",
              "    <tr style=\"text-align: right;\">\n",
              "      <th></th>\n",
              "      <th>Polarity</th>\n",
              "      <th>Sensitivity</th>\n",
              "      <th>Tweet_vol</th>\n",
              "      <th>Open</th>\n",
              "      <th>High</th>\n",
              "      <th>Low</th>\n",
              "      <th>Volume_BTC</th>\n",
              "      <th>Volume_Dollar</th>\n",
              "      <th>Close_Price</th>\n",
              "    </tr>\n",
              "    <tr>\n",
              "      <th>time</th>\n",
              "      <th></th>\n",
              "      <th></th>\n",
              "      <th></th>\n",
              "      <th></th>\n",
              "      <th></th>\n",
              "      <th></th>\n",
              "      <th></th>\n",
              "      <th></th>\n",
              "      <th></th>\n",
              "    </tr>\n",
              "  </thead>\n",
              "  <tbody>\n",
              "    <tr>\n",
              "      <th>00:00:00</th>\n",
              "      <td>0.090298</td>\n",
              "      <td>0.211771</td>\n",
              "      <td>3976.384615</td>\n",
              "      <td>6930.237692</td>\n",
              "      <td>6958.360769</td>\n",
              "      <td>6900.588462</td>\n",
              "      <td>322.836154</td>\n",
              "      <td>2.228120e+06</td>\n",
              "      <td>6935.983077</td>\n",
              "    </tr>\n",
              "    <tr>\n",
              "      <th>01:00:00</th>\n",
              "      <td>0.099596</td>\n",
              "      <td>0.211714</td>\n",
              "      <td>4016.615385</td>\n",
              "      <td>6935.140769</td>\n",
              "      <td>6963.533846</td>\n",
              "      <td>6894.772308</td>\n",
              "      <td>318.415385</td>\n",
              "      <td>2.243338e+06</td>\n",
              "      <td>6933.794615</td>\n",
              "    </tr>\n",
              "    <tr>\n",
              "      <th>02:00:00</th>\n",
              "      <td>0.102724</td>\n",
              "      <td>0.204445</td>\n",
              "      <td>3824.083333</td>\n",
              "      <td>6868.211667</td>\n",
              "      <td>6889.440000</td>\n",
              "      <td>6842.588333</td>\n",
              "      <td>158.836667</td>\n",
              "      <td>1.105651e+06</td>\n",
              "      <td>6870.695833</td>\n",
              "    </tr>\n",
              "    <tr>\n",
              "      <th>03:00:00</th>\n",
              "      <td>0.105586</td>\n",
              "      <td>0.214824</td>\n",
              "      <td>3791.666667</td>\n",
              "      <td>6870.573333</td>\n",
              "      <td>6909.675833</td>\n",
              "      <td>6855.316667</td>\n",
              "      <td>328.811667</td>\n",
              "      <td>2.385733e+06</td>\n",
              "      <td>6888.139167</td>\n",
              "    </tr>\n",
              "    <tr>\n",
              "      <th>04:00:00</th>\n",
              "      <td>0.103095</td>\n",
              "      <td>0.208516</td>\n",
              "      <td>3822.916667</td>\n",
              "      <td>6887.420000</td>\n",
              "      <td>6911.649167</td>\n",
              "      <td>6872.603333</td>\n",
              "      <td>271.692500</td>\n",
              "      <td>1.949230e+06</td>\n",
              "      <td>6890.985000</td>\n",
              "    </tr>\n",
              "    <tr>\n",
              "      <th>05:00:00</th>\n",
              "      <td>0.108032</td>\n",
              "      <td>0.215058</td>\n",
              "      <td>3904.166667</td>\n",
              "      <td>6891.468333</td>\n",
              "      <td>6911.175833</td>\n",
              "      <td>6869.017500</td>\n",
              "      <td>213.315000</td>\n",
              "      <td>1.524601e+06</td>\n",
              "      <td>6890.451667</td>\n",
              "    </tr>\n",
              "    <tr>\n",
              "      <th>06:00:00</th>\n",
              "      <td>0.104412</td>\n",
              "      <td>0.210424</td>\n",
              "      <td>3760.250000</td>\n",
              "      <td>6889.327500</td>\n",
              "      <td>6907.070833</td>\n",
              "      <td>6868.484167</td>\n",
              "      <td>183.329167</td>\n",
              "      <td>1.281427e+06</td>\n",
              "      <td>6891.371667</td>\n",
              "    </tr>\n",
              "    <tr>\n",
              "      <th>07:00:00</th>\n",
              "      <td>0.100942</td>\n",
              "      <td>0.209435</td>\n",
              "      <td>4056.000000</td>\n",
              "      <td>6891.645833</td>\n",
              "      <td>6908.654167</td>\n",
              "      <td>6858.290833</td>\n",
              "      <td>329.882500</td>\n",
              "      <td>2.263694e+06</td>\n",
              "      <td>6878.757500</td>\n",
              "    </tr>\n",
              "    <tr>\n",
              "      <th>08:00:00</th>\n",
              "      <td>0.099380</td>\n",
              "      <td>0.210113</td>\n",
              "      <td>5095.583333</td>\n",
              "      <td>6878.635833</td>\n",
              "      <td>6903.660833</td>\n",
              "      <td>6851.435833</td>\n",
              "      <td>368.109167</td>\n",
              "      <td>2.616314e+06</td>\n",
              "      <td>6885.867500</td>\n",
              "    </tr>\n",
              "    <tr>\n",
              "      <th>09:00:00</th>\n",
              "      <td>0.099369</td>\n",
              "      <td>0.204565</td>\n",
              "      <td>4650.083333</td>\n",
              "      <td>6886.526667</td>\n",
              "      <td>6915.735000</td>\n",
              "      <td>6852.922500</td>\n",
              "      <td>397.702500</td>\n",
              "      <td>2.740251e+06</td>\n",
              "      <td>6888.328333</td>\n",
              "    </tr>\n",
              "    <tr>\n",
              "      <th>10:00:00</th>\n",
              "      <td>0.099587</td>\n",
              "      <td>0.203848</td>\n",
              "      <td>4932.833333</td>\n",
              "      <td>6888.095000</td>\n",
              "      <td>6921.905000</td>\n",
              "      <td>6870.502500</td>\n",
              "      <td>318.982500</td>\n",
              "      <td>2.194532e+06</td>\n",
              "      <td>6905.600833</td>\n",
              "    </tr>\n",
              "    <tr>\n",
              "      <th>11:00:00</th>\n",
              "      <td>0.097061</td>\n",
              "      <td>0.203488</td>\n",
              "      <td>4996.333333</td>\n",
              "      <td>6904.373333</td>\n",
              "      <td>6928.490000</td>\n",
              "      <td>6885.326667</td>\n",
              "      <td>256.131667</td>\n",
              "      <td>1.766995e+06</td>\n",
              "      <td>6907.590000</td>\n",
              "    </tr>\n",
              "    <tr>\n",
              "      <th>12:00:00</th>\n",
              "      <td>0.099139</td>\n",
              "      <td>0.207495</td>\n",
              "      <td>5446.583333</td>\n",
              "      <td>6908.016667</td>\n",
              "      <td>6942.194167</td>\n",
              "      <td>6890.370000</td>\n",
              "      <td>314.837500</td>\n",
              "      <td>2.200126e+06</td>\n",
              "      <td>6922.389167</td>\n",
              "    </tr>\n",
              "    <tr>\n",
              "      <th>13:00:00</th>\n",
              "      <td>0.097565</td>\n",
              "      <td>0.208969</td>\n",
              "      <td>5565.083333</td>\n",
              "      <td>6922.530000</td>\n",
              "      <td>6948.463333</td>\n",
              "      <td>6902.968333</td>\n",
              "      <td>260.825000</td>\n",
              "      <td>1.808326e+06</td>\n",
              "      <td>6925.079167</td>\n",
              "    </tr>\n",
              "    <tr>\n",
              "      <th>14:00:00</th>\n",
              "      <td>0.098485</td>\n",
              "      <td>0.212563</td>\n",
              "      <td>5736.583333</td>\n",
              "      <td>6925.589167</td>\n",
              "      <td>6952.400833</td>\n",
              "      <td>6908.944167</td>\n",
              "      <td>288.322500</td>\n",
              "      <td>2.033892e+06</td>\n",
              "      <td>6936.545833</td>\n",
              "    </tr>\n",
              "    <tr>\n",
              "      <th>15:00:00</th>\n",
              "      <td>0.099428</td>\n",
              "      <td>0.212782</td>\n",
              "      <td>5686.500000</td>\n",
              "      <td>6934.180833</td>\n",
              "      <td>6965.962500</td>\n",
              "      <td>6915.395833</td>\n",
              "      <td>326.230000</td>\n",
              "      <td>2.313765e+06</td>\n",
              "      <td>6937.513333</td>\n",
              "    </tr>\n",
              "    <tr>\n",
              "      <th>16:00:00</th>\n",
              "      <td>0.098327</td>\n",
              "      <td>0.215643</td>\n",
              "      <td>5647.250000</td>\n",
              "      <td>6937.987500</td>\n",
              "      <td>6970.406667</td>\n",
              "      <td>6914.132500</td>\n",
              "      <td>411.930833</td>\n",
              "      <td>2.977255e+06</td>\n",
              "      <td>6947.045000</td>\n",
              "    </tr>\n",
              "    <tr>\n",
              "      <th>17:00:00</th>\n",
              "      <td>0.099674</td>\n",
              "      <td>0.219544</td>\n",
              "      <td>5482.333333</td>\n",
              "      <td>6947.205000</td>\n",
              "      <td>6986.905000</td>\n",
              "      <td>6928.375833</td>\n",
              "      <td>421.290833</td>\n",
              "      <td>3.020724e+06</td>\n",
              "      <td>6946.573333</td>\n",
              "    </tr>\n",
              "    <tr>\n",
              "      <th>18:00:00</th>\n",
              "      <td>0.098512</td>\n",
              "      <td>0.223854</td>\n",
              "      <td>5340.666667</td>\n",
              "      <td>6946.270833</td>\n",
              "      <td>7020.676667</td>\n",
              "      <td>6917.940000</td>\n",
              "      <td>621.599167</td>\n",
              "      <td>4.405309e+06</td>\n",
              "      <td>6985.155833</td>\n",
              "    </tr>\n",
              "    <tr>\n",
              "      <th>19:00:00</th>\n",
              "      <td>0.094025</td>\n",
              "      <td>0.227546</td>\n",
              "      <td>5345.583333</td>\n",
              "      <td>6984.812500</td>\n",
              "      <td>7048.856667</td>\n",
              "      <td>6948.802500</td>\n",
              "      <td>635.320833</td>\n",
              "      <td>4.639426e+06</td>\n",
              "      <td>6990.852500</td>\n",
              "    </tr>\n",
              "    <tr>\n",
              "      <th>20:00:00</th>\n",
              "      <td>0.096545</td>\n",
              "      <td>0.221846</td>\n",
              "      <td>4829.692308</td>\n",
              "      <td>6941.196923</td>\n",
              "      <td>6968.019231</td>\n",
              "      <td>6903.869231</td>\n",
              "      <td>396.382308</td>\n",
              "      <td>2.764029e+06</td>\n",
              "      <td>6937.162308</td>\n",
              "    </tr>\n",
              "    <tr>\n",
              "      <th>21:00:00</th>\n",
              "      <td>0.100486</td>\n",
              "      <td>0.227031</td>\n",
              "      <td>4586.076923</td>\n",
              "      <td>6937.536923</td>\n",
              "      <td>6961.624615</td>\n",
              "      <td>6902.450000</td>\n",
              "      <td>320.918462</td>\n",
              "      <td>2.235449e+06</td>\n",
              "      <td>6929.238462</td>\n",
              "    </tr>\n",
              "    <tr>\n",
              "      <th>22:00:00</th>\n",
              "      <td>0.101451</td>\n",
              "      <td>0.231768</td>\n",
              "      <td>4215.769231</td>\n",
              "      <td>6928.340769</td>\n",
              "      <td>6960.293846</td>\n",
              "      <td>6899.097692</td>\n",
              "      <td>201.525385</td>\n",
              "      <td>1.425684e+06</td>\n",
              "      <td>6924.276923</td>\n",
              "    </tr>\n",
              "    <tr>\n",
              "      <th>23:00:00</th>\n",
              "      <td>0.096164</td>\n",
              "      <td>0.218966</td>\n",
              "      <td>4081.230769</td>\n",
              "      <td>6924.337692</td>\n",
              "      <td>6960.037692</td>\n",
              "      <td>6893.017692</td>\n",
              "      <td>259.863846</td>\n",
              "      <td>1.851852e+06</td>\n",
              "      <td>6928.529231</td>\n",
              "    </tr>\n",
              "  </tbody>\n",
              "</table>\n",
              "</div>"
            ],
            "text/plain": [
              "          Polarity  Sensitivity  ...  Volume_Dollar  Close_Price\n",
              "time                             ...                            \n",
              "00:00:00  0.090298     0.211771  ...   2.228120e+06  6935.983077\n",
              "01:00:00  0.099596     0.211714  ...   2.243338e+06  6933.794615\n",
              "02:00:00  0.102724     0.204445  ...   1.105651e+06  6870.695833\n",
              "03:00:00  0.105586     0.214824  ...   2.385733e+06  6888.139167\n",
              "04:00:00  0.103095     0.208516  ...   1.949230e+06  6890.985000\n",
              "05:00:00  0.108032     0.215058  ...   1.524601e+06  6890.451667\n",
              "06:00:00  0.104412     0.210424  ...   1.281427e+06  6891.371667\n",
              "07:00:00  0.100942     0.209435  ...   2.263694e+06  6878.757500\n",
              "08:00:00  0.099380     0.210113  ...   2.616314e+06  6885.867500\n",
              "09:00:00  0.099369     0.204565  ...   2.740251e+06  6888.328333\n",
              "10:00:00  0.099587     0.203848  ...   2.194532e+06  6905.600833\n",
              "11:00:00  0.097061     0.203488  ...   1.766995e+06  6907.590000\n",
              "12:00:00  0.099139     0.207495  ...   2.200126e+06  6922.389167\n",
              "13:00:00  0.097565     0.208969  ...   1.808326e+06  6925.079167\n",
              "14:00:00  0.098485     0.212563  ...   2.033892e+06  6936.545833\n",
              "15:00:00  0.099428     0.212782  ...   2.313765e+06  6937.513333\n",
              "16:00:00  0.098327     0.215643  ...   2.977255e+06  6947.045000\n",
              "17:00:00  0.099674     0.219544  ...   3.020724e+06  6946.573333\n",
              "18:00:00  0.098512     0.223854  ...   4.405309e+06  6985.155833\n",
              "19:00:00  0.094025     0.227546  ...   4.639426e+06  6990.852500\n",
              "20:00:00  0.096545     0.221846  ...   2.764029e+06  6937.162308\n",
              "21:00:00  0.100486     0.227031  ...   2.235449e+06  6929.238462\n",
              "22:00:00  0.101451     0.231768  ...   1.425684e+06  6924.276923\n",
              "23:00:00  0.096164     0.218966  ...   1.851852e+06  6928.529231\n",
              "\n",
              "[24 rows x 9 columns]"
            ]
          },
          "metadata": {
            "tags": []
          },
          "execution_count": 621
        }
      ]
    },
    {
      "cell_type": "code",
      "metadata": {
        "colab": {
          "base_uri": "https://localhost:8080/"
        },
        "id": "GcXeob5sLXsZ",
        "outputId": "dcbfa5df-3bf7-44c3-8371-9de107351a68"
      },
      "source": [
        "hour_df.head()"
      ],
      "execution_count": null,
      "outputs": [
        {
          "output_type": "execute_result",
          "data": {
            "text/html": [
              "<div>\n",
              "<style scoped>\n",
              "    .dataframe tbody tr th:only-of-type {\n",
              "        vertical-align: middle;\n",
              "    }\n",
              "\n",
              "    .dataframe tbody tr th {\n",
              "        vertical-align: top;\n",
              "    }\n",
              "\n",
              "    .dataframe thead th {\n",
              "        text-align: right;\n",
              "    }\n",
              "</style>\n",
              "<table border=\"1\" class=\"dataframe\">\n",
              "  <thead>\n",
              "    <tr style=\"text-align: right;\">\n",
              "      <th></th>\n",
              "      <th>Polarity</th>\n",
              "      <th>Sensitivity</th>\n",
              "      <th>Tweet_vol</th>\n",
              "      <th>Open</th>\n",
              "      <th>High</th>\n",
              "      <th>Low</th>\n",
              "      <th>Volume_BTC</th>\n",
              "      <th>Volume_Dollar</th>\n",
              "      <th>Close_Price</th>\n",
              "    </tr>\n",
              "    <tr>\n",
              "      <th>time</th>\n",
              "      <th></th>\n",
              "      <th></th>\n",
              "      <th></th>\n",
              "      <th></th>\n",
              "      <th></th>\n",
              "      <th></th>\n",
              "      <th></th>\n",
              "      <th></th>\n",
              "      <th></th>\n",
              "    </tr>\n",
              "  </thead>\n",
              "  <tbody>\n",
              "    <tr>\n",
              "      <th>00:00:00</th>\n",
              "      <td>0.090298</td>\n",
              "      <td>0.211771</td>\n",
              "      <td>3976.384615</td>\n",
              "      <td>6930.237692</td>\n",
              "      <td>6958.360769</td>\n",
              "      <td>6900.588462</td>\n",
              "      <td>322.836154</td>\n",
              "      <td>2.228120e+06</td>\n",
              "      <td>6935.983077</td>\n",
              "    </tr>\n",
              "    <tr>\n",
              "      <th>01:00:00</th>\n",
              "      <td>0.099596</td>\n",
              "      <td>0.211714</td>\n",
              "      <td>4016.615385</td>\n",
              "      <td>6935.140769</td>\n",
              "      <td>6963.533846</td>\n",
              "      <td>6894.772308</td>\n",
              "      <td>318.415385</td>\n",
              "      <td>2.243338e+06</td>\n",
              "      <td>6933.794615</td>\n",
              "    </tr>\n",
              "    <tr>\n",
              "      <th>02:00:00</th>\n",
              "      <td>0.102724</td>\n",
              "      <td>0.204445</td>\n",
              "      <td>3824.083333</td>\n",
              "      <td>6868.211667</td>\n",
              "      <td>6889.440000</td>\n",
              "      <td>6842.588333</td>\n",
              "      <td>158.836667</td>\n",
              "      <td>1.105651e+06</td>\n",
              "      <td>6870.695833</td>\n",
              "    </tr>\n",
              "    <tr>\n",
              "      <th>03:00:00</th>\n",
              "      <td>0.105586</td>\n",
              "      <td>0.214824</td>\n",
              "      <td>3791.666667</td>\n",
              "      <td>6870.573333</td>\n",
              "      <td>6909.675833</td>\n",
              "      <td>6855.316667</td>\n",
              "      <td>328.811667</td>\n",
              "      <td>2.385733e+06</td>\n",
              "      <td>6888.139167</td>\n",
              "    </tr>\n",
              "    <tr>\n",
              "      <th>04:00:00</th>\n",
              "      <td>0.103095</td>\n",
              "      <td>0.208516</td>\n",
              "      <td>3822.916667</td>\n",
              "      <td>6887.420000</td>\n",
              "      <td>6911.649167</td>\n",
              "      <td>6872.603333</td>\n",
              "      <td>271.692500</td>\n",
              "      <td>1.949230e+06</td>\n",
              "      <td>6890.985000</td>\n",
              "    </tr>\n",
              "  </tbody>\n",
              "</table>\n",
              "</div>"
            ],
            "text/plain": [
              "          Polarity  Sensitivity  ...  Volume_Dollar  Close_Price\n",
              "time                             ...                            \n",
              "00:00:00  0.090298     0.211771  ...   2.228120e+06  6935.983077\n",
              "01:00:00  0.099596     0.211714  ...   2.243338e+06  6933.794615\n",
              "02:00:00  0.102724     0.204445  ...   1.105651e+06  6870.695833\n",
              "03:00:00  0.105586     0.214824  ...   2.385733e+06  6888.139167\n",
              "04:00:00  0.103095     0.208516  ...   1.949230e+06  6890.985000\n",
              "\n",
              "[5 rows x 9 columns]"
            ]
          },
          "metadata": {
            "tags": []
          },
          "execution_count": 622
        }
      ]
    },
    {
      "cell_type": "code",
      "metadata": {
        "colab": {
          "base_uri": "https://localhost:8080/"
        },
        "id": "IQsl6zpjLbW1",
        "outputId": "b0b02030-d94c-4bb6-edde-e7bdac2fdcc3"
      },
      "source": [
        "#sns Hourly Heatmap\n",
        "hour_df['hour'] = hour_df.index\n",
        "result = hour_df.pivot(index='hour', columns='Polarity', values='Volume_BTC')\n",
        "sns.heatmap(result, annot=True, fmt=\"g\", cmap='viridis')\n",
        "plt.title('Polarity x BTC Volume avg(Hr)')\n",
        "plt.show()\n",
        "\n",
        "#sns daily heatmap?"
      ],
      "execution_count": null,
      "outputs": [
        {
          "output_type": "display_data",
          "data": {
            "image/png": "[encoded data removed]",
            "text/plain": [
              "<Figure size 432x288 with 2 Axes>"
            ]
          },
          "metadata": {
            "tags": []
          }
        }
      ]
    },
    {
      "cell_type": "code",
      "metadata": {
        "colab": {
          "base_uri": "https://localhost:8080/"
        },
        "id": "GXVt9wWhLfgp",
        "outputId": "454afcae-67c9-4c54-e3a1-9d67c7968579"
      },
      "source": [
        "hour_df['hour'] = hour_df.index\n",
        "result = hour_df.pivot(index='Volume_BTC', columns='hour', values='Tweet_vol')\n",
        "sns.heatmap(result, annot=True, fmt=\"g\", cmap='viridis')\n",
        "plt.title('BTC Vol x Tweet Vol avg(Hr)')\n",
        "plt.show()"
      ],
      "execution_count": null,
      "outputs": [
        {
          "output_type": "display_data",
          "data": {
            "image/png": "[encoded data removed]",
            "text/plain": [
              "<Figure size 432x288 with 2 Axes>"
            ]
          },
          "metadata": {
            "tags": []
          }
        }
      ]
    },
    {
      "cell_type": "code",
      "metadata": {
        "colab": {
          "base_uri": "https://localhost:8080/"
        },
        "id": "8ztfvVMlLitH",
        "outputId": "9cac9fb4-abb3-40b3-806b-b6a3c5487831"
      },
      "source": [
        "cor = Final_df.corr()\n",
        "cor\n",
        "\n",
        "\n",
        "#----------------End Analysis------------------------#"
      ],
      "execution_count": null,
      "outputs": [
        {
          "output_type": "execute_result",
          "data": {
            "text/html": [
              "<div>\n",
              "<style scoped>\n",
              "    .dataframe tbody tr th:only-of-type {\n",
              "        vertical-align: middle;\n",
              "    }\n",
              "\n",
              "    .dataframe tbody tr th {\n",
              "        vertical-align: top;\n",
              "    }\n",
              "\n",
              "    .dataframe thead th {\n",
              "        text-align: right;\n",
              "    }\n",
              "</style>\n",
              "<table border=\"1\" class=\"dataframe\">\n",
              "  <thead>\n",
              "    <tr style=\"text-align: right;\">\n",
              "      <th></th>\n",
              "      <th>Polarity</th>\n",
              "      <th>Sensitivity</th>\n",
              "      <th>Tweet_vol</th>\n",
              "      <th>Open</th>\n",
              "      <th>High</th>\n",
              "      <th>Low</th>\n",
              "      <th>Volume_BTC</th>\n",
              "      <th>Volume_Dollar</th>\n",
              "      <th>Close_Price</th>\n",
              "    </tr>\n",
              "  </thead>\n",
              "  <tbody>\n",
              "    <tr>\n",
              "      <th>Polarity</th>\n",
              "      <td>1.000000</td>\n",
              "      <td>0.380350</td>\n",
              "      <td>-0.167573</td>\n",
              "      <td>0.179056</td>\n",
              "      <td>0.176277</td>\n",
              "      <td>0.180088</td>\n",
              "      <td>-0.062868</td>\n",
              "      <td>-0.052646</td>\n",
              "      <td>0.178456</td>\n",
              "    </tr>\n",
              "    <tr>\n",
              "      <th>Sensitivity</th>\n",
              "      <td>0.380350</td>\n",
              "      <td>1.000000</td>\n",
              "      <td>0.053903</td>\n",
              "      <td>0.194763</td>\n",
              "      <td>0.200611</td>\n",
              "      <td>0.190222</td>\n",
              "      <td>0.097124</td>\n",
              "      <td>0.112425</td>\n",
              "      <td>0.193203</td>\n",
              "    </tr>\n",
              "    <tr>\n",
              "      <th>Tweet_vol</th>\n",
              "      <td>-0.167573</td>\n",
              "      <td>0.053903</td>\n",
              "      <td>1.000000</td>\n",
              "      <td>0.237185</td>\n",
              "      <td>0.262207</td>\n",
              "      <td>0.234330</td>\n",
              "      <td>0.541112</td>\n",
              "      <td>0.545850</td>\n",
              "      <td>0.250448</td>\n",
              "    </tr>\n",
              "    <tr>\n",
              "      <th>Open</th>\n",
              "      <td>0.179056</td>\n",
              "      <td>0.194763</td>\n",
              "      <td>0.237185</td>\n",
              "      <td>1.000000</td>\n",
              "      <td>0.997128</td>\n",
              "      <td>0.998799</td>\n",
              "      <td>0.217478</td>\n",
              "      <td>0.277600</td>\n",
              "      <td>0.997217</td>\n",
              "    </tr>\n",
              "    <tr>\n",
              "      <th>High</th>\n",
              "      <td>0.176277</td>\n",
              "      <td>0.200611</td>\n",
              "      <td>0.262207</td>\n",
              "      <td>0.997128</td>\n",
              "      <td>1.000000</td>\n",
              "      <td>0.996650</td>\n",
              "      <td>0.270551</td>\n",
              "      <td>0.329816</td>\n",
              "      <td>0.998816</td>\n",
              "    </tr>\n",
              "    <tr>\n",
              "      <th>Low</th>\n",
              "      <td>0.180088</td>\n",
              "      <td>0.190222</td>\n",
              "      <td>0.234330</td>\n",
              "      <td>0.998799</td>\n",
              "      <td>0.996650</td>\n",
              "      <td>1.000000</td>\n",
              "      <td>0.202895</td>\n",
              "      <td>0.263863</td>\n",
              "      <td>0.998058</td>\n",
              "    </tr>\n",
              "    <tr>\n",
              "      <th>Volume_BTC</th>\n",
              "      <td>-0.062868</td>\n",
              "      <td>0.097124</td>\n",
              "      <td>0.541112</td>\n",
              "      <td>0.217478</td>\n",
              "      <td>0.270551</td>\n",
              "      <td>0.202895</td>\n",
              "      <td>1.000000</td>\n",
              "      <td>0.995873</td>\n",
              "      <td>0.243875</td>\n",
              "    </tr>\n",
              "    <tr>\n",
              "      <th>Volume_Dollar</th>\n",
              "      <td>-0.052646</td>\n",
              "      <td>0.112425</td>\n",
              "      <td>0.545850</td>\n",
              "      <td>0.277600</td>\n",
              "      <td>0.329816</td>\n",
              "      <td>0.263863</td>\n",
              "      <td>0.995873</td>\n",
              "      <td>1.000000</td>\n",
              "      <td>0.303347</td>\n",
              "    </tr>\n",
              "    <tr>\n",
              "      <th>Close_Price</th>\n",
              "      <td>0.178456</td>\n",
              "      <td>0.193203</td>\n",
              "      <td>0.250448</td>\n",
              "      <td>0.997217</td>\n",
              "      <td>0.998816</td>\n",
              "      <td>0.998058</td>\n",
              "      <td>0.243875</td>\n",
              "      <td>0.303347</td>\n",
              "      <td>1.000000</td>\n",
              "    </tr>\n",
              "  </tbody>\n",
              "</table>\n",
              "</div>"
            ],
            "text/plain": [
              "               Polarity  Sensitivity  ...  Volume_Dollar  Close_Price\n",
              "Polarity       1.000000     0.380350  ...      -0.052646     0.178456\n",
              "Sensitivity    0.380350     1.000000  ...       0.112425     0.193203\n",
              "Tweet_vol     -0.167573     0.053903  ...       0.545850     0.250448\n",
              "Open           0.179056     0.194763  ...       0.277600     0.997217\n",
              "High           0.176277     0.200611  ...       0.329816     0.998816\n",
              "Low            0.180088     0.190222  ...       0.263863     0.998058\n",
              "Volume_BTC    -0.062868     0.097124  ...       0.995873     0.243875\n",
              "Volume_Dollar -0.052646     0.112425  ...       1.000000     0.303347\n",
              "Close_Price    0.178456     0.193203  ...       0.303347     1.000000\n",
              "\n",
              "[9 rows x 9 columns]"
            ]
          },
          "metadata": {
            "tags": []
          },
          "execution_count": 625
        }
      ]
    },
    {
      "cell_type": "markdown",
      "metadata": {
        "id": "SAD61MEPLsGl"
      },
      "source": [
        "**LSTM** **Preparation**"
      ]
    },
    {
      "cell_type": "code",
      "metadata": {
        "id": "lgYaHCOlLoC-"
      },
      "source": [
        "df = Final_df"
      ],
      "execution_count": null,
      "outputs": []
    },
    {
      "cell_type": "code",
      "metadata": {
        "colab": {
          "base_uri": "https://localhost:8080/"
        },
        "id": "rbMdu0XiLzx4",
        "outputId": "472801a1-9076-4869-a722-8d9aa68a05e8"
      },
      "source": [
        "df.info()"
      ],
      "execution_count": null,
      "outputs": [
        {
          "output_type": "stream",
          "text": [
            "<class 'pandas.core.frame.DataFrame'>\n",
            "DatetimeIndex: 294 entries, 2018-07-11 20:00:00 to 2018-07-24 01:00:00\n",
            "Data columns (total 10 columns):\n",
            " #   Column         Non-Null Count  Dtype  \n",
            "---  ------         --------------  -----  \n",
            " 0   Polarity       294 non-null    float64\n",
            " 1   Sensitivity    294 non-null    float64\n",
            " 2   Tweet_vol      294 non-null    float64\n",
            " 3   Open           294 non-null    float64\n",
            " 4   High           294 non-null    float64\n",
            " 5   Low            294 non-null    float64\n",
            " 6   Volume_BTC     294 non-null    float64\n",
            " 7   Volume_Dollar  294 non-null    float64\n",
            " 8   Close_Price    294 non-null    float64\n",
            " 9   time           294 non-null    object \n",
            "dtypes: float64(9), object(1)\n",
            "memory usage: 25.3+ KB\n"
          ],
          "name": "stdout"
        }
      ]
    },
    {
      "cell_type": "code",
      "metadata": {
        "colab": {
          "base_uri": "https://localhost:8080/"
        },
        "id": "mVfTHeF4L6z5",
        "outputId": "ef9cb278-f292-4c1f-fc74-fe3be01dfcb6"
      },
      "source": [
        "df = df.drop(['Open','High', 'Low', 'Volume_Dollar'], axis=1)\n",
        "df.head()"
      ],
      "execution_count": null,
      "outputs": [
        {
          "output_type": "execute_result",
          "data": {
            "text/html": [
              "<div>\n",
              "<style scoped>\n",
              "    .dataframe tbody tr th:only-of-type {\n",
              "        vertical-align: middle;\n",
              "    }\n",
              "\n",
              "    .dataframe tbody tr th {\n",
              "        vertical-align: top;\n",
              "    }\n",
              "\n",
              "    .dataframe thead th {\n",
              "        text-align: right;\n",
              "    }\n",
              "</style>\n",
              "<table border=\"1\" class=\"dataframe\">\n",
              "  <thead>\n",
              "    <tr style=\"text-align: right;\">\n",
              "      <th></th>\n",
              "      <th>Polarity</th>\n",
              "      <th>Sensitivity</th>\n",
              "      <th>Tweet_vol</th>\n",
              "      <th>Volume_BTC</th>\n",
              "      <th>Close_Price</th>\n",
              "      <th>time</th>\n",
              "    </tr>\n",
              "  </thead>\n",
              "  <tbody>\n",
              "    <tr>\n",
              "      <th>2018-07-11 20:00:00</th>\n",
              "      <td>0.102657</td>\n",
              "      <td>0.216148</td>\n",
              "      <td>4354.0</td>\n",
              "      <td>986.73</td>\n",
              "      <td>6350.00</td>\n",
              "      <td>20:00:00</td>\n",
              "    </tr>\n",
              "    <tr>\n",
              "      <th>2018-07-11 21:00:00</th>\n",
              "      <td>0.098004</td>\n",
              "      <td>0.218612</td>\n",
              "      <td>4432.0</td>\n",
              "      <td>126.46</td>\n",
              "      <td>6356.48</td>\n",
              "      <td>21:00:00</td>\n",
              "    </tr>\n",
              "    <tr>\n",
              "      <th>2018-07-11 22:00:00</th>\n",
              "      <td>0.096688</td>\n",
              "      <td>0.231342</td>\n",
              "      <td>3980.0</td>\n",
              "      <td>259.10</td>\n",
              "      <td>6361.93</td>\n",
              "      <td>22:00:00</td>\n",
              "    </tr>\n",
              "    <tr>\n",
              "      <th>2018-07-11 23:00:00</th>\n",
              "      <td>0.103997</td>\n",
              "      <td>0.217739</td>\n",
              "      <td>3830.0</td>\n",
              "      <td>81.54</td>\n",
              "      <td>6368.78</td>\n",
              "      <td>23:00:00</td>\n",
              "    </tr>\n",
              "    <tr>\n",
              "      <th>2018-07-12 00:00:00</th>\n",
              "      <td>0.094383</td>\n",
              "      <td>0.195256</td>\n",
              "      <td>3998.0</td>\n",
              "      <td>124.55</td>\n",
              "      <td>6380.00</td>\n",
              "      <td>00:00:00</td>\n",
              "    </tr>\n",
              "  </tbody>\n",
              "</table>\n",
              "</div>"
            ],
            "text/plain": [
              "                     Polarity  Sensitivity  ...  Close_Price      time\n",
              "2018-07-11 20:00:00  0.102657     0.216148  ...      6350.00  20:00:00\n",
              "2018-07-11 21:00:00  0.098004     0.218612  ...      6356.48  21:00:00\n",
              "2018-07-11 22:00:00  0.096688     0.231342  ...      6361.93  22:00:00\n",
              "2018-07-11 23:00:00  0.103997     0.217739  ...      6368.78  23:00:00\n",
              "2018-07-12 00:00:00  0.094383     0.195256  ...      6380.00  00:00:00\n",
              "\n",
              "[5 rows x 6 columns]"
            ]
          },
          "metadata": {
            "tags": []
          },
          "execution_count": 628
        }
      ]
    },
    {
      "cell_type": "code",
      "metadata": {
        "colab": {
          "base_uri": "https://localhost:8080/"
        },
        "id": "Dcx50FHSL-R1",
        "outputId": "6e721465-929c-4219-ae25-3ea16b69e09b"
      },
      "source": [
        "df = df[['Close_Price', 'Polarity', 'Sensitivity','Tweet_vol','Volume_BTC']]\n",
        "df.head()"
      ],
      "execution_count": null,
      "outputs": [
        {
          "output_type": "execute_result",
          "data": {
            "text/html": [
              "<div>\n",
              "<style scoped>\n",
              "    .dataframe tbody tr th:only-of-type {\n",
              "        vertical-align: middle;\n",
              "    }\n",
              "\n",
              "    .dataframe tbody tr th {\n",
              "        vertical-align: top;\n",
              "    }\n",
              "\n",
              "    .dataframe thead th {\n",
              "        text-align: right;\n",
              "    }\n",
              "</style>\n",
              "<table border=\"1\" class=\"dataframe\">\n",
              "  <thead>\n",
              "    <tr style=\"text-align: right;\">\n",
              "      <th></th>\n",
              "      <th>Close_Price</th>\n",
              "      <th>Polarity</th>\n",
              "      <th>Sensitivity</th>\n",
              "      <th>Tweet_vol</th>\n",
              "      <th>Volume_BTC</th>\n",
              "    </tr>\n",
              "  </thead>\n",
              "  <tbody>\n",
              "    <tr>\n",
              "      <th>2018-07-11 20:00:00</th>\n",
              "      <td>6350.00</td>\n",
              "      <td>0.102657</td>\n",
              "      <td>0.216148</td>\n",
              "      <td>4354.0</td>\n",
              "      <td>986.73</td>\n",
              "    </tr>\n",
              "    <tr>\n",
              "      <th>2018-07-11 21:00:00</th>\n",
              "      <td>6356.48</td>\n",
              "      <td>0.098004</td>\n",
              "      <td>0.218612</td>\n",
              "      <td>4432.0</td>\n",
              "      <td>126.46</td>\n",
              "    </tr>\n",
              "    <tr>\n",
              "      <th>2018-07-11 22:00:00</th>\n",
              "      <td>6361.93</td>\n",
              "      <td>0.096688</td>\n",
              "      <td>0.231342</td>\n",
              "      <td>3980.0</td>\n",
              "      <td>259.10</td>\n",
              "    </tr>\n",
              "    <tr>\n",
              "      <th>2018-07-11 23:00:00</th>\n",
              "      <td>6368.78</td>\n",
              "      <td>0.103997</td>\n",
              "      <td>0.217739</td>\n",
              "      <td>3830.0</td>\n",
              "      <td>81.54</td>\n",
              "    </tr>\n",
              "    <tr>\n",
              "      <th>2018-07-12 00:00:00</th>\n",
              "      <td>6380.00</td>\n",
              "      <td>0.094383</td>\n",
              "      <td>0.195256</td>\n",
              "      <td>3998.0</td>\n",
              "      <td>124.55</td>\n",
              "    </tr>\n",
              "  </tbody>\n",
              "</table>\n",
              "</div>"
            ],
            "text/plain": [
              "                     Close_Price  Polarity  Sensitivity  Tweet_vol  Volume_BTC\n",
              "2018-07-11 20:00:00      6350.00  0.102657     0.216148     4354.0      986.73\n",
              "2018-07-11 21:00:00      6356.48  0.098004     0.218612     4432.0      126.46\n",
              "2018-07-11 22:00:00      6361.93  0.096688     0.231342     3980.0      259.10\n",
              "2018-07-11 23:00:00      6368.78  0.103997     0.217739     3830.0       81.54\n",
              "2018-07-12 00:00:00      6380.00  0.094383     0.195256     3998.0      124.55"
            ]
          },
          "metadata": {
            "tags": []
          },
          "execution_count": 629
        }
      ]
    },
    {
      "cell_type": "code",
      "metadata": {
        "colab": {
          "base_uri": "https://localhost:8080/"
        },
        "id": "_WlZXtysMCc1",
        "outputId": "adc1f68e-d97b-4c25-8e34-bda6e7a42b71"
      },
      "source": [
        "cor = df.corr()\n",
        "import matplotlib.pyplot as plt\n",
        "sns.set(style=\"white\")\n",
        "f, ax = plt.subplots(figsize=(11, 9))\n",
        "\n",
        "cmap = sns.diverging_palette(220, 10, as_cmap=True)\n",
        "ax =sns.heatmap(cor, cmap=cmap, vmax=1, center=0,\n",
        "            square=True, linewidths=.5, cbar_kws={\"shrink\": .7})\n",
        "plt.show()"
      ],
      "execution_count": null,
      "outputs": [
        {
          "output_type": "display_data",
          "data": {
            "image/png": "[encoded data removed]",
            "text/plain": [
              "<Figure size 792x648 with 2 Axes>"
            ]
          },
          "metadata": {
            "tags": []
          }
        }
      ]
    },
    {
      "cell_type": "markdown",
      "metadata": {
        "id": "8rLArvSWMLH3"
      },
      "source": [
        "# LSTM Model"
      ]
    },
    {
      "cell_type": "code",
      "metadata": {
        "id": "d1fDXRASMElL"
      },
      "source": [
        "from math import sqrt\n",
        "from numpy import concatenate\n",
        "from sklearn.preprocessing import MinMaxScaler\n",
        "from sklearn.preprocessing import LabelEncoder\n",
        "from sklearn.metrics import mean_squared_error\n",
        "from matplotlib import pyplot\n",
        "\n",
        "from pandas import read_csv\n",
        "from pandas import DataFrame\n",
        "from pandas import concat\n",
        "from keras.models import Sequential\n",
        "from keras.layers import Dense\n",
        "from keras.layers import LSTM\n",
        "\n",
        "# convert series to supervised learning\n",
        "def series_to_supervised(data, n_in=1, n_out=1, dropnan=True):\n",
        "\tn_vars = 1 if type(data) is list else data.shape[1]\n",
        "\tdf = DataFrame(data)\n",
        "\tcols, names = list(), list()\n",
        "\t# input sequence (t-n, ... t-1)\n",
        "\tfor i in range(n_in, 0, -1):\n",
        "\t\tcols.append(df.shift(i))\n",
        "\t\tnames += [('var%d(t-%d)' % (j+1, i)) for j in range(n_vars)]\n",
        "\t# forecast sequence (t, t+1, ... t+n)\n",
        "\tfor i in range(0, n_out):\n",
        "\t\tcols.append(df.shift(-i))\n",
        "\t\tif i == 0:\n",
        "\t\t\tnames += [('var%d(t)' % (j+1)) for j in range(n_vars)]\n",
        "\t\telse:\n",
        "\t\t\tnames += [('var%d(t+%d)' % (j+1, i)) for j in range(n_vars)]\n",
        "\t# put it all together\n",
        "\tagg = concat(cols, axis=1)\n",
        "\tagg.columns = names\n",
        "\t# drop rows with NaN values\n",
        "\tif dropnan:\n",
        "\t\tagg.dropna(inplace=True)\n",
        "\treturn agg"
      ],
      "execution_count": null,
      "outputs": []
    },
    {
      "cell_type": "code",
      "metadata": {
        "colab": {
          "base_uri": "https://localhost:8080/",
          "height": 195
        },
        "id": "9MN72NzeM0GX",
        "outputId": "2fcafb57-6ce5-4ce9-a3b2-040c8ddc3994"
      },
      "source": [
        "values = df.values\n",
        "cols = df.columns.tolist()\n",
        "cols = cols[-1:] + cols[:-1]\n",
        "df = df[cols]\n",
        "df = df[['Close_Price', 'Polarity', 'Sensitivity','Tweet_vol','Volume_BTC']]\n",
        "df.head()"
      ],
      "execution_count": null,
      "outputs": [
        {
          "output_type": "execute_result",
          "data": {
            "text/html": [
              "<div>\n",
              "<style scoped>\n",
              "    .dataframe tbody tr th:only-of-type {\n",
              "        vertical-align: middle;\n",
              "    }\n",
              "\n",
              "    .dataframe tbody tr th {\n",
              "        vertical-align: top;\n",
              "    }\n",
              "\n",
              "    .dataframe thead th {\n",
              "        text-align: right;\n",
              "    }\n",
              "</style>\n",
              "<table border=\"1\" class=\"dataframe\">\n",
              "  <thead>\n",
              "    <tr style=\"text-align: right;\">\n",
              "      <th></th>\n",
              "      <th>Close_Price</th>\n",
              "      <th>Polarity</th>\n",
              "      <th>Sensitivity</th>\n",
              "      <th>Tweet_vol</th>\n",
              "      <th>Volume_BTC</th>\n",
              "    </tr>\n",
              "  </thead>\n",
              "  <tbody>\n",
              "    <tr>\n",
              "      <th>2018-07-11 20:00:00</th>\n",
              "      <td>6350.00</td>\n",
              "      <td>0.102657</td>\n",
              "      <td>0.216148</td>\n",
              "      <td>4354.0</td>\n",
              "      <td>986.73</td>\n",
              "    </tr>\n",
              "    <tr>\n",
              "      <th>2018-07-11 21:00:00</th>\n",
              "      <td>6356.48</td>\n",
              "      <td>0.098004</td>\n",
              "      <td>0.218612</td>\n",
              "      <td>4432.0</td>\n",
              "      <td>126.46</td>\n",
              "    </tr>\n",
              "    <tr>\n",
              "      <th>2018-07-11 22:00:00</th>\n",
              "      <td>6361.93</td>\n",
              "      <td>0.096688</td>\n",
              "      <td>0.231342</td>\n",
              "      <td>3980.0</td>\n",
              "      <td>259.10</td>\n",
              "    </tr>\n",
              "    <tr>\n",
              "      <th>2018-07-11 23:00:00</th>\n",
              "      <td>6368.78</td>\n",
              "      <td>0.103997</td>\n",
              "      <td>0.217739</td>\n",
              "      <td>3830.0</td>\n",
              "      <td>81.54</td>\n",
              "    </tr>\n",
              "    <tr>\n",
              "      <th>2018-07-12 00:00:00</th>\n",
              "      <td>6380.00</td>\n",
              "      <td>0.094383</td>\n",
              "      <td>0.195256</td>\n",
              "      <td>3998.0</td>\n",
              "      <td>124.55</td>\n",
              "    </tr>\n",
              "  </tbody>\n",
              "</table>\n",
              "</div>"
            ],
            "text/plain": [
              "                     Close_Price  Polarity  Sensitivity  Tweet_vol  Volume_BTC\n",
              "2018-07-11 20:00:00      6350.00  0.102657     0.216148     4354.0      986.73\n",
              "2018-07-11 21:00:00      6356.48  0.098004     0.218612     4432.0      126.46\n",
              "2018-07-11 22:00:00      6361.93  0.096688     0.231342     3980.0      259.10\n",
              "2018-07-11 23:00:00      6368.78  0.103997     0.217739     3830.0       81.54\n",
              "2018-07-12 00:00:00      6380.00  0.094383     0.195256     3998.0      124.55"
            ]
          },
          "metadata": {
            "tags": []
          },
          "execution_count": 632
        }
      ]
    },
    {
      "cell_type": "code",
      "metadata": {
        "id": "J-8HunhwM-52"
      },
      "source": [
        "scaler = MinMaxScaler(feature_range=(0, 1))\n",
        "scaled = scaler.fit_transform(df.values)\n",
        "n_hours = 3 #adding 3 hours lags creating number of observations \n",
        "n_features = 5 #Features in the dataset.\n",
        "n_obs = n_hours*n_features"
      ],
      "execution_count": null,
      "outputs": []
    },
    {
      "cell_type": "code",
      "metadata": {
        "colab": {
          "base_uri": "https://localhost:8080/",
          "height": 232
        },
        "id": "KmsltjTDNFR_",
        "outputId": "5e3c64c7-8698-42a5-a1a1-a4025467e5de"
      },
      "source": [
        "reframed = series_to_supervised(scaled, n_hours, 1)\n",
        "reframed.head()"
      ],
      "execution_count": null,
      "outputs": [
        {
          "output_type": "execute_result",
          "data": {
            "text/html": [
              "<div>\n",
              "<style scoped>\n",
              "    .dataframe tbody tr th:only-of-type {\n",
              "        vertical-align: middle;\n",
              "    }\n",
              "\n",
              "    .dataframe tbody tr th {\n",
              "        vertical-align: top;\n",
              "    }\n",
              "\n",
              "    .dataframe thead th {\n",
              "        text-align: right;\n",
              "    }\n",
              "</style>\n",
              "<table border=\"1\" class=\"dataframe\">\n",
              "  <thead>\n",
              "    <tr style=\"text-align: right;\">\n",
              "      <th></th>\n",
              "      <th>var1(t-3)</th>\n",
              "      <th>var2(t-3)</th>\n",
              "      <th>var3(t-3)</th>\n",
              "      <th>var4(t-3)</th>\n",
              "      <th>var5(t-3)</th>\n",
              "      <th>var1(t-2)</th>\n",
              "      <th>var2(t-2)</th>\n",
              "      <th>var3(t-2)</th>\n",
              "      <th>var4(t-2)</th>\n",
              "      <th>var5(t-2)</th>\n",
              "      <th>var1(t-1)</th>\n",
              "      <th>var2(t-1)</th>\n",
              "      <th>var3(t-1)</th>\n",
              "      <th>var4(t-1)</th>\n",
              "      <th>var5(t-1)</th>\n",
              "      <th>var1(t)</th>\n",
              "      <th>var2(t)</th>\n",
              "      <th>var3(t)</th>\n",
              "      <th>var4(t)</th>\n",
              "      <th>var5(t)</th>\n",
              "    </tr>\n",
              "  </thead>\n",
              "  <tbody>\n",
              "    <tr>\n",
              "      <th>3</th>\n",
              "      <td>0.125479</td>\n",
              "      <td>0.611105</td>\n",
              "      <td>0.429055</td>\n",
              "      <td>0.181916</td>\n",
              "      <td>0.368430</td>\n",
              "      <td>0.129527</td>\n",
              "      <td>0.555312</td>\n",
              "      <td>0.454335</td>\n",
              "      <td>0.192380</td>\n",
              "      <td>0.039893</td>\n",
              "      <td>0.132931</td>\n",
              "      <td>0.539534</td>\n",
              "      <td>0.584943</td>\n",
              "      <td>0.131741</td>\n",
              "      <td>0.090548</td>\n",
              "      <td>0.137210</td>\n",
              "      <td>0.627175</td>\n",
              "      <td>0.445375</td>\n",
              "      <td>0.111618</td>\n",
              "      <td>0.022738</td>\n",
              "    </tr>\n",
              "    <tr>\n",
              "      <th>4</th>\n",
              "      <td>0.129527</td>\n",
              "      <td>0.555312</td>\n",
              "      <td>0.454335</td>\n",
              "      <td>0.192380</td>\n",
              "      <td>0.039893</td>\n",
              "      <td>0.132931</td>\n",
              "      <td>0.539534</td>\n",
              "      <td>0.584943</td>\n",
              "      <td>0.131741</td>\n",
              "      <td>0.090548</td>\n",
              "      <td>0.137210</td>\n",
              "      <td>0.627175</td>\n",
              "      <td>0.445375</td>\n",
              "      <td>0.111618</td>\n",
              "      <td>0.022738</td>\n",
              "      <td>0.144218</td>\n",
              "      <td>0.511893</td>\n",
              "      <td>0.214693</td>\n",
              "      <td>0.134156</td>\n",
              "      <td>0.039164</td>\n",
              "    </tr>\n",
              "    <tr>\n",
              "      <th>5</th>\n",
              "      <td>0.132931</td>\n",
              "      <td>0.539534</td>\n",
              "      <td>0.584943</td>\n",
              "      <td>0.131741</td>\n",
              "      <td>0.090548</td>\n",
              "      <td>0.137210</td>\n",
              "      <td>0.627175</td>\n",
              "      <td>0.445375</td>\n",
              "      <td>0.111618</td>\n",
              "      <td>0.022738</td>\n",
              "      <td>0.144218</td>\n",
              "      <td>0.511893</td>\n",
              "      <td>0.214693</td>\n",
              "      <td>0.134156</td>\n",
              "      <td>0.039164</td>\n",
              "      <td>0.135117</td>\n",
              "      <td>0.589271</td>\n",
              "      <td>0.500135</td>\n",
              "      <td>0.095922</td>\n",
              "      <td>0.045637</td>\n",
              "    </tr>\n",
              "    <tr>\n",
              "      <th>6</th>\n",
              "      <td>0.137210</td>\n",
              "      <td>0.627175</td>\n",
              "      <td>0.445375</td>\n",
              "      <td>0.111618</td>\n",
              "      <td>0.022738</td>\n",
              "      <td>0.144218</td>\n",
              "      <td>0.511893</td>\n",
              "      <td>0.214693</td>\n",
              "      <td>0.134156</td>\n",
              "      <td>0.039164</td>\n",
              "      <td>0.135117</td>\n",
              "      <td>0.589271</td>\n",
              "      <td>0.500135</td>\n",
              "      <td>0.095922</td>\n",
              "      <td>0.045637</td>\n",
              "      <td>0.111700</td>\n",
              "      <td>0.722717</td>\n",
              "      <td>0.212514</td>\n",
              "      <td>0.113362</td>\n",
              "      <td>0.045561</td>\n",
              "    </tr>\n",
              "    <tr>\n",
              "      <th>7</th>\n",
              "      <td>0.144218</td>\n",
              "      <td>0.511893</td>\n",
              "      <td>0.214693</td>\n",
              "      <td>0.134156</td>\n",
              "      <td>0.039164</td>\n",
              "      <td>0.135117</td>\n",
              "      <td>0.589271</td>\n",
              "      <td>0.500135</td>\n",
              "      <td>0.095922</td>\n",
              "      <td>0.045637</td>\n",
              "      <td>0.111700</td>\n",
              "      <td>0.722717</td>\n",
              "      <td>0.212514</td>\n",
              "      <td>0.113362</td>\n",
              "      <td>0.045561</td>\n",
              "      <td>0.111101</td>\n",
              "      <td>0.649855</td>\n",
              "      <td>0.365349</td>\n",
              "      <td>0.111752</td>\n",
              "      <td>0.053607</td>\n",
              "    </tr>\n",
              "  </tbody>\n",
              "</table>\n",
              "</div>"
            ],
            "text/plain": [
              "   var1(t-3)  var2(t-3)  var3(t-3)  ...   var3(t)   var4(t)   var5(t)\n",
              "3   0.125479   0.611105   0.429055  ...  0.445375  0.111618  0.022738\n",
              "4   0.129527   0.555312   0.454335  ...  0.214693  0.134156  0.039164\n",
              "5   0.132931   0.539534   0.584943  ...  0.500135  0.095922  0.045637\n",
              "6   0.137210   0.627175   0.445375  ...  0.212514  0.113362  0.045561\n",
              "7   0.144218   0.511893   0.214693  ...  0.365349  0.111752  0.053607\n",
              "\n",
              "[5 rows x 20 columns]"
            ]
          },
          "metadata": {
            "tags": []
          },
          "execution_count": 634
        }
      ]
    },
    {
      "cell_type": "code",
      "metadata": {
        "colab": {
          "base_uri": "https://localhost:8080/",
          "height": 232
        },
        "id": "hPeO__VANMWi",
        "outputId": "6892fcc0-23ca-42b0-bd95-b7b20ad586b8"
      },
      "source": [
        "reframed.drop(reframed.columns[-4], axis=1)\n",
        "reframed.head()"
      ],
      "execution_count": null,
      "outputs": [
        {
          "output_type": "execute_result",
          "data": {
            "text/html": [
              "<div>\n",
              "<style scoped>\n",
              "    .dataframe tbody tr th:only-of-type {\n",
              "        vertical-align: middle;\n",
              "    }\n",
              "\n",
              "    .dataframe tbody tr th {\n",
              "        vertical-align: top;\n",
              "    }\n",
              "\n",
              "    .dataframe thead th {\n",
              "        text-align: right;\n",
              "    }\n",
              "</style>\n",
              "<table border=\"1\" class=\"dataframe\">\n",
              "  <thead>\n",
              "    <tr style=\"text-align: right;\">\n",
              "      <th></th>\n",
              "      <th>var1(t-3)</th>\n",
              "      <th>var2(t-3)</th>\n",
              "      <th>var3(t-3)</th>\n",
              "      <th>var4(t-3)</th>\n",
              "      <th>var5(t-3)</th>\n",
              "      <th>var1(t-2)</th>\n",
              "      <th>var2(t-2)</th>\n",
              "      <th>var3(t-2)</th>\n",
              "      <th>var4(t-2)</th>\n",
              "      <th>var5(t-2)</th>\n",
              "      <th>var1(t-1)</th>\n",
              "      <th>var2(t-1)</th>\n",
              "      <th>var3(t-1)</th>\n",
              "      <th>var4(t-1)</th>\n",
              "      <th>var5(t-1)</th>\n",
              "      <th>var1(t)</th>\n",
              "      <th>var2(t)</th>\n",
              "      <th>var3(t)</th>\n",
              "      <th>var4(t)</th>\n",
              "      <th>var5(t)</th>\n",
              "    </tr>\n",
              "  </thead>\n",
              "  <tbody>\n",
              "    <tr>\n",
              "      <th>3</th>\n",
              "      <td>0.125479</td>\n",
              "      <td>0.611105</td>\n",
              "      <td>0.429055</td>\n",
              "      <td>0.181916</td>\n",
              "      <td>0.368430</td>\n",
              "      <td>0.129527</td>\n",
              "      <td>0.555312</td>\n",
              "      <td>0.454335</td>\n",
              "      <td>0.192380</td>\n",
              "      <td>0.039893</td>\n",
              "      <td>0.132931</td>\n",
              "      <td>0.539534</td>\n",
              "      <td>0.584943</td>\n",
              "      <td>0.131741</td>\n",
              "      <td>0.090548</td>\n",
              "      <td>0.137210</td>\n",
              "      <td>0.627175</td>\n",
              "      <td>0.445375</td>\n",
              "      <td>0.111618</td>\n",
              "      <td>0.022738</td>\n",
              "    </tr>\n",
              "    <tr>\n",
              "      <th>4</th>\n",
              "      <td>0.129527</td>\n",
              "      <td>0.555312</td>\n",
              "      <td>0.454335</td>\n",
              "      <td>0.192380</td>\n",
              "      <td>0.039893</td>\n",
              "      <td>0.132931</td>\n",
              "      <td>0.539534</td>\n",
              "      <td>0.584943</td>\n",
              "      <td>0.131741</td>\n",
              "      <td>0.090548</td>\n",
              "      <td>0.137210</td>\n",
              "      <td>0.627175</td>\n",
              "      <td>0.445375</td>\n",
              "      <td>0.111618</td>\n",
              "      <td>0.022738</td>\n",
              "      <td>0.144218</td>\n",
              "      <td>0.511893</td>\n",
              "      <td>0.214693</td>\n",
              "      <td>0.134156</td>\n",
              "      <td>0.039164</td>\n",
              "    </tr>\n",
              "    <tr>\n",
              "      <th>5</th>\n",
              "      <td>0.132931</td>\n",
              "      <td>0.539534</td>\n",
              "      <td>0.584943</td>\n",
              "      <td>0.131741</td>\n",
              "      <td>0.090548</td>\n",
              "      <td>0.137210</td>\n",
              "      <td>0.627175</td>\n",
              "      <td>0.445375</td>\n",
              "      <td>0.111618</td>\n",
              "      <td>0.022738</td>\n",
              "      <td>0.144218</td>\n",
              "      <td>0.511893</td>\n",
              "      <td>0.214693</td>\n",
              "      <td>0.134156</td>\n",
              "      <td>0.039164</td>\n",
              "      <td>0.135117</td>\n",
              "      <td>0.589271</td>\n",
              "      <td>0.500135</td>\n",
              "      <td>0.095922</td>\n",
              "      <td>0.045637</td>\n",
              "    </tr>\n",
              "    <tr>\n",
              "      <th>6</th>\n",
              "      <td>0.137210</td>\n",
              "      <td>0.627175</td>\n",
              "      <td>0.445375</td>\n",
              "      <td>0.111618</td>\n",
              "      <td>0.022738</td>\n",
              "      <td>0.144218</td>\n",
              "      <td>0.511893</td>\n",
              "      <td>0.214693</td>\n",
              "      <td>0.134156</td>\n",
              "      <td>0.039164</td>\n",
              "      <td>0.135117</td>\n",
              "      <td>0.589271</td>\n",
              "      <td>0.500135</td>\n",
              "      <td>0.095922</td>\n",
              "      <td>0.045637</td>\n",
              "      <td>0.111700</td>\n",
              "      <td>0.722717</td>\n",
              "      <td>0.212514</td>\n",
              "      <td>0.113362</td>\n",
              "      <td>0.045561</td>\n",
              "    </tr>\n",
              "    <tr>\n",
              "      <th>7</th>\n",
              "      <td>0.144218</td>\n",
              "      <td>0.511893</td>\n",
              "      <td>0.214693</td>\n",
              "      <td>0.134156</td>\n",
              "      <td>0.039164</td>\n",
              "      <td>0.135117</td>\n",
              "      <td>0.589271</td>\n",
              "      <td>0.500135</td>\n",
              "      <td>0.095922</td>\n",
              "      <td>0.045637</td>\n",
              "      <td>0.111700</td>\n",
              "      <td>0.722717</td>\n",
              "      <td>0.212514</td>\n",
              "      <td>0.113362</td>\n",
              "      <td>0.045561</td>\n",
              "      <td>0.111101</td>\n",
              "      <td>0.649855</td>\n",
              "      <td>0.365349</td>\n",
              "      <td>0.111752</td>\n",
              "      <td>0.053607</td>\n",
              "    </tr>\n",
              "  </tbody>\n",
              "</table>\n",
              "</div>"
            ],
            "text/plain": [
              "   var1(t-3)  var2(t-3)  var3(t-3)  ...   var3(t)   var4(t)   var5(t)\n",
              "3   0.125479   0.611105   0.429055  ...  0.445375  0.111618  0.022738\n",
              "4   0.129527   0.555312   0.454335  ...  0.214693  0.134156  0.039164\n",
              "5   0.132931   0.539534   0.584943  ...  0.500135  0.095922  0.045637\n",
              "6   0.137210   0.627175   0.445375  ...  0.212514  0.113362  0.045561\n",
              "7   0.144218   0.511893   0.214693  ...  0.365349  0.111752  0.053607\n",
              "\n",
              "[5 rows x 20 columns]"
            ]
          },
          "metadata": {
            "tags": []
          },
          "execution_count": 635
        }
      ]
    },
    {
      "cell_type": "code",
      "metadata": {
        "colab": {
          "base_uri": "https://localhost:8080/"
        },
        "id": "c2UX2egCNQxl",
        "outputId": "eb27cab1-c2da-48f1-d941-9ef3460c18f6"
      },
      "source": [
        "print(reframed.head())"
      ],
      "execution_count": null,
      "outputs": [
        {
          "output_type": "stream",
          "text": [
            "   var1(t-3)  var2(t-3)  var3(t-3)  ...   var3(t)   var4(t)   var5(t)\n",
            "3   0.125479   0.611105   0.429055  ...  0.445375  0.111618  0.022738\n",
            "4   0.129527   0.555312   0.454335  ...  0.214693  0.134156  0.039164\n",
            "5   0.132931   0.539534   0.584943  ...  0.500135  0.095922  0.045637\n",
            "6   0.137210   0.627175   0.445375  ...  0.212514  0.113362  0.045561\n",
            "7   0.144218   0.511893   0.214693  ...  0.365349  0.111752  0.053607\n",
            "\n",
            "[5 rows x 20 columns]\n"
          ],
          "name": "stdout"
        }
      ]
    },
    {
      "cell_type": "code",
      "metadata": {
        "colab": {
          "base_uri": "https://localhost:8080/"
        },
        "id": "fjTRifM3NUAD",
        "outputId": "db7cf195-69f7-49ef-abd6-1d28bae4e0e3"
      },
      "source": [
        "values = reframed.values\n",
        "n_train_hours = 200\n",
        "train = values[:n_train_hours, :]\n",
        "test = values[n_train_hours:, :]\n",
        "train.shape"
      ],
      "execution_count": null,
      "outputs": [
        {
          "output_type": "execute_result",
          "data": {
            "text/plain": [
              "(200, 20)"
            ]
          },
          "metadata": {
            "tags": []
          },
          "execution_count": 637
        }
      ]
    },
    {
      "cell_type": "code",
      "metadata": {
        "id": "EAGEB7-XNXFt"
      },
      "source": [
        "# split into input and outputs\n",
        "train_X, train_y = train[:, :n_obs], train[:, -n_features]\n",
        "test_X, test_y = test[:, :n_obs], test[:, -n_features]"
      ],
      "execution_count": null,
      "outputs": []
    },
    {
      "cell_type": "code",
      "metadata": {
        "colab": {
          "base_uri": "https://localhost:8080/"
        },
        "id": "XTw-X6QUNaEt",
        "outputId": "2d8525aa-f284-4ff5-e9a1-4b9319dfaf88"
      },
      "source": [
        "# reshape input to be 3D [samples, timesteps, features]\n",
        "train_X = train_X.reshape((train_X.shape[0], n_hours, n_features))\n",
        "test_X = test_X.reshape((test_X.shape[0], n_hours, n_features))\n",
        "print(train_X.shape, train_y.shape, test_X.shape, test_y.shape)"
      ],
      "execution_count": null,
      "outputs": [
        {
          "output_type": "stream",
          "text": [
            "(200, 3, 5) (200,) (91, 3, 5) (91,)\n"
          ],
          "name": "stdout"
        }
      ]
    },
    {
      "cell_type": "code",
      "metadata": {
        "colab": {
          "base_uri": "https://localhost:8080/"
        },
        "id": "LwdrjymmNdst",
        "outputId": "3375eca8-9929-458d-dab1-aa8420c55a54"
      },
      "source": [
        "# design network\n",
        "model = Sequential()\n",
        "model.add(LSTM(5, input_shape=(train_X.shape[1], train_X.shape[2])))\n",
        "model.add(Dense(1))\n",
        "model.compile(loss='mae', optimizer='adam')\n",
        "# fit network\n",
        "history = model.fit(train_X, train_y, epochs=50, batch_size=6, validation_data=(test_X, test_y), verbose=2, shuffle=False,validation_split=0.2)\n",
        "# plot history"
      ],
      "execution_count": null,
      "outputs": [
        {
          "output_type": "stream",
          "text": [
            "Epoch 1/50\n",
            "27/27 - 2s - loss: 0.1552 - val_loss: 0.5112\n",
            "Epoch 2/50\n",
            "27/27 - 0s - loss: 0.1746 - val_loss: 0.5050\n",
            "Epoch 3/50\n",
            "27/27 - 0s - loss: 0.1513 - val_loss: 0.4867\n",
            "Epoch 4/50\n",
            "27/27 - 0s - loss: 0.1373 - val_loss: 0.4408\n",
            "Epoch 5/50\n",
            "27/27 - 0s - loss: 0.1282 - val_loss: 0.3963\n",
            "Epoch 6/50\n",
            "27/27 - 0s - loss: 0.1175 - val_loss: 0.3465\n",
            "Epoch 7/50\n",
            "27/27 - 0s - loss: 0.1071 - val_loss: 0.2946\n",
            "Epoch 8/50\n",
            "27/27 - 0s - loss: 0.0941 - val_loss: 0.2330\n",
            "Epoch 9/50\n",
            "27/27 - 0s - loss: 0.0838 - val_loss: 0.1766\n",
            "Epoch 10/50\n",
            "27/27 - 0s - loss: 0.0731 - val_loss: 0.1259\n",
            "Epoch 11/50\n",
            "27/27 - 0s - loss: 0.0630 - val_loss: 0.0845\n",
            "Epoch 12/50\n",
            "27/27 - 0s - loss: 0.0527 - val_loss: 0.0523\n",
            "Epoch 13/50\n",
            "27/27 - 0s - loss: 0.0455 - val_loss: 0.0511\n",
            "Epoch 14/50\n",
            "27/27 - 0s - loss: 0.0403 - val_loss: 0.0571\n",
            "Epoch 15/50\n",
            "27/27 - 0s - loss: 0.0374 - val_loss: 0.0608\n",
            "Epoch 16/50\n",
            "27/27 - 0s - loss: 0.0362 - val_loss: 0.0584\n",
            "Epoch 17/50\n",
            "27/27 - 0s - loss: 0.0332 - val_loss: 0.0614\n",
            "Epoch 18/50\n",
            "27/27 - 0s - loss: 0.0318 - val_loss: 0.0594\n",
            "Epoch 19/50\n",
            "27/27 - 0s - loss: 0.0329 - val_loss: 0.0544\n",
            "Epoch 20/50\n",
            "27/27 - 0s - loss: 0.0289 - val_loss: 0.0590\n",
            "Epoch 21/50\n",
            "27/27 - 0s - loss: 0.0272 - val_loss: 0.0573\n",
            "Epoch 22/50\n",
            "27/27 - 0s - loss: 0.0263 - val_loss: 0.0541\n",
            "Epoch 23/50\n",
            "27/27 - 0s - loss: 0.0281 - val_loss: 0.0587\n",
            "Epoch 24/50\n",
            "27/27 - 0s - loss: 0.0255 - val_loss: 0.0563\n",
            "Epoch 25/50\n",
            "27/27 - 0s - loss: 0.0253 - val_loss: 0.0562\n",
            "Epoch 26/50\n",
            "27/27 - 0s - loss: 0.0260 - val_loss: 0.0538\n",
            "Epoch 27/50\n",
            "27/27 - 0s - loss: 0.0243 - val_loss: 0.0572\n",
            "Epoch 28/50\n",
            "27/27 - 0s - loss: 0.0243 - val_loss: 0.0566\n",
            "Epoch 29/50\n",
            "27/27 - 0s - loss: 0.0234 - val_loss: 0.0536\n",
            "Epoch 30/50\n",
            "27/27 - 0s - loss: 0.0228 - val_loss: 0.0547\n",
            "Epoch 31/50\n",
            "27/27 - 0s - loss: 0.0231 - val_loss: 0.0539\n",
            "Epoch 32/50\n",
            "27/27 - 0s - loss: 0.0228 - val_loss: 0.0522\n",
            "Epoch 33/50\n",
            "27/27 - 0s - loss: 0.0220 - val_loss: 0.0488\n",
            "Epoch 34/50\n",
            "27/27 - 0s - loss: 0.0206 - val_loss: 0.0479\n",
            "Epoch 35/50\n",
            "27/27 - 0s - loss: 0.0201 - val_loss: 0.0450\n",
            "Epoch 36/50\n",
            "27/27 - 0s - loss: 0.0207 - val_loss: 0.0443\n",
            "Epoch 37/50\n",
            "27/27 - 0s - loss: 0.0210 - val_loss: 0.0418\n",
            "Epoch 38/50\n",
            "27/27 - 0s - loss: 0.0204 - val_loss: 0.0436\n",
            "Epoch 39/50\n",
            "27/27 - 0s - loss: 0.0197 - val_loss: 0.0427\n",
            "Epoch 40/50\n",
            "27/27 - 0s - loss: 0.0181 - val_loss: 0.0372\n",
            "Epoch 41/50\n",
            "27/27 - 0s - loss: 0.0174 - val_loss: 0.0365\n",
            "Epoch 42/50\n",
            "27/27 - 0s - loss: 0.0173 - val_loss: 0.0368\n",
            "Epoch 43/50\n",
            "27/27 - 0s - loss: 0.0174 - val_loss: 0.0364\n",
            "Epoch 44/50\n",
            "27/27 - 0s - loss: 0.0172 - val_loss: 0.0375\n",
            "Epoch 45/50\n",
            "27/27 - 0s - loss: 0.0185 - val_loss: 0.0372\n",
            "Epoch 46/50\n",
            "27/27 - 0s - loss: 0.0180 - val_loss: 0.0385\n",
            "Epoch 47/50\n",
            "27/27 - 0s - loss: 0.0189 - val_loss: 0.0369\n",
            "Epoch 48/50\n",
            "27/27 - 0s - loss: 0.0176 - val_loss: 0.0376\n",
            "Epoch 49/50\n",
            "27/27 - 0s - loss: 0.0187 - val_loss: 0.0368\n",
            "Epoch 50/50\n",
            "27/27 - 0s - loss: 0.0178 - val_loss: 0.0376\n"
          ],
          "name": "stdout"
        }
      ]
    },
    {
      "cell_type": "code",
      "metadata": {
        "colab": {
          "base_uri": "https://localhost:8080/"
        },
        "id": "Ygy-1232Nj1o",
        "outputId": "f914a5a0-90f2-4fe2-d098-c23a75abfbf4"
      },
      "source": [
        "plt.plot(history.history['loss'], label='train')\n",
        "plt.plot(history.history['val_loss'], label='test')\n",
        "plt.legend()\n",
        "plt.show()"
      ],
      "execution_count": null,
      "outputs": [
        {
          "output_type": "display_data",
          "data": {
            "image/png": "[encoded data removed]",
            "text/plain": [
              "<Figure size 432x288 with 1 Axes>"
            ]
          },
          "metadata": {
            "tags": []
          }
        }
      ]
    },
    {
      "cell_type": "code",
      "metadata": {
        "colab": {
          "base_uri": "https://localhost:8080/"
        },
        "id": "lSfScwCfNpjl",
        "outputId": "69a43021-51c6-48a4-c2d3-692cf8489370"
      },
      "source": [
        "# make a prediction\n",
        "yhat = model.predict(test_X)\n",
        "test_X = test_X.reshape((test_X.shape[0], n_hours* n_features,))\n",
        "# invert scaling for forecast\n",
        "inv_yhat = concatenate((yhat, test_X[:, -4:]), axis=1)\n",
        "inv_yhat = scaler.inverse_transform(inv_yhat)\n",
        "inv_yhat = inv_yhat[:,0]\n",
        "# invert scaling for actual\n",
        "test_y = test_y.reshape((len(test_y), 1))\n",
        "inv_y = concatenate((test_y, test_X[:, -4:]), axis=1)\n",
        "inv_y = scaler.inverse_transform(inv_y)\n",
        "inv_y = inv_y[:,0]\n",
        "# calculate RMSE\n",
        "mse = (mean_squared_error(inv_y, inv_yhat))\n",
        "print('Test MSE: %.3f' % mse)\n",
        "rmse = sqrt(mean_squared_error(inv_y, inv_yhat))\n",
        "print('Test RMSE: %.3f' % rmse)"
      ],
      "execution_count": null,
      "outputs": [
        {
          "output_type": "stream",
          "text": [
            "WARNING:tensorflow:5 out of the last 13 calls to <function Model.make_predict_function.<locals>.predict_function at 0x7fb1bbd4e9e0> triggered tf.function retracing. Tracing is expensive and the excessive number of tracings could be due to (1) creating @tf.function repeatedly in a loop, (2) passing tensors with different shapes, (3) passing Python objects instead of tensors. For (1), please define your @tf.function outside of the loop. For (2), @tf.function has experimental_relax_shapes=True option that relaxes argument shapes that can avoid unnecessary retracing. For (3), please refer to https://www.tensorflow.org/guide/function#controlling_retracing and https://www.tensorflow.org/api_docs/python/tf/function for  more details.\n",
            "Test MSE: 5374.165\n",
            "Test RMSE: 73.309\n"
          ],
          "name": "stdout"
        }
      ]
    },
    {
      "cell_type": "code",
      "metadata": {
        "colab": {
          "base_uri": "https://localhost:8080/"
        },
        "id": "SAtOpIAmN5dl",
        "outputId": "47c85819-51d6-42ac-87bf-761bd9586108"
      },
      "source": [
        "plt.title('Real v Predicted Close_Price')\n",
        "plt.ylabel('Price ($)')\n",
        "plt.xlabel('epochs (Hr)')\n",
        "plt.plot(inv_y, label='Real')\n",
        "plt.plot(inv_yhat, label='Predicted')\n",
        "plt.show()"
      ],
      "execution_count": null,
      "outputs": [
        {
          "output_type": "display_data",
          "data": {
            "image/png": "[encoded data removed]",
            "text/plain": [
              "<Figure size 432x288 with 1 Axes>"
            ]
          },
          "metadata": {
            "tags": []
          }
        }
      ]
    },
    {
      "cell_type": "markdown",
      "metadata": {
        "id": "-LlA-V3ooAj4"
      },
      "source": [
        "#**Quantization**"
      ]
    },
    {
      "cell_type": "code",
      "metadata": {
        "id": "USfH4p-92NNW"
      },
      "source": [
        "import torch\n",
        "import torch.quantization\n",
        "import torch.nn as nn\n",
        "import copy\n",
        "import os\n",
        "import time\n",
        "\n",
        "class lstm_for_demonstration(nn.Module):\n",
        "  \n",
        "  def __init__(self,in_dim,out_dim,depth):\n",
        "     super(lstm_for_demonstration,self).__init__()\n",
        "     self.lstm = nn.LSTM(in_dim,out_dim,depth)\n",
        "\n",
        "  def forward(self,inputs,hidden):\n",
        "     out,hidden = self.lstm(inputs,hidden)\n",
        "     return out, hidden\n"
      ],
      "execution_count": null,
      "outputs": []
    },
    {
      "cell_type": "code",
      "metadata": {
        "id": "fc-CXk_Mpz_V"
      },
      "source": [
        "torch.manual_seed(12345)  # set the seed for reproducibility\n",
        "\n",
        "#shape parameters\n",
        "model_dimension=3 #adding 3 hours lags creating number of observations \n",
        "sequence_length= 5 #Features in the dataset.\n",
        "lstm_depth=model_dimension * sequence_length\n",
        "\n",
        "# random data for input\n",
        "inputs = torch.randn(sequence_length,batch_size,model_dimension)\n",
        "\n",
        "# hidden is actually is a tuple of the initial hidden state and the initial cell state\n",
        "hidden = (torch.randn(lstm_depth,batch_size,model_dimension), torch.randn(lstm_depth,batch_size,model_dimension))"
      ],
      "execution_count": null,
      "outputs": []
    },
    {
      "cell_type": "code",
      "metadata": {
        "colab": {
          "base_uri": "https://localhost:8080/"
        },
        "id": "drvP3E4z2T8R",
        "outputId": "68feb723-9f48-47c5-bcda-7fd9bdb9a780"
      },
      "source": [
        " # here is our floating point instance\n",
        "float_lstm = lstm_for_demonstration(model_dimension, model_dimension,lstm_depth)\n",
        "\n",
        "# this is the call that does the work\n",
        "quantized_lstm = torch.quantization.quantize_dynamic(\n",
        "    float_lstm, {nn.LSTM, nn.Linear}, dtype=torch.qint8\n",
        ")\n",
        "\n",
        "# show the changes that were made\n",
        "print('Here is the floating point version of this module:')\n",
        "print(float_lstm)\n",
        "print('')\n",
        "print('and now the quantized version:')\n",
        "print(quantized_lstm)"
      ],
      "execution_count": null,
      "outputs": [
        {
          "output_type": "stream",
          "text": [
            "Here is the floating point version of this module:\n",
            "lstm_for_demonstration(\n",
            "  (lstm): LSTM(3, 3, num_layers=15)\n",
            ")\n",
            "\n",
            "and now the quantized version:\n",
            "lstm_for_demonstration(\n",
            "  (lstm): DynamicQuantizedLSTM(3, 3, num_layers=15)\n",
            ")\n"
          ],
          "name": "stdout"
        }
      ]
    },
    {
      "cell_type": "code",
      "metadata": {
        "colab": {
          "base_uri": "https://localhost:8080/"
        },
        "id": "ZVC8Tfw83UVm",
        "outputId": "6426884e-9531-49b1-decf-49f4b3bb0995"
      },
      "source": [
        "def print_size_of_model(model, label=\"\"):\n",
        "    torch.save(model.state_dict(), \"temp.p\")\n",
        "    size=os.path.getsize(\"temp.p\")\n",
        "    print(\"model: \",label,' \\t','Size (KB):', size/1e3)\n",
        "    os.remove('temp.p')\n",
        "    return size\n",
        "\n",
        "# compare the sizes\n",
        "f=print_size_of_model(float_lstm,\"fp32\")\n",
        "q=print_size_of_model(quantized_lstm,\"int8\")\n",
        "print(\"{0:.2f} times smaller\".format(f/q))"
      ],
      "execution_count": null,
      "outputs": [
        {
          "output_type": "stream",
          "text": [
            "model:  fp32  \t Size (KB): 22.475\n",
            "model:  int8  \t Size (KB): 23.883\n",
            "0.94 times smaller\n"
          ],
          "name": "stdout"
        }
      ]
    },
    {
      "cell_type": "code",
      "metadata": {
        "colab": {
          "base_uri": "https://localhost:8080/"
        },
        "id": "uXeeVvJo3Z27",
        "outputId": "ad859358-9323-4bd5-ab82-c059f98590e8"
      },
      "source": [
        "# compare the performance\n",
        "print(\"Floating point FP32\")\n",
        "%timeit float_lstm.forward(inputs, hidden)\n",
        "\n",
        "print(\"Quantized INT8\")\n",
        "%timeit quantized_lstm.forward(inputs,hidden)"
      ],
      "execution_count": null,
      "outputs": [
        {
          "output_type": "stream",
          "text": [
            "Floating point FP32\n",
            "100 loops, best of 5: 4.68 ms per loop\n",
            "Quantized INT8\n",
            "100 loops, best of 5: 2.01 ms per loop\n"
          ],
          "name": "stdout"
        }
      ]
    },
    {
      "cell_type": "code",
      "metadata": {
        "colab": {
          "base_uri": "https://localhost:8080/"
        },
        "id": "CDc2wB0S3mix",
        "outputId": "83d7d9e5-84bd-4ba6-ee5b-4530beacfa57"
      },
      "source": [
        "# run the float model\n",
        "out1, hidden1 = float_lstm(inputs, hidden)\n",
        "mag1 = torch.mean(abs(out1)).item()\n",
        "print('mean absolute value of output tensor values in the FP32 model is {0:.5f} '.format(mag1))\n",
        "\n",
        "# run the quantized model\n",
        "out2, hidden2 = quantized_lstm(inputs, hidden)\n",
        "mag2 = torch.mean(abs(out2)).item()\n",
        "print('mean absolute value of output tensor values in the INT8 model is {0:.5f}'.format(mag2))\n",
        "\n",
        "# compare them\n",
        "mag3 = torch.mean(abs(out1-out2)).item()\n",
        "print('mean absolute value of the difference between the output tensors is {0:.5f} or {1:.2f} percent'.format(mag3,mag3/mag1*100))"
      ],
      "execution_count": null,
      "outputs": [
        {
          "output_type": "stream",
          "text": [
            "mean absolute value of output tensor values in the FP32 model is 0.19101 \n",
            "mean absolute value of output tensor values in the INT8 model is 0.19085\n",
            "mean absolute value of the difference between the output tensors is 0.00026 or 0.13 percent\n"
          ],
          "name": "stdout"
        }
      ]
    }
  ]
}