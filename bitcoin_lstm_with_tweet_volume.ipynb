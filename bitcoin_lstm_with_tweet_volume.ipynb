{
  "nbformat": 4,
  "nbformat_minor": 0,
  "metadata": {
    "colab": {
      "name": "Bitcoin LSTM Model with Tweet Volume and SentimentAnalysis.ipynb",
      "provenance": []
    },
    "kernelspec": {
      "name": "python3",
      "display_name": "Python 3"
    }
  },
  "cells": [
    {
      "cell_type": "markdown",
      "metadata": {
        "id": "7ZgjOxfZOLf2"
      },
      "source": [
        "## Bitcoin LSTM Model with Tweet Volume and Sentiment"
      ]
    },
    {
      "cell_type": "code",
      "metadata": {
        "id": "wx-9nhLIzo5S"
      },
      "source": [
        ""
      ],
      "execution_count": 78,
      "outputs": []
    },
    {
      "cell_type": "code",
      "metadata": {
        "colab": {
          "base_uri": "https://localhost:8080/"
        },
        "id": "AT4iGJIzC1zC",
        "outputId": "11733135-6c72-475b-f4b4-abef9cb15e47"
      },
      "source": [
        "import pandas as pd\r\n",
        "import re \r\n",
        "from matplotlib import pyplot\r\n",
        "import seaborn as sns\r\n",
        "import numpy as np\r\n",
        "import os # accessing directory structure\r\n",
        "\r\n",
        "from google.colab import drive\r\n",
        "# This will prompt for authorization.\r\n",
        "drive.mount('/content/drive')\r\n"
      ],
      "execution_count": 79,
      "outputs": [
        {
          "output_type": "stream",
          "text": [
            "Drive already mounted at /content/drive; to attempt to forcibly remount, call drive.mount(\"/content/drive\", force_remount=True).\n"
          ],
          "name": "stdout"
        }
      ]
    },
    {
      "cell_type": "code",
      "metadata": {
        "id": "-FVwBkawEIUt"
      },
      "source": [
        "\r\n",
        "#set seed\r\n",
        "np.random.seed(12345)"
      ],
      "execution_count": 80,
      "outputs": []
    },
    {
      "cell_type": "markdown",
      "metadata": {
        "id": "IAy1PGqqFKgd"
      },
      "source": [
        "# Data Pre-processing"
      ]
    },
    {
      "cell_type": "code",
      "metadata": {
        "id": "fTrYAKf7FMS4"
      },
      "source": [
        "notclean = pd.read_csv('/content/drive/MyDrive/cleanprep.csv', delimiter=',', error_bad_lines=False,engine = 'python',header = None)"
      ],
      "execution_count": 81,
      "outputs": []
    },
    {
      "cell_type": "code",
      "metadata": {
        "colab": {
          "base_uri": "https://localhost:8080/",
          "height": 204
        },
        "id": "RgpMPQYOFeRw",
        "outputId": "d4a18df7-31b7-4827-9341-c6e39f37ff6b"
      },
      "source": [
        "notclean.head()"
      ],
      "execution_count": 82,
      "outputs": [
        {
          "output_type": "execute_result",
          "data": {
            "text/html": [
              "<div>\n",
              "<style scoped>\n",
              "    .dataframe tbody tr th:only-of-type {\n",
              "        vertical-align: middle;\n",
              "    }\n",
              "\n",
              "    .dataframe tbody tr th {\n",
              "        vertical-align: top;\n",
              "    }\n",
              "\n",
              "    .dataframe thead th {\n",
              "        text-align: right;\n",
              "    }\n",
              "</style>\n",
              "<table border=\"1\" class=\"dataframe\">\n",
              "  <thead>\n",
              "    <tr style=\"text-align: right;\">\n",
              "      <th></th>\n",
              "      <th>0</th>\n",
              "      <th>1</th>\n",
              "      <th>2</th>\n",
              "      <th>3</th>\n",
              "      <th>4</th>\n",
              "    </tr>\n",
              "  </thead>\n",
              "  <tbody>\n",
              "    <tr>\n",
              "      <th>0</th>\n",
              "      <td>2018-07-11 19:35:15.363270</td>\n",
              "      <td>b'tj'</td>\n",
              "      <td>b\"Next two weeks prob v boring (climb up to 9k...</td>\n",
              "      <td>0.007273</td>\n",
              "      <td>0.590909</td>\n",
              "    </tr>\n",
              "    <tr>\n",
              "      <th>1</th>\n",
              "      <td>2018-07-11 19:35:15.736769</td>\n",
              "      <td>b'Kool_Kheart'</td>\n",
              "      <td>b'@Miss_rinola But you\\xe2\\x80\\x99ve heard abo...</td>\n",
              "      <td>0.000000</td>\n",
              "      <td>0.000000</td>\n",
              "    </tr>\n",
              "    <tr>\n",
              "      <th>2</th>\n",
              "      <td>2018-07-11 19:35:15.744769</td>\n",
              "      <td>b'Gary Lang'</td>\n",
              "      <td>b'Duplicate skilled traders automatically with...</td>\n",
              "      <td>0.625000</td>\n",
              "      <td>0.500000</td>\n",
              "    </tr>\n",
              "    <tr>\n",
              "      <th>3</th>\n",
              "      <td>2018-07-11 19:35:15.867339</td>\n",
              "      <td>b'Jobs in Fintech'</td>\n",
              "      <td>b'Project Manager - Technical - FinTech - Cent...</td>\n",
              "      <td>0.000000</td>\n",
              "      <td>0.175000</td>\n",
              "    </tr>\n",
              "    <tr>\n",
              "      <th>4</th>\n",
              "      <td>2018-07-11 19:35:16.021448</td>\n",
              "      <td>b'ERC20'</td>\n",
              "      <td>b'Coinbase App Downloads Drop, Crypto Hype Fad...</td>\n",
              "      <td>0.333333</td>\n",
              "      <td>0.500000</td>\n",
              "    </tr>\n",
              "  </tbody>\n",
              "</table>\n",
              "</div>"
            ],
            "text/plain": [
              "                            0                   1  ...         3         4\n",
              "0  2018-07-11 19:35:15.363270               b'tj'  ...  0.007273  0.590909\n",
              "1  2018-07-11 19:35:15.736769      b'Kool_Kheart'  ...  0.000000  0.000000\n",
              "2  2018-07-11 19:35:15.744769        b'Gary Lang'  ...  0.625000  0.500000\n",
              "3  2018-07-11 19:35:15.867339  b'Jobs in Fintech'  ...  0.000000  0.175000\n",
              "4  2018-07-11 19:35:16.021448            b'ERC20'  ...  0.333333  0.500000\n",
              "\n",
              "[5 rows x 5 columns]"
            ]
          },
          "metadata": {
            "tags": []
          },
          "execution_count": 82
        }
      ]
    },
    {
      "cell_type": "code",
      "metadata": {
        "colab": {
          "base_uri": "https://localhost:8080/",
          "height": 204
        },
        "id": "dEpnblb3FkcY",
        "outputId": "5b457cc7-9059-4d62-fea6-aad968e9015e"
      },
      "source": [
        "#-----------------Pre-processing -------------------#\r\n",
        "\r\n",
        "notclean.columns =['dt', 'name','text','polarity','sensitivity']\r\n",
        "notclean =notclean.drop(['name','text'], axis=1)\r\n",
        "notclean.head()"
      ],
      "execution_count": 83,
      "outputs": [
        {
          "output_type": "execute_result",
          "data": {
            "text/html": [
              "<div>\n",
              "<style scoped>\n",
              "    .dataframe tbody tr th:only-of-type {\n",
              "        vertical-align: middle;\n",
              "    }\n",
              "\n",
              "    .dataframe tbody tr th {\n",
              "        vertical-align: top;\n",
              "    }\n",
              "\n",
              "    .dataframe thead th {\n",
              "        text-align: right;\n",
              "    }\n",
              "</style>\n",
              "<table border=\"1\" class=\"dataframe\">\n",
              "  <thead>\n",
              "    <tr style=\"text-align: right;\">\n",
              "      <th></th>\n",
              "      <th>dt</th>\n",
              "      <th>polarity</th>\n",
              "      <th>sensitivity</th>\n",
              "    </tr>\n",
              "  </thead>\n",
              "  <tbody>\n",
              "    <tr>\n",
              "      <th>0</th>\n",
              "      <td>2018-07-11 19:35:15.363270</td>\n",
              "      <td>0.007273</td>\n",
              "      <td>0.590909</td>\n",
              "    </tr>\n",
              "    <tr>\n",
              "      <th>1</th>\n",
              "      <td>2018-07-11 19:35:15.736769</td>\n",
              "      <td>0.000000</td>\n",
              "      <td>0.000000</td>\n",
              "    </tr>\n",
              "    <tr>\n",
              "      <th>2</th>\n",
              "      <td>2018-07-11 19:35:15.744769</td>\n",
              "      <td>0.625000</td>\n",
              "      <td>0.500000</td>\n",
              "    </tr>\n",
              "    <tr>\n",
              "      <th>3</th>\n",
              "      <td>2018-07-11 19:35:15.867339</td>\n",
              "      <td>0.000000</td>\n",
              "      <td>0.175000</td>\n",
              "    </tr>\n",
              "    <tr>\n",
              "      <th>4</th>\n",
              "      <td>2018-07-11 19:35:16.021448</td>\n",
              "      <td>0.333333</td>\n",
              "      <td>0.500000</td>\n",
              "    </tr>\n",
              "  </tbody>\n",
              "</table>\n",
              "</div>"
            ],
            "text/plain": [
              "                           dt  polarity  sensitivity\n",
              "0  2018-07-11 19:35:15.363270  0.007273     0.590909\n",
              "1  2018-07-11 19:35:15.736769  0.000000     0.000000\n",
              "2  2018-07-11 19:35:15.744769  0.625000     0.500000\n",
              "3  2018-07-11 19:35:15.867339  0.000000     0.175000\n",
              "4  2018-07-11 19:35:16.021448  0.333333     0.500000"
            ]
          },
          "metadata": {
            "tags": []
          },
          "execution_count": 83
        }
      ]
    },
    {
      "cell_type": "code",
      "metadata": {
        "colab": {
          "base_uri": "https://localhost:8080/",
          "height": 374
        },
        "id": "JtyO9KxYFut-",
        "outputId": "a6025ece-6f08-4713-c1ee-e3470b5673e6"
      },
      "source": [
        "notclean.info()\r\n",
        "notclean['dt'] = pd.to_datetime(notclean['dt'])\r\n",
        "notclean['DateTime'] = notclean['dt'].dt.floor('h')\r\n",
        "notclean.head()"
      ],
      "execution_count": 84,
      "outputs": [
        {
          "output_type": "stream",
          "text": [
            "<class 'pandas.core.frame.DataFrame'>\n",
            "RangeIndex: 1413001 entries, 0 to 1413000\n",
            "Data columns (total 3 columns):\n",
            " #   Column       Non-Null Count    Dtype  \n",
            "---  ------       --------------    -----  \n",
            " 0   dt           1413001 non-null  object \n",
            " 1   polarity     1413001 non-null  float64\n",
            " 2   sensitivity  1413001 non-null  float64\n",
            "dtypes: float64(2), object(1)\n",
            "memory usage: 32.3+ MB\n"
          ],
          "name": "stdout"
        },
        {
          "output_type": "execute_result",
          "data": {
            "text/html": [
              "<div>\n",
              "<style scoped>\n",
              "    .dataframe tbody tr th:only-of-type {\n",
              "        vertical-align: middle;\n",
              "    }\n",
              "\n",
              "    .dataframe tbody tr th {\n",
              "        vertical-align: top;\n",
              "    }\n",
              "\n",
              "    .dataframe thead th {\n",
              "        text-align: right;\n",
              "    }\n",
              "</style>\n",
              "<table border=\"1\" class=\"dataframe\">\n",
              "  <thead>\n",
              "    <tr style=\"text-align: right;\">\n",
              "      <th></th>\n",
              "      <th>dt</th>\n",
              "      <th>polarity</th>\n",
              "      <th>sensitivity</th>\n",
              "      <th>DateTime</th>\n",
              "    </tr>\n",
              "  </thead>\n",
              "  <tbody>\n",
              "    <tr>\n",
              "      <th>0</th>\n",
              "      <td>2018-07-11 19:35:15.363270</td>\n",
              "      <td>0.007273</td>\n",
              "      <td>0.590909</td>\n",
              "      <td>2018-07-11 19:00:00</td>\n",
              "    </tr>\n",
              "    <tr>\n",
              "      <th>1</th>\n",
              "      <td>2018-07-11 19:35:15.736769</td>\n",
              "      <td>0.000000</td>\n",
              "      <td>0.000000</td>\n",
              "      <td>2018-07-11 19:00:00</td>\n",
              "    </tr>\n",
              "    <tr>\n",
              "      <th>2</th>\n",
              "      <td>2018-07-11 19:35:15.744769</td>\n",
              "      <td>0.625000</td>\n",
              "      <td>0.500000</td>\n",
              "      <td>2018-07-11 19:00:00</td>\n",
              "    </tr>\n",
              "    <tr>\n",
              "      <th>3</th>\n",
              "      <td>2018-07-11 19:35:15.867339</td>\n",
              "      <td>0.000000</td>\n",
              "      <td>0.175000</td>\n",
              "      <td>2018-07-11 19:00:00</td>\n",
              "    </tr>\n",
              "    <tr>\n",
              "      <th>4</th>\n",
              "      <td>2018-07-11 19:35:16.021448</td>\n",
              "      <td>0.333333</td>\n",
              "      <td>0.500000</td>\n",
              "      <td>2018-07-11 19:00:00</td>\n",
              "    </tr>\n",
              "  </tbody>\n",
              "</table>\n",
              "</div>"
            ],
            "text/plain": [
              "                          dt  polarity  sensitivity            DateTime\n",
              "0 2018-07-11 19:35:15.363270  0.007273     0.590909 2018-07-11 19:00:00\n",
              "1 2018-07-11 19:35:15.736769  0.000000     0.000000 2018-07-11 19:00:00\n",
              "2 2018-07-11 19:35:15.744769  0.625000     0.500000 2018-07-11 19:00:00\n",
              "3 2018-07-11 19:35:15.867339  0.000000     0.175000 2018-07-11 19:00:00\n",
              "4 2018-07-11 19:35:16.021448  0.333333     0.500000 2018-07-11 19:00:00"
            ]
          },
          "metadata": {
            "tags": []
          },
          "execution_count": 84
        }
      ]
    },
    {
      "cell_type": "code",
      "metadata": {
        "colab": {
          "base_uri": "https://localhost:8080/",
          "height": 204
        },
        "id": "eyWwOprcF4Sj",
        "outputId": "0d7db86e-bae4-4b0a-cbfa-76c4a078500e"
      },
      "source": [
        "vdf = notclean.groupby(pd.Grouper(key='dt',freq='H')).size().reset_index(name='tweet_vol')\r\n",
        "vdf.head()\r\n"
      ],
      "execution_count": 85,
      "outputs": [
        {
          "output_type": "execute_result",
          "data": {
            "text/html": [
              "<div>\n",
              "<style scoped>\n",
              "    .dataframe tbody tr th:only-of-type {\n",
              "        vertical-align: middle;\n",
              "    }\n",
              "\n",
              "    .dataframe tbody tr th {\n",
              "        vertical-align: top;\n",
              "    }\n",
              "\n",
              "    .dataframe thead th {\n",
              "        text-align: right;\n",
              "    }\n",
              "</style>\n",
              "<table border=\"1\" class=\"dataframe\">\n",
              "  <thead>\n",
              "    <tr style=\"text-align: right;\">\n",
              "      <th></th>\n",
              "      <th>dt</th>\n",
              "      <th>tweet_vol</th>\n",
              "    </tr>\n",
              "  </thead>\n",
              "  <tbody>\n",
              "    <tr>\n",
              "      <th>0</th>\n",
              "      <td>2018-07-11 19:00:00</td>\n",
              "      <td>1747</td>\n",
              "    </tr>\n",
              "    <tr>\n",
              "      <th>1</th>\n",
              "      <td>2018-07-11 20:00:00</td>\n",
              "      <td>4354</td>\n",
              "    </tr>\n",
              "    <tr>\n",
              "      <th>2</th>\n",
              "      <td>2018-07-11 21:00:00</td>\n",
              "      <td>4432</td>\n",
              "    </tr>\n",
              "    <tr>\n",
              "      <th>3</th>\n",
              "      <td>2018-07-11 22:00:00</td>\n",
              "      <td>3980</td>\n",
              "    </tr>\n",
              "    <tr>\n",
              "      <th>4</th>\n",
              "      <td>2018-07-11 23:00:00</td>\n",
              "      <td>3830</td>\n",
              "    </tr>\n",
              "  </tbody>\n",
              "</table>\n",
              "</div>"
            ],
            "text/plain": [
              "                   dt  tweet_vol\n",
              "0 2018-07-11 19:00:00       1747\n",
              "1 2018-07-11 20:00:00       4354\n",
              "2 2018-07-11 21:00:00       4432\n",
              "3 2018-07-11 22:00:00       3980\n",
              "4 2018-07-11 23:00:00       3830"
            ]
          },
          "metadata": {
            "tags": []
          },
          "execution_count": 85
        }
      ]
    },
    {
      "cell_type": "code",
      "metadata": {
        "colab": {
          "base_uri": "https://localhost:8080/"
        },
        "id": "nS7kHs-1GKD8",
        "outputId": "624348a4-f7f9-43ae-bc96-1299d45c7e92"
      },
      "source": [
        "vdf.info()"
      ],
      "execution_count": 86,
      "outputs": [
        {
          "output_type": "stream",
          "text": [
            "<class 'pandas.core.frame.DataFrame'>\n",
            "RangeIndex: 302 entries, 0 to 301\n",
            "Data columns (total 2 columns):\n",
            " #   Column     Non-Null Count  Dtype         \n",
            "---  ------     --------------  -----         \n",
            " 0   dt         302 non-null    datetime64[ns]\n",
            " 1   tweet_vol  302 non-null    int64         \n",
            "dtypes: datetime64[ns](1), int64(1)\n",
            "memory usage: 4.8 KB\n"
          ],
          "name": "stdout"
        }
      ]
    },
    {
      "cell_type": "code",
      "metadata": {
        "id": "QJJTz6flGNic"
      },
      "source": [
        "vdf.index = pd.to_datetime(vdf.index)\r\n",
        "vdf = vdf.set_index('dt')\r\n",
        " "
      ],
      "execution_count": 87,
      "outputs": []
    },
    {
      "cell_type": "code",
      "metadata": {
        "colab": {
          "base_uri": "https://localhost:8080/"
        },
        "id": "f7Xro2NLGkn5",
        "outputId": "c3ca205f-50c2-45f8-ad2e-99a6d2c47eae"
      },
      "source": [
        "vdf.info()"
      ],
      "execution_count": 88,
      "outputs": [
        {
          "output_type": "stream",
          "text": [
            "<class 'pandas.core.frame.DataFrame'>\n",
            "DatetimeIndex: 302 entries, 2018-07-11 19:00:00 to 2018-07-24 08:00:00\n",
            "Data columns (total 1 columns):\n",
            " #   Column     Non-Null Count  Dtype\n",
            "---  ------     --------------  -----\n",
            " 0   tweet_vol  302 non-null    int64\n",
            "dtypes: int64(1)\n",
            "memory usage: 4.7 KB\n"
          ],
          "name": "stdout"
        }
      ]
    },
    {
      "cell_type": "code",
      "metadata": {
        "colab": {
          "base_uri": "https://localhost:8080/",
          "height": 235
        },
        "id": "w_cN5W6XGphI",
        "outputId": "d0394b14-a23c-4d26-ed06-fc4dddc99ed5"
      },
      "source": [
        "vdf.head()"
      ],
      "execution_count": 89,
      "outputs": [
        {
          "output_type": "execute_result",
          "data": {
            "text/html": [
              "<div>\n",
              "<style scoped>\n",
              "    .dataframe tbody tr th:only-of-type {\n",
              "        vertical-align: middle;\n",
              "    }\n",
              "\n",
              "    .dataframe tbody tr th {\n",
              "        vertical-align: top;\n",
              "    }\n",
              "\n",
              "    .dataframe thead th {\n",
              "        text-align: right;\n",
              "    }\n",
              "</style>\n",
              "<table border=\"1\" class=\"dataframe\">\n",
              "  <thead>\n",
              "    <tr style=\"text-align: right;\">\n",
              "      <th></th>\n",
              "      <th>tweet_vol</th>\n",
              "    </tr>\n",
              "    <tr>\n",
              "      <th>dt</th>\n",
              "      <th></th>\n",
              "    </tr>\n",
              "  </thead>\n",
              "  <tbody>\n",
              "    <tr>\n",
              "      <th>2018-07-11 19:00:00</th>\n",
              "      <td>1747</td>\n",
              "    </tr>\n",
              "    <tr>\n",
              "      <th>2018-07-11 20:00:00</th>\n",
              "      <td>4354</td>\n",
              "    </tr>\n",
              "    <tr>\n",
              "      <th>2018-07-11 21:00:00</th>\n",
              "      <td>4432</td>\n",
              "    </tr>\n",
              "    <tr>\n",
              "      <th>2018-07-11 22:00:00</th>\n",
              "      <td>3980</td>\n",
              "    </tr>\n",
              "    <tr>\n",
              "      <th>2018-07-11 23:00:00</th>\n",
              "      <td>3830</td>\n",
              "    </tr>\n",
              "  </tbody>\n",
              "</table>\n",
              "</div>"
            ],
            "text/plain": [
              "                     tweet_vol\n",
              "dt                            \n",
              "2018-07-11 19:00:00       1747\n",
              "2018-07-11 20:00:00       4354\n",
              "2018-07-11 21:00:00       4432\n",
              "2018-07-11 22:00:00       3980\n",
              "2018-07-11 23:00:00       3830"
            ]
          },
          "metadata": {
            "tags": []
          },
          "execution_count": 89
        }
      ]
    },
    {
      "cell_type": "code",
      "metadata": {
        "colab": {
          "base_uri": "https://localhost:8080/"
        },
        "id": "bUzwaj9EG4IK",
        "outputId": "969b4332-a7dd-4718-9d67-b75819dfb253"
      },
      "source": [
        "notclean.info()"
      ],
      "execution_count": 90,
      "outputs": [
        {
          "output_type": "stream",
          "text": [
            "<class 'pandas.core.frame.DataFrame'>\n",
            "RangeIndex: 1413001 entries, 0 to 1413000\n",
            "Data columns (total 4 columns):\n",
            " #   Column       Non-Null Count    Dtype         \n",
            "---  ------       --------------    -----         \n",
            " 0   dt           1413001 non-null  datetime64[ns]\n",
            " 1   polarity     1413001 non-null  float64       \n",
            " 2   sensitivity  1413001 non-null  float64       \n",
            " 3   DateTime     1413001 non-null  datetime64[ns]\n",
            "dtypes: datetime64[ns](2), float64(2)\n",
            "memory usage: 43.1 MB\n"
          ],
          "name": "stdout"
        }
      ]
    },
    {
      "cell_type": "code",
      "metadata": {
        "colab": {
          "base_uri": "https://localhost:8080/"
        },
        "id": "7OpxcB81G7QR",
        "outputId": "b61eb57b-5fa5-45ab-b030-d2e1b59cd9d9"
      },
      "source": [
        "notclean.index = pd.to_datetime(notclean.index)\r\n",
        "notclean.info()"
      ],
      "execution_count": 91,
      "outputs": [
        {
          "output_type": "stream",
          "text": [
            "<class 'pandas.core.frame.DataFrame'>\n",
            "DatetimeIndex: 1413001 entries, 1970-01-01 00:00:00 to 1970-01-01 00:00:00.001413\n",
            "Data columns (total 4 columns):\n",
            " #   Column       Non-Null Count    Dtype         \n",
            "---  ------       --------------    -----         \n",
            " 0   dt           1413001 non-null  datetime64[ns]\n",
            " 1   polarity     1413001 non-null  float64       \n",
            " 2   sensitivity  1413001 non-null  float64       \n",
            " 3   DateTime     1413001 non-null  datetime64[ns]\n",
            "dtypes: datetime64[ns](2), float64(2)\n",
            "memory usage: 53.9 MB\n"
          ],
          "name": "stdout"
        }
      ]
    },
    {
      "cell_type": "code",
      "metadata": {
        "id": "DsZWUhbUG-ll"
      },
      "source": [
        "vdf['tweet_vol'] =vdf['tweet_vol'].astype(float)"
      ],
      "execution_count": 92,
      "outputs": []
    },
    {
      "cell_type": "code",
      "metadata": {
        "colab": {
          "base_uri": "https://localhost:8080/"
        },
        "id": "eZvKFRDbHCm8",
        "outputId": "5d13ccea-2773-44a7-9808-b684bacccf9e"
      },
      "source": [
        "vdf.info()"
      ],
      "execution_count": 93,
      "outputs": [
        {
          "output_type": "stream",
          "text": [
            "<class 'pandas.core.frame.DataFrame'>\n",
            "DatetimeIndex: 302 entries, 2018-07-11 19:00:00 to 2018-07-24 08:00:00\n",
            "Data columns (total 1 columns):\n",
            " #   Column     Non-Null Count  Dtype  \n",
            "---  ------     --------------  -----  \n",
            " 0   tweet_vol  302 non-null    float64\n",
            "dtypes: float64(1)\n",
            "memory usage: 4.7 KB\n"
          ],
          "name": "stdout"
        }
      ]
    },
    {
      "cell_type": "code",
      "metadata": {
        "colab": {
          "base_uri": "https://localhost:8080/"
        },
        "id": "GMESULL2HFUm",
        "outputId": "5a1025cb-65a5-4e1a-fdf3-a747a2094ee8"
      },
      "source": [
        "notclean.info()"
      ],
      "execution_count": 94,
      "outputs": [
        {
          "output_type": "stream",
          "text": [
            "<class 'pandas.core.frame.DataFrame'>\n",
            "DatetimeIndex: 1413001 entries, 1970-01-01 00:00:00 to 1970-01-01 00:00:00.001413\n",
            "Data columns (total 4 columns):\n",
            " #   Column       Non-Null Count    Dtype         \n",
            "---  ------       --------------    -----         \n",
            " 0   dt           1413001 non-null  datetime64[ns]\n",
            " 1   polarity     1413001 non-null  float64       \n",
            " 2   sensitivity  1413001 non-null  float64       \n",
            " 3   DateTime     1413001 non-null  datetime64[ns]\n",
            "dtypes: datetime64[ns](2), float64(2)\n",
            "memory usage: 53.9 MB\n"
          ],
          "name": "stdout"
        }
      ]
    },
    {
      "cell_type": "code",
      "metadata": {
        "colab": {
          "base_uri": "https://localhost:8080/",
          "height": 204
        },
        "id": "kfW-mwxjHH5A",
        "outputId": "3af1563a-8912-4e6a-8ff9-450bed3986da"
      },
      "source": [
        "notclean.head()"
      ],
      "execution_count": 95,
      "outputs": [
        {
          "output_type": "execute_result",
          "data": {
            "text/html": [
              "<div>\n",
              "<style scoped>\n",
              "    .dataframe tbody tr th:only-of-type {\n",
              "        vertical-align: middle;\n",
              "    }\n",
              "\n",
              "    .dataframe tbody tr th {\n",
              "        vertical-align: top;\n",
              "    }\n",
              "\n",
              "    .dataframe thead th {\n",
              "        text-align: right;\n",
              "    }\n",
              "</style>\n",
              "<table border=\"1\" class=\"dataframe\">\n",
              "  <thead>\n",
              "    <tr style=\"text-align: right;\">\n",
              "      <th></th>\n",
              "      <th>dt</th>\n",
              "      <th>polarity</th>\n",
              "      <th>sensitivity</th>\n",
              "      <th>DateTime</th>\n",
              "    </tr>\n",
              "  </thead>\n",
              "  <tbody>\n",
              "    <tr>\n",
              "      <th>1970-01-01 00:00:00.000000000</th>\n",
              "      <td>2018-07-11 19:35:15.363270</td>\n",
              "      <td>0.007273</td>\n",
              "      <td>0.590909</td>\n",
              "      <td>2018-07-11 19:00:00</td>\n",
              "    </tr>\n",
              "    <tr>\n",
              "      <th>1970-01-01 00:00:00.000000001</th>\n",
              "      <td>2018-07-11 19:35:15.736769</td>\n",
              "      <td>0.000000</td>\n",
              "      <td>0.000000</td>\n",
              "      <td>2018-07-11 19:00:00</td>\n",
              "    </tr>\n",
              "    <tr>\n",
              "      <th>1970-01-01 00:00:00.000000002</th>\n",
              "      <td>2018-07-11 19:35:15.744769</td>\n",
              "      <td>0.625000</td>\n",
              "      <td>0.500000</td>\n",
              "      <td>2018-07-11 19:00:00</td>\n",
              "    </tr>\n",
              "    <tr>\n",
              "      <th>1970-01-01 00:00:00.000000003</th>\n",
              "      <td>2018-07-11 19:35:15.867339</td>\n",
              "      <td>0.000000</td>\n",
              "      <td>0.175000</td>\n",
              "      <td>2018-07-11 19:00:00</td>\n",
              "    </tr>\n",
              "    <tr>\n",
              "      <th>1970-01-01 00:00:00.000000004</th>\n",
              "      <td>2018-07-11 19:35:16.021448</td>\n",
              "      <td>0.333333</td>\n",
              "      <td>0.500000</td>\n",
              "      <td>2018-07-11 19:00:00</td>\n",
              "    </tr>\n",
              "  </tbody>\n",
              "</table>\n",
              "</div>"
            ],
            "text/plain": [
              "                                                      dt  ...            DateTime\n",
              "1970-01-01 00:00:00.000000000 2018-07-11 19:35:15.363270  ... 2018-07-11 19:00:00\n",
              "1970-01-01 00:00:00.000000001 2018-07-11 19:35:15.736769  ... 2018-07-11 19:00:00\n",
              "1970-01-01 00:00:00.000000002 2018-07-11 19:35:15.744769  ... 2018-07-11 19:00:00\n",
              "1970-01-01 00:00:00.000000003 2018-07-11 19:35:15.867339  ... 2018-07-11 19:00:00\n",
              "1970-01-01 00:00:00.000000004 2018-07-11 19:35:16.021448  ... 2018-07-11 19:00:00\n",
              "\n",
              "[5 rows x 4 columns]"
            ]
          },
          "metadata": {
            "tags": []
          },
          "execution_count": 95
        }
      ]
    },
    {
      "cell_type": "code",
      "metadata": {
        "id": "M-VsUV59HPkI"
      },
      "source": [
        "df = notclean.groupby('DateTime').agg(lambda x: x.mean())"
      ],
      "execution_count": 96,
      "outputs": []
    },
    {
      "cell_type": "code",
      "metadata": {
        "id": "xITDKk22HTiA"
      },
      "source": [
        "df['Tweet_vol'] = vdf['tweet_vol']"
      ],
      "execution_count": 97,
      "outputs": []
    },
    {
      "cell_type": "code",
      "metadata": {
        "id": "WJQkXMFnHV8i"
      },
      "source": [
        "df = df.drop(df.index[0])"
      ],
      "execution_count": 98,
      "outputs": []
    },
    {
      "cell_type": "code",
      "metadata": {
        "colab": {
          "base_uri": "https://localhost:8080/",
          "height": 235
        },
        "id": "xQFnsiAFHY2k",
        "outputId": "07677293-fefc-4176-e0b7-8cb173cffbc5"
      },
      "source": [
        "df.head()"
      ],
      "execution_count": 99,
      "outputs": [
        {
          "output_type": "execute_result",
          "data": {
            "text/html": [
              "<div>\n",
              "<style scoped>\n",
              "    .dataframe tbody tr th:only-of-type {\n",
              "        vertical-align: middle;\n",
              "    }\n",
              "\n",
              "    .dataframe tbody tr th {\n",
              "        vertical-align: top;\n",
              "    }\n",
              "\n",
              "    .dataframe thead th {\n",
              "        text-align: right;\n",
              "    }\n",
              "</style>\n",
              "<table border=\"1\" class=\"dataframe\">\n",
              "  <thead>\n",
              "    <tr style=\"text-align: right;\">\n",
              "      <th></th>\n",
              "      <th>dt</th>\n",
              "      <th>polarity</th>\n",
              "      <th>sensitivity</th>\n",
              "      <th>Tweet_vol</th>\n",
              "    </tr>\n",
              "    <tr>\n",
              "      <th>DateTime</th>\n",
              "      <th></th>\n",
              "      <th></th>\n",
              "      <th></th>\n",
              "      <th></th>\n",
              "    </tr>\n",
              "  </thead>\n",
              "  <tbody>\n",
              "    <tr>\n",
              "      <th>2018-07-11 20:00:00</th>\n",
              "      <td>2018-07-11 20:27:49.510634240</td>\n",
              "      <td>0.102657</td>\n",
              "      <td>0.216148</td>\n",
              "      <td>4354.0</td>\n",
              "    </tr>\n",
              "    <tr>\n",
              "      <th>2018-07-11 21:00:00</th>\n",
              "      <td>2018-07-11 21:28:35.636373760</td>\n",
              "      <td>0.098004</td>\n",
              "      <td>0.218612</td>\n",
              "      <td>4432.0</td>\n",
              "    </tr>\n",
              "    <tr>\n",
              "      <th>2018-07-11 22:00:00</th>\n",
              "      <td>2018-07-11 22:27:44.646708224</td>\n",
              "      <td>0.096688</td>\n",
              "      <td>0.231342</td>\n",
              "      <td>3980.0</td>\n",
              "    </tr>\n",
              "    <tr>\n",
              "      <th>2018-07-11 23:00:00</th>\n",
              "      <td>2018-07-11 23:28:06.455845632</td>\n",
              "      <td>0.103997</td>\n",
              "      <td>0.217739</td>\n",
              "      <td>3830.0</td>\n",
              "    </tr>\n",
              "    <tr>\n",
              "      <th>2018-07-12 00:00:00</th>\n",
              "      <td>2018-07-12 00:28:47.975380992</td>\n",
              "      <td>0.094383</td>\n",
              "      <td>0.195256</td>\n",
              "      <td>3998.0</td>\n",
              "    </tr>\n",
              "  </tbody>\n",
              "</table>\n",
              "</div>"
            ],
            "text/plain": [
              "                                               dt  ...  Tweet_vol\n",
              "DateTime                                           ...           \n",
              "2018-07-11 20:00:00 2018-07-11 20:27:49.510634240  ...     4354.0\n",
              "2018-07-11 21:00:00 2018-07-11 21:28:35.636373760  ...     4432.0\n",
              "2018-07-11 22:00:00 2018-07-11 22:27:44.646708224  ...     3980.0\n",
              "2018-07-11 23:00:00 2018-07-11 23:28:06.455845632  ...     3830.0\n",
              "2018-07-12 00:00:00 2018-07-12 00:28:47.975380992  ...     3998.0\n",
              "\n",
              "[5 rows x 4 columns]"
            ]
          },
          "metadata": {
            "tags": []
          },
          "execution_count": 99
        }
      ]
    },
    {
      "cell_type": "code",
      "metadata": {
        "colab": {
          "base_uri": "https://localhost:8080/",
          "height": 235
        },
        "id": "i9uzLnzdHb5v",
        "outputId": "59e5b27b-866f-469e-a6bd-19cfe6894fb5"
      },
      "source": [
        "df.tail()"
      ],
      "execution_count": 100,
      "outputs": [
        {
          "output_type": "execute_result",
          "data": {
            "text/html": [
              "<div>\n",
              "<style scoped>\n",
              "    .dataframe tbody tr th:only-of-type {\n",
              "        vertical-align: middle;\n",
              "    }\n",
              "\n",
              "    .dataframe tbody tr th {\n",
              "        vertical-align: top;\n",
              "    }\n",
              "\n",
              "    .dataframe thead th {\n",
              "        text-align: right;\n",
              "    }\n",
              "</style>\n",
              "<table border=\"1\" class=\"dataframe\">\n",
              "  <thead>\n",
              "    <tr style=\"text-align: right;\">\n",
              "      <th></th>\n",
              "      <th>dt</th>\n",
              "      <th>polarity</th>\n",
              "      <th>sensitivity</th>\n",
              "      <th>Tweet_vol</th>\n",
              "    </tr>\n",
              "    <tr>\n",
              "      <th>DateTime</th>\n",
              "      <th></th>\n",
              "      <th></th>\n",
              "      <th></th>\n",
              "      <th></th>\n",
              "    </tr>\n",
              "  </thead>\n",
              "  <tbody>\n",
              "    <tr>\n",
              "      <th>2018-07-24 04:00:00</th>\n",
              "      <td>2018-07-24 04:27:40.946246144</td>\n",
              "      <td>0.121358</td>\n",
              "      <td>0.236000</td>\n",
              "      <td>4475.0</td>\n",
              "    </tr>\n",
              "    <tr>\n",
              "      <th>2018-07-24 05:00:00</th>\n",
              "      <td>2018-07-24 05:28:40.424965632</td>\n",
              "      <td>0.095163</td>\n",
              "      <td>0.216924</td>\n",
              "      <td>4808.0</td>\n",
              "    </tr>\n",
              "    <tr>\n",
              "      <th>2018-07-24 06:00:00</th>\n",
              "      <td>2018-07-24 06:30:52.606722816</td>\n",
              "      <td>0.088992</td>\n",
              "      <td>0.220173</td>\n",
              "      <td>6036.0</td>\n",
              "    </tr>\n",
              "    <tr>\n",
              "      <th>2018-07-24 07:00:00</th>\n",
              "      <td>2018-07-24 07:27:29.229672704</td>\n",
              "      <td>0.091439</td>\n",
              "      <td>0.198279</td>\n",
              "      <td>6047.0</td>\n",
              "    </tr>\n",
              "    <tr>\n",
              "      <th>2018-07-24 08:00:00</th>\n",
              "      <td>2018-07-24 08:07:02.674451968</td>\n",
              "      <td>0.071268</td>\n",
              "      <td>0.218217</td>\n",
              "      <td>2444.0</td>\n",
              "    </tr>\n",
              "  </tbody>\n",
              "</table>\n",
              "</div>"
            ],
            "text/plain": [
              "                                               dt  ...  Tweet_vol\n",
              "DateTime                                           ...           \n",
              "2018-07-24 04:00:00 2018-07-24 04:27:40.946246144  ...     4475.0\n",
              "2018-07-24 05:00:00 2018-07-24 05:28:40.424965632  ...     4808.0\n",
              "2018-07-24 06:00:00 2018-07-24 06:30:52.606722816  ...     6036.0\n",
              "2018-07-24 07:00:00 2018-07-24 07:27:29.229672704  ...     6047.0\n",
              "2018-07-24 08:00:00 2018-07-24 08:07:02.674451968  ...     2444.0\n",
              "\n",
              "[5 rows x 4 columns]"
            ]
          },
          "metadata": {
            "tags": []
          },
          "execution_count": 100
        }
      ]
    },
    {
      "cell_type": "code",
      "metadata": {
        "colab": {
          "base_uri": "https://localhost:8080/"
        },
        "id": "9DSb3jaGHetb",
        "outputId": "f491e2f0-2a4f-45c0-8ff7-fc3ca5afa69b"
      },
      "source": [
        "df.info()"
      ],
      "execution_count": 101,
      "outputs": [
        {
          "output_type": "stream",
          "text": [
            "<class 'pandas.core.frame.DataFrame'>\n",
            "DatetimeIndex: 301 entries, 2018-07-11 20:00:00 to 2018-07-24 08:00:00\n",
            "Data columns (total 4 columns):\n",
            " #   Column       Non-Null Count  Dtype         \n",
            "---  ------       --------------  -----         \n",
            " 0   dt           301 non-null    datetime64[ns]\n",
            " 1   polarity     301 non-null    float64       \n",
            " 2   sensitivity  301 non-null    float64       \n",
            " 3   Tweet_vol    301 non-null    float64       \n",
            "dtypes: datetime64[ns](1), float64(3)\n",
            "memory usage: 11.8 KB\n"
          ],
          "name": "stdout"
        }
      ]
    },
    {
      "cell_type": "code",
      "metadata": {
        "id": "WMB98SEDHivE"
      },
      "source": [
        "btcDF = pd.read_csv('/content/drive/MyDrive/btcSave2.csv', error_bad_lines=False,engine = 'python')"
      ],
      "execution_count": 102,
      "outputs": []
    },
    {
      "cell_type": "code",
      "metadata": {
        "id": "TgC7PPGPHisK"
      },
      "source": [
        "btcDF['Timestamp'] = pd.to_datetime(btcDF['Timestamp'])\r\n",
        "btcDF = btcDF.set_index(pd.DatetimeIndex(btcDF['Timestamp']))"
      ],
      "execution_count": 103,
      "outputs": []
    },
    {
      "cell_type": "code",
      "metadata": {
        "colab": {
          "base_uri": "https://localhost:8080/",
          "height": 235
        },
        "id": "W_c_4pCgHtGz",
        "outputId": "d793369a-80ea-4aba-d7f3-c630cc738721"
      },
      "source": [
        "btcDF.head()"
      ],
      "execution_count": 104,
      "outputs": [
        {
          "output_type": "execute_result",
          "data": {
            "text/html": [
              "<div>\n",
              "<style scoped>\n",
              "    .dataframe tbody tr th:only-of-type {\n",
              "        vertical-align: middle;\n",
              "    }\n",
              "\n",
              "    .dataframe tbody tr th {\n",
              "        vertical-align: top;\n",
              "    }\n",
              "\n",
              "    .dataframe thead th {\n",
              "        text-align: right;\n",
              "    }\n",
              "</style>\n",
              "<table border=\"1\" class=\"dataframe\">\n",
              "  <thead>\n",
              "    <tr style=\"text-align: right;\">\n",
              "      <th></th>\n",
              "      <th>Timestamp</th>\n",
              "      <th>Open</th>\n",
              "      <th>High</th>\n",
              "      <th>Low</th>\n",
              "      <th>Close</th>\n",
              "      <th>Volume (BTC)</th>\n",
              "      <th>Volume (Currency)</th>\n",
              "      <th>Weighted Price</th>\n",
              "    </tr>\n",
              "    <tr>\n",
              "      <th>Timestamp</th>\n",
              "      <th></th>\n",
              "      <th></th>\n",
              "      <th></th>\n",
              "      <th></th>\n",
              "      <th></th>\n",
              "      <th></th>\n",
              "      <th></th>\n",
              "      <th></th>\n",
              "    </tr>\n",
              "  </thead>\n",
              "  <tbody>\n",
              "    <tr>\n",
              "      <th>2018-07-10 01:00:00</th>\n",
              "      <td>2018-07-10 01:00:00</td>\n",
              "      <td>6666.75</td>\n",
              "      <td>6683.90</td>\n",
              "      <td>6635.59</td>\n",
              "      <td>6669.73</td>\n",
              "      <td>281.73</td>\n",
              "      <td>1875693.72</td>\n",
              "      <td>6657.70</td>\n",
              "    </tr>\n",
              "    <tr>\n",
              "      <th>2018-07-10 02:00:00</th>\n",
              "      <td>2018-07-10 02:00:00</td>\n",
              "      <td>6662.44</td>\n",
              "      <td>6674.60</td>\n",
              "      <td>6647.00</td>\n",
              "      <td>6647.00</td>\n",
              "      <td>174.10</td>\n",
              "      <td>1160103.29</td>\n",
              "      <td>6663.38</td>\n",
              "    </tr>\n",
              "    <tr>\n",
              "      <th>2018-07-10 03:00:00</th>\n",
              "      <td>2018-07-10 03:00:00</td>\n",
              "      <td>6652.52</td>\n",
              "      <td>6662.82</td>\n",
              "      <td>6621.99</td>\n",
              "      <td>6632.53</td>\n",
              "      <td>231.41</td>\n",
              "      <td>1536936.22</td>\n",
              "      <td>6641.70</td>\n",
              "    </tr>\n",
              "    <tr>\n",
              "      <th>2018-07-10 04:00:00</th>\n",
              "      <td>2018-07-10 04:00:00</td>\n",
              "      <td>6631.17</td>\n",
              "      <td>6655.48</td>\n",
              "      <td>6625.54</td>\n",
              "      <td>6635.92</td>\n",
              "      <td>120.38</td>\n",
              "      <td>799154.77</td>\n",
              "      <td>6638.52</td>\n",
              "    </tr>\n",
              "    <tr>\n",
              "      <th>2018-07-10 05:00:00</th>\n",
              "      <td>2018-07-10 05:00:00</td>\n",
              "      <td>6632.81</td>\n",
              "      <td>6651.06</td>\n",
              "      <td>6627.64</td>\n",
              "      <td>6640.57</td>\n",
              "      <td>94.00</td>\n",
              "      <td>624289.31</td>\n",
              "      <td>6641.32</td>\n",
              "    </tr>\n",
              "  </tbody>\n",
              "</table>\n",
              "</div>"
            ],
            "text/plain": [
              "                              Timestamp  ...  Weighted Price\n",
              "Timestamp                                ...                \n",
              "2018-07-10 01:00:00 2018-07-10 01:00:00  ...         6657.70\n",
              "2018-07-10 02:00:00 2018-07-10 02:00:00  ...         6663.38\n",
              "2018-07-10 03:00:00 2018-07-10 03:00:00  ...         6641.70\n",
              "2018-07-10 04:00:00 2018-07-10 04:00:00  ...         6638.52\n",
              "2018-07-10 05:00:00 2018-07-10 05:00:00  ...         6641.32\n",
              "\n",
              "[5 rows x 8 columns]"
            ]
          },
          "metadata": {
            "tags": []
          },
          "execution_count": 104
        }
      ]
    },
    {
      "cell_type": "code",
      "metadata": {
        "id": "ycNEyUoYHwDR"
      },
      "source": [
        "btcDF = btcDF.drop(['Timestamp'], axis=1)"
      ],
      "execution_count": 105,
      "outputs": []
    },
    {
      "cell_type": "code",
      "metadata": {
        "colab": {
          "base_uri": "https://localhost:8080/",
          "height": 235
        },
        "id": "vsLa53n6Hyvk",
        "outputId": "e3bf6612-67c1-44ce-a36b-d8055b5831a1"
      },
      "source": [
        "btcDF.head()"
      ],
      "execution_count": 106,
      "outputs": [
        {
          "output_type": "execute_result",
          "data": {
            "text/html": [
              "<div>\n",
              "<style scoped>\n",
              "    .dataframe tbody tr th:only-of-type {\n",
              "        vertical-align: middle;\n",
              "    }\n",
              "\n",
              "    .dataframe tbody tr th {\n",
              "        vertical-align: top;\n",
              "    }\n",
              "\n",
              "    .dataframe thead th {\n",
              "        text-align: right;\n",
              "    }\n",
              "</style>\n",
              "<table border=\"1\" class=\"dataframe\">\n",
              "  <thead>\n",
              "    <tr style=\"text-align: right;\">\n",
              "      <th></th>\n",
              "      <th>Open</th>\n",
              "      <th>High</th>\n",
              "      <th>Low</th>\n",
              "      <th>Close</th>\n",
              "      <th>Volume (BTC)</th>\n",
              "      <th>Volume (Currency)</th>\n",
              "      <th>Weighted Price</th>\n",
              "    </tr>\n",
              "    <tr>\n",
              "      <th>Timestamp</th>\n",
              "      <th></th>\n",
              "      <th></th>\n",
              "      <th></th>\n",
              "      <th></th>\n",
              "      <th></th>\n",
              "      <th></th>\n",
              "      <th></th>\n",
              "    </tr>\n",
              "  </thead>\n",
              "  <tbody>\n",
              "    <tr>\n",
              "      <th>2018-07-10 01:00:00</th>\n",
              "      <td>6666.75</td>\n",
              "      <td>6683.90</td>\n",
              "      <td>6635.59</td>\n",
              "      <td>6669.73</td>\n",
              "      <td>281.73</td>\n",
              "      <td>1875693.72</td>\n",
              "      <td>6657.70</td>\n",
              "    </tr>\n",
              "    <tr>\n",
              "      <th>2018-07-10 02:00:00</th>\n",
              "      <td>6662.44</td>\n",
              "      <td>6674.60</td>\n",
              "      <td>6647.00</td>\n",
              "      <td>6647.00</td>\n",
              "      <td>174.10</td>\n",
              "      <td>1160103.29</td>\n",
              "      <td>6663.38</td>\n",
              "    </tr>\n",
              "    <tr>\n",
              "      <th>2018-07-10 03:00:00</th>\n",
              "      <td>6652.52</td>\n",
              "      <td>6662.82</td>\n",
              "      <td>6621.99</td>\n",
              "      <td>6632.53</td>\n",
              "      <td>231.41</td>\n",
              "      <td>1536936.22</td>\n",
              "      <td>6641.70</td>\n",
              "    </tr>\n",
              "    <tr>\n",
              "      <th>2018-07-10 04:00:00</th>\n",
              "      <td>6631.17</td>\n",
              "      <td>6655.48</td>\n",
              "      <td>6625.54</td>\n",
              "      <td>6635.92</td>\n",
              "      <td>120.38</td>\n",
              "      <td>799154.77</td>\n",
              "      <td>6638.52</td>\n",
              "    </tr>\n",
              "    <tr>\n",
              "      <th>2018-07-10 05:00:00</th>\n",
              "      <td>6632.81</td>\n",
              "      <td>6651.06</td>\n",
              "      <td>6627.64</td>\n",
              "      <td>6640.57</td>\n",
              "      <td>94.00</td>\n",
              "      <td>624289.31</td>\n",
              "      <td>6641.32</td>\n",
              "    </tr>\n",
              "  </tbody>\n",
              "</table>\n",
              "</div>"
            ],
            "text/plain": [
              "                        Open     High  ...  Volume (Currency)  Weighted Price\n",
              "Timestamp                              ...                                   \n",
              "2018-07-10 01:00:00  6666.75  6683.90  ...         1875693.72         6657.70\n",
              "2018-07-10 02:00:00  6662.44  6674.60  ...         1160103.29         6663.38\n",
              "2018-07-10 03:00:00  6652.52  6662.82  ...         1536936.22         6641.70\n",
              "2018-07-10 04:00:00  6631.17  6655.48  ...          799154.77         6638.52\n",
              "2018-07-10 05:00:00  6632.81  6651.06  ...          624289.31         6641.32\n",
              "\n",
              "[5 rows x 7 columns]"
            ]
          },
          "metadata": {
            "tags": []
          },
          "execution_count": 106
        }
      ]
    },
    {
      "cell_type": "code",
      "metadata": {
        "id": "QeMJ1j1sH1kB"
      },
      "source": [
        "Final_df = pd.merge(df,btcDF, how='inner',left_index=True, right_index=True)"
      ],
      "execution_count": 107,
      "outputs": []
    },
    {
      "cell_type": "code",
      "metadata": {
        "colab": {
          "base_uri": "https://localhost:8080/",
          "height": 204
        },
        "id": "ctqCq3zxH4ZD",
        "outputId": "49d3fba0-f152-44cc-f619-c43804a878fb"
      },
      "source": [
        "Final_df.head()"
      ],
      "execution_count": 108,
      "outputs": [
        {
          "output_type": "execute_result",
          "data": {
            "text/html": [
              "<div>\n",
              "<style scoped>\n",
              "    .dataframe tbody tr th:only-of-type {\n",
              "        vertical-align: middle;\n",
              "    }\n",
              "\n",
              "    .dataframe tbody tr th {\n",
              "        vertical-align: top;\n",
              "    }\n",
              "\n",
              "    .dataframe thead th {\n",
              "        text-align: right;\n",
              "    }\n",
              "</style>\n",
              "<table border=\"1\" class=\"dataframe\">\n",
              "  <thead>\n",
              "    <tr style=\"text-align: right;\">\n",
              "      <th></th>\n",
              "      <th>dt</th>\n",
              "      <th>polarity</th>\n",
              "      <th>sensitivity</th>\n",
              "      <th>Tweet_vol</th>\n",
              "      <th>Open</th>\n",
              "      <th>High</th>\n",
              "      <th>Low</th>\n",
              "      <th>Close</th>\n",
              "      <th>Volume (BTC)</th>\n",
              "      <th>Volume (Currency)</th>\n",
              "      <th>Weighted Price</th>\n",
              "    </tr>\n",
              "  </thead>\n",
              "  <tbody>\n",
              "    <tr>\n",
              "      <th>2018-07-11 20:00:00</th>\n",
              "      <td>2018-07-11 20:27:49.510634240</td>\n",
              "      <td>0.102657</td>\n",
              "      <td>0.216148</td>\n",
              "      <td>4354.0</td>\n",
              "      <td>6342.97</td>\n",
              "      <td>6354.19</td>\n",
              "      <td>6291.00</td>\n",
              "      <td>6350.00</td>\n",
              "      <td>986.73</td>\n",
              "      <td>6231532.37</td>\n",
              "      <td>6315.33</td>\n",
              "    </tr>\n",
              "    <tr>\n",
              "      <th>2018-07-11 21:00:00</th>\n",
              "      <td>2018-07-11 21:28:35.636373760</td>\n",
              "      <td>0.098004</td>\n",
              "      <td>0.218612</td>\n",
              "      <td>4432.0</td>\n",
              "      <td>6352.99</td>\n",
              "      <td>6370.00</td>\n",
              "      <td>6345.76</td>\n",
              "      <td>6356.48</td>\n",
              "      <td>126.46</td>\n",
              "      <td>804221.55</td>\n",
              "      <td>6359.53</td>\n",
              "    </tr>\n",
              "    <tr>\n",
              "      <th>2018-07-11 22:00:00</th>\n",
              "      <td>2018-07-11 22:27:44.646708224</td>\n",
              "      <td>0.096688</td>\n",
              "      <td>0.231342</td>\n",
              "      <td>3980.0</td>\n",
              "      <td>6350.85</td>\n",
              "      <td>6378.47</td>\n",
              "      <td>6345.00</td>\n",
              "      <td>6361.93</td>\n",
              "      <td>259.10</td>\n",
              "      <td>1646353.87</td>\n",
              "      <td>6354.12</td>\n",
              "    </tr>\n",
              "    <tr>\n",
              "      <th>2018-07-11 23:00:00</th>\n",
              "      <td>2018-07-11 23:28:06.455845632</td>\n",
              "      <td>0.103997</td>\n",
              "      <td>0.217739</td>\n",
              "      <td>3830.0</td>\n",
              "      <td>6362.36</td>\n",
              "      <td>6381.25</td>\n",
              "      <td>6356.74</td>\n",
              "      <td>6368.78</td>\n",
              "      <td>81.54</td>\n",
              "      <td>519278.69</td>\n",
              "      <td>6368.23</td>\n",
              "    </tr>\n",
              "    <tr>\n",
              "      <th>2018-07-12 00:00:00</th>\n",
              "      <td>2018-07-12 00:28:47.975380992</td>\n",
              "      <td>0.094383</td>\n",
              "      <td>0.195256</td>\n",
              "      <td>3998.0</td>\n",
              "      <td>6369.49</td>\n",
              "      <td>6381.25</td>\n",
              "      <td>6361.83</td>\n",
              "      <td>6380.00</td>\n",
              "      <td>124.55</td>\n",
              "      <td>793560.22</td>\n",
              "      <td>6371.51</td>\n",
              "    </tr>\n",
              "  </tbody>\n",
              "</table>\n",
              "</div>"
            ],
            "text/plain": [
              "                                               dt  ...  Weighted Price\n",
              "2018-07-11 20:00:00 2018-07-11 20:27:49.510634240  ...         6315.33\n",
              "2018-07-11 21:00:00 2018-07-11 21:28:35.636373760  ...         6359.53\n",
              "2018-07-11 22:00:00 2018-07-11 22:27:44.646708224  ...         6354.12\n",
              "2018-07-11 23:00:00 2018-07-11 23:28:06.455845632  ...         6368.23\n",
              "2018-07-12 00:00:00 2018-07-12 00:28:47.975380992  ...         6371.51\n",
              "\n",
              "[5 rows x 11 columns]"
            ]
          },
          "metadata": {
            "tags": []
          },
          "execution_count": 108
        }
      ]
    },
    {
      "cell_type": "code",
      "metadata": {
        "colab": {
          "base_uri": "https://localhost:8080/"
        },
        "id": "TCBpS4saH9YQ",
        "outputId": "bfb49dda-a40f-48a0-c4a2-a4674524826a"
      },
      "source": [
        "Final_df.info()"
      ],
      "execution_count": 109,
      "outputs": [
        {
          "output_type": "stream",
          "text": [
            "<class 'pandas.core.frame.DataFrame'>\n",
            "DatetimeIndex: 294 entries, 2018-07-11 20:00:00 to 2018-07-24 01:00:00\n",
            "Data columns (total 11 columns):\n",
            " #   Column             Non-Null Count  Dtype         \n",
            "---  ------             --------------  -----         \n",
            " 0   dt                 294 non-null    datetime64[ns]\n",
            " 1   polarity           294 non-null    float64       \n",
            " 2   sensitivity        294 non-null    float64       \n",
            " 3   Tweet_vol          294 non-null    float64       \n",
            " 4   Open               294 non-null    float64       \n",
            " 5   High               294 non-null    float64       \n",
            " 6   Low                294 non-null    float64       \n",
            " 7   Close              294 non-null    float64       \n",
            " 8   Volume (BTC)       294 non-null    float64       \n",
            " 9   Volume (Currency)  294 non-null    float64       \n",
            " 10  Weighted Price     294 non-null    float64       \n",
            "dtypes: datetime64[ns](1), float64(10)\n",
            "memory usage: 27.6 KB\n"
          ],
          "name": "stdout"
        }
      ]
    },
    {
      "cell_type": "code",
      "metadata": {
        "id": "_dRxp6q1IA12"
      },
      "source": [
        "Final_df=Final_df.drop(['Weighted Price'],axis=1 )\r\n"
      ],
      "execution_count": 110,
      "outputs": []
    },
    {
      "cell_type": "code",
      "metadata": {
        "colab": {
          "base_uri": "https://localhost:8080/",
          "height": 204
        },
        "id": "gd5J7U4KJSzi",
        "outputId": "29585ad1-f687-4ec4-d7fc-36e10cb3326d"
      },
      "source": [
        "Final_df.head()"
      ],
      "execution_count": 111,
      "outputs": [
        {
          "output_type": "execute_result",
          "data": {
            "text/html": [
              "<div>\n",
              "<style scoped>\n",
              "    .dataframe tbody tr th:only-of-type {\n",
              "        vertical-align: middle;\n",
              "    }\n",
              "\n",
              "    .dataframe tbody tr th {\n",
              "        vertical-align: top;\n",
              "    }\n",
              "\n",
              "    .dataframe thead th {\n",
              "        text-align: right;\n",
              "    }\n",
              "</style>\n",
              "<table border=\"1\" class=\"dataframe\">\n",
              "  <thead>\n",
              "    <tr style=\"text-align: right;\">\n",
              "      <th></th>\n",
              "      <th>dt</th>\n",
              "      <th>polarity</th>\n",
              "      <th>sensitivity</th>\n",
              "      <th>Tweet_vol</th>\n",
              "      <th>Open</th>\n",
              "      <th>High</th>\n",
              "      <th>Low</th>\n",
              "      <th>Close</th>\n",
              "      <th>Volume (BTC)</th>\n",
              "      <th>Volume (Currency)</th>\n",
              "    </tr>\n",
              "  </thead>\n",
              "  <tbody>\n",
              "    <tr>\n",
              "      <th>2018-07-11 20:00:00</th>\n",
              "      <td>2018-07-11 20:27:49.510634240</td>\n",
              "      <td>0.102657</td>\n",
              "      <td>0.216148</td>\n",
              "      <td>4354.0</td>\n",
              "      <td>6342.97</td>\n",
              "      <td>6354.19</td>\n",
              "      <td>6291.00</td>\n",
              "      <td>6350.00</td>\n",
              "      <td>986.73</td>\n",
              "      <td>6231532.37</td>\n",
              "    </tr>\n",
              "    <tr>\n",
              "      <th>2018-07-11 21:00:00</th>\n",
              "      <td>2018-07-11 21:28:35.636373760</td>\n",
              "      <td>0.098004</td>\n",
              "      <td>0.218612</td>\n",
              "      <td>4432.0</td>\n",
              "      <td>6352.99</td>\n",
              "      <td>6370.00</td>\n",
              "      <td>6345.76</td>\n",
              "      <td>6356.48</td>\n",
              "      <td>126.46</td>\n",
              "      <td>804221.55</td>\n",
              "    </tr>\n",
              "    <tr>\n",
              "      <th>2018-07-11 22:00:00</th>\n",
              "      <td>2018-07-11 22:27:44.646708224</td>\n",
              "      <td>0.096688</td>\n",
              "      <td>0.231342</td>\n",
              "      <td>3980.0</td>\n",
              "      <td>6350.85</td>\n",
              "      <td>6378.47</td>\n",
              "      <td>6345.00</td>\n",
              "      <td>6361.93</td>\n",
              "      <td>259.10</td>\n",
              "      <td>1646353.87</td>\n",
              "    </tr>\n",
              "    <tr>\n",
              "      <th>2018-07-11 23:00:00</th>\n",
              "      <td>2018-07-11 23:28:06.455845632</td>\n",
              "      <td>0.103997</td>\n",
              "      <td>0.217739</td>\n",
              "      <td>3830.0</td>\n",
              "      <td>6362.36</td>\n",
              "      <td>6381.25</td>\n",
              "      <td>6356.74</td>\n",
              "      <td>6368.78</td>\n",
              "      <td>81.54</td>\n",
              "      <td>519278.69</td>\n",
              "    </tr>\n",
              "    <tr>\n",
              "      <th>2018-07-12 00:00:00</th>\n",
              "      <td>2018-07-12 00:28:47.975380992</td>\n",
              "      <td>0.094383</td>\n",
              "      <td>0.195256</td>\n",
              "      <td>3998.0</td>\n",
              "      <td>6369.49</td>\n",
              "      <td>6381.25</td>\n",
              "      <td>6361.83</td>\n",
              "      <td>6380.00</td>\n",
              "      <td>124.55</td>\n",
              "      <td>793560.22</td>\n",
              "    </tr>\n",
              "  </tbody>\n",
              "</table>\n",
              "</div>"
            ],
            "text/plain": [
              "                                               dt  ...  Volume (Currency)\n",
              "2018-07-11 20:00:00 2018-07-11 20:27:49.510634240  ...         6231532.37\n",
              "2018-07-11 21:00:00 2018-07-11 21:28:35.636373760  ...          804221.55\n",
              "2018-07-11 22:00:00 2018-07-11 22:27:44.646708224  ...         1646353.87\n",
              "2018-07-11 23:00:00 2018-07-11 23:28:06.455845632  ...          519278.69\n",
              "2018-07-12 00:00:00 2018-07-12 00:28:47.975380992  ...          793560.22\n",
              "\n",
              "[5 rows x 10 columns]"
            ]
          },
          "metadata": {
            "tags": []
          },
          "execution_count": 111
        }
      ]
    },
    {
      "cell_type": "code",
      "metadata": {
        "id": "Ko8XKAoiIIYX"
      },
      "source": [
        "Final_df.columns = ['','Polarity', 'Sensitivity','Tweet_vol','Open','High','Low', 'Close_Price', 'Volume_BTC', 'Volume_Dollar']"
      ],
      "execution_count": 112,
      "outputs": []
    },
    {
      "cell_type": "code",
      "metadata": {
        "colab": {
          "base_uri": "https://localhost:8080/",
          "height": 204
        },
        "id": "8roBrFsmJEOv",
        "outputId": "15382745-96bf-4121-dccf-abf97b635e6b"
      },
      "source": [
        "Final_df.head()"
      ],
      "execution_count": 113,
      "outputs": [
        {
          "output_type": "execute_result",
          "data": {
            "text/html": [
              "<div>\n",
              "<style scoped>\n",
              "    .dataframe tbody tr th:only-of-type {\n",
              "        vertical-align: middle;\n",
              "    }\n",
              "\n",
              "    .dataframe tbody tr th {\n",
              "        vertical-align: top;\n",
              "    }\n",
              "\n",
              "    .dataframe thead th {\n",
              "        text-align: right;\n",
              "    }\n",
              "</style>\n",
              "<table border=\"1\" class=\"dataframe\">\n",
              "  <thead>\n",
              "    <tr style=\"text-align: right;\">\n",
              "      <th></th>\n",
              "      <th></th>\n",
              "      <th>Polarity</th>\n",
              "      <th>Sensitivity</th>\n",
              "      <th>Tweet_vol</th>\n",
              "      <th>Open</th>\n",
              "      <th>High</th>\n",
              "      <th>Low</th>\n",
              "      <th>Close_Price</th>\n",
              "      <th>Volume_BTC</th>\n",
              "      <th>Volume_Dollar</th>\n",
              "    </tr>\n",
              "  </thead>\n",
              "  <tbody>\n",
              "    <tr>\n",
              "      <th>2018-07-11 20:00:00</th>\n",
              "      <td>2018-07-11 20:27:49.510634240</td>\n",
              "      <td>0.102657</td>\n",
              "      <td>0.216148</td>\n",
              "      <td>4354.0</td>\n",
              "      <td>6342.97</td>\n",
              "      <td>6354.19</td>\n",
              "      <td>6291.00</td>\n",
              "      <td>6350.00</td>\n",
              "      <td>986.73</td>\n",
              "      <td>6231532.37</td>\n",
              "    </tr>\n",
              "    <tr>\n",
              "      <th>2018-07-11 21:00:00</th>\n",
              "      <td>2018-07-11 21:28:35.636373760</td>\n",
              "      <td>0.098004</td>\n",
              "      <td>0.218612</td>\n",
              "      <td>4432.0</td>\n",
              "      <td>6352.99</td>\n",
              "      <td>6370.00</td>\n",
              "      <td>6345.76</td>\n",
              "      <td>6356.48</td>\n",
              "      <td>126.46</td>\n",
              "      <td>804221.55</td>\n",
              "    </tr>\n",
              "    <tr>\n",
              "      <th>2018-07-11 22:00:00</th>\n",
              "      <td>2018-07-11 22:27:44.646708224</td>\n",
              "      <td>0.096688</td>\n",
              "      <td>0.231342</td>\n",
              "      <td>3980.0</td>\n",
              "      <td>6350.85</td>\n",
              "      <td>6378.47</td>\n",
              "      <td>6345.00</td>\n",
              "      <td>6361.93</td>\n",
              "      <td>259.10</td>\n",
              "      <td>1646353.87</td>\n",
              "    </tr>\n",
              "    <tr>\n",
              "      <th>2018-07-11 23:00:00</th>\n",
              "      <td>2018-07-11 23:28:06.455845632</td>\n",
              "      <td>0.103997</td>\n",
              "      <td>0.217739</td>\n",
              "      <td>3830.0</td>\n",
              "      <td>6362.36</td>\n",
              "      <td>6381.25</td>\n",
              "      <td>6356.74</td>\n",
              "      <td>6368.78</td>\n",
              "      <td>81.54</td>\n",
              "      <td>519278.69</td>\n",
              "    </tr>\n",
              "    <tr>\n",
              "      <th>2018-07-12 00:00:00</th>\n",
              "      <td>2018-07-12 00:28:47.975380992</td>\n",
              "      <td>0.094383</td>\n",
              "      <td>0.195256</td>\n",
              "      <td>3998.0</td>\n",
              "      <td>6369.49</td>\n",
              "      <td>6381.25</td>\n",
              "      <td>6361.83</td>\n",
              "      <td>6380.00</td>\n",
              "      <td>124.55</td>\n",
              "      <td>793560.22</td>\n",
              "    </tr>\n",
              "  </tbody>\n",
              "</table>\n",
              "</div>"
            ],
            "text/plain": [
              "                                                   ...  Volume_Dollar\n",
              "2018-07-11 20:00:00 2018-07-11 20:27:49.510634240  ...     6231532.37\n",
              "2018-07-11 21:00:00 2018-07-11 21:28:35.636373760  ...      804221.55\n",
              "2018-07-11 22:00:00 2018-07-11 22:27:44.646708224  ...     1646353.87\n",
              "2018-07-11 23:00:00 2018-07-11 23:28:06.455845632  ...      519278.69\n",
              "2018-07-12 00:00:00 2018-07-12 00:28:47.975380992  ...      793560.22\n",
              "\n",
              "[5 rows x 10 columns]"
            ]
          },
          "metadata": {
            "tags": []
          },
          "execution_count": 113
        }
      ]
    },
    {
      "cell_type": "code",
      "metadata": {
        "id": "p9eY-YT-Jw-6"
      },
      "source": [
        "Final_df = Final_df[['Polarity', 'Sensitivity','Tweet_vol', 'Open','High','Low', 'Volume_BTC', 'Volume_Dollar', 'Close_Price']]"
      ],
      "execution_count": 114,
      "outputs": []
    },
    {
      "cell_type": "code",
      "metadata": {
        "colab": {
          "base_uri": "https://localhost:8080/",
          "height": 419
        },
        "id": "rke-fe7wJyx3",
        "outputId": "4f1b5f0c-2a9e-42eb-8dce-a0865d7ac172"
      },
      "source": [
        "Final_df"
      ],
      "execution_count": 115,
      "outputs": [
        {
          "output_type": "execute_result",
          "data": {
            "text/html": [
              "<div>\n",
              "<style scoped>\n",
              "    .dataframe tbody tr th:only-of-type {\n",
              "        vertical-align: middle;\n",
              "    }\n",
              "\n",
              "    .dataframe tbody tr th {\n",
              "        vertical-align: top;\n",
              "    }\n",
              "\n",
              "    .dataframe thead th {\n",
              "        text-align: right;\n",
              "    }\n",
              "</style>\n",
              "<table border=\"1\" class=\"dataframe\">\n",
              "  <thead>\n",
              "    <tr style=\"text-align: right;\">\n",
              "      <th></th>\n",
              "      <th>Polarity</th>\n",
              "      <th>Sensitivity</th>\n",
              "      <th>Tweet_vol</th>\n",
              "      <th>Open</th>\n",
              "      <th>High</th>\n",
              "      <th>Low</th>\n",
              "      <th>Volume_BTC</th>\n",
              "      <th>Volume_Dollar</th>\n",
              "      <th>Close_Price</th>\n",
              "    </tr>\n",
              "  </thead>\n",
              "  <tbody>\n",
              "    <tr>\n",
              "      <th>2018-07-11 20:00:00</th>\n",
              "      <td>0.102657</td>\n",
              "      <td>0.216148</td>\n",
              "      <td>4354.0</td>\n",
              "      <td>6342.97</td>\n",
              "      <td>6354.19</td>\n",
              "      <td>6291.00</td>\n",
              "      <td>986.73</td>\n",
              "      <td>6231532.37</td>\n",
              "      <td>6350.00</td>\n",
              "    </tr>\n",
              "    <tr>\n",
              "      <th>2018-07-11 21:00:00</th>\n",
              "      <td>0.098004</td>\n",
              "      <td>0.218612</td>\n",
              "      <td>4432.0</td>\n",
              "      <td>6352.99</td>\n",
              "      <td>6370.00</td>\n",
              "      <td>6345.76</td>\n",
              "      <td>126.46</td>\n",
              "      <td>804221.55</td>\n",
              "      <td>6356.48</td>\n",
              "    </tr>\n",
              "    <tr>\n",
              "      <th>2018-07-11 22:00:00</th>\n",
              "      <td>0.096688</td>\n",
              "      <td>0.231342</td>\n",
              "      <td>3980.0</td>\n",
              "      <td>6350.85</td>\n",
              "      <td>6378.47</td>\n",
              "      <td>6345.00</td>\n",
              "      <td>259.10</td>\n",
              "      <td>1646353.87</td>\n",
              "      <td>6361.93</td>\n",
              "    </tr>\n",
              "    <tr>\n",
              "      <th>2018-07-11 23:00:00</th>\n",
              "      <td>0.103997</td>\n",
              "      <td>0.217739</td>\n",
              "      <td>3830.0</td>\n",
              "      <td>6362.36</td>\n",
              "      <td>6381.25</td>\n",
              "      <td>6356.74</td>\n",
              "      <td>81.54</td>\n",
              "      <td>519278.69</td>\n",
              "      <td>6368.78</td>\n",
              "    </tr>\n",
              "    <tr>\n",
              "      <th>2018-07-12 00:00:00</th>\n",
              "      <td>0.094383</td>\n",
              "      <td>0.195256</td>\n",
              "      <td>3998.0</td>\n",
              "      <td>6369.49</td>\n",
              "      <td>6381.25</td>\n",
              "      <td>6361.83</td>\n",
              "      <td>124.55</td>\n",
              "      <td>793560.22</td>\n",
              "      <td>6380.00</td>\n",
              "    </tr>\n",
              "    <tr>\n",
              "      <th>...</th>\n",
              "      <td>...</td>\n",
              "      <td>...</td>\n",
              "      <td>...</td>\n",
              "      <td>...</td>\n",
              "      <td>...</td>\n",
              "      <td>...</td>\n",
              "      <td>...</td>\n",
              "      <td>...</td>\n",
              "      <td>...</td>\n",
              "    </tr>\n",
              "    <tr>\n",
              "      <th>2018-07-23 21:00:00</th>\n",
              "      <td>0.107282</td>\n",
              "      <td>0.235636</td>\n",
              "      <td>5164.0</td>\n",
              "      <td>7746.99</td>\n",
              "      <td>7763.59</td>\n",
              "      <td>7690.16</td>\n",
              "      <td>237.63</td>\n",
              "      <td>1836633.86</td>\n",
              "      <td>7706.00</td>\n",
              "    </tr>\n",
              "    <tr>\n",
              "      <th>2018-07-23 22:00:00</th>\n",
              "      <td>0.094493</td>\n",
              "      <td>0.271796</td>\n",
              "      <td>4646.0</td>\n",
              "      <td>7699.13</td>\n",
              "      <td>7759.99</td>\n",
              "      <td>7690.50</td>\n",
              "      <td>63.31</td>\n",
              "      <td>489000.25</td>\n",
              "      <td>7750.09</td>\n",
              "    </tr>\n",
              "    <tr>\n",
              "      <th>2018-07-23 23:00:00</th>\n",
              "      <td>0.074246</td>\n",
              "      <td>0.231640</td>\n",
              "      <td>4455.0</td>\n",
              "      <td>7754.57</td>\n",
              "      <td>7777.00</td>\n",
              "      <td>7715.45</td>\n",
              "      <td>280.46</td>\n",
              "      <td>2173424.81</td>\n",
              "      <td>7722.32</td>\n",
              "    </tr>\n",
              "    <tr>\n",
              "      <th>2018-07-24 00:00:00</th>\n",
              "      <td>0.080870</td>\n",
              "      <td>0.219367</td>\n",
              "      <td>3862.0</td>\n",
              "      <td>7722.95</td>\n",
              "      <td>7730.61</td>\n",
              "      <td>7690.17</td>\n",
              "      <td>496.48</td>\n",
              "      <td>3830571.66</td>\n",
              "      <td>7719.62</td>\n",
              "    </tr>\n",
              "    <tr>\n",
              "      <th>2018-07-24 01:00:00</th>\n",
              "      <td>0.090717</td>\n",
              "      <td>0.212626</td>\n",
              "      <td>4620.0</td>\n",
              "      <td>7712.46</td>\n",
              "      <td>7727.70</td>\n",
              "      <td>7691.14</td>\n",
              "      <td>163.99</td>\n",
              "      <td>1264085.79</td>\n",
              "      <td>7723.22</td>\n",
              "    </tr>\n",
              "  </tbody>\n",
              "</table>\n",
              "<p>294 rows × 9 columns</p>\n",
              "</div>"
            ],
            "text/plain": [
              "                     Polarity  Sensitivity  ...  Volume_Dollar  Close_Price\n",
              "2018-07-11 20:00:00  0.102657     0.216148  ...     6231532.37      6350.00\n",
              "2018-07-11 21:00:00  0.098004     0.218612  ...      804221.55      6356.48\n",
              "2018-07-11 22:00:00  0.096688     0.231342  ...     1646353.87      6361.93\n",
              "2018-07-11 23:00:00  0.103997     0.217739  ...      519278.69      6368.78\n",
              "2018-07-12 00:00:00  0.094383     0.195256  ...      793560.22      6380.00\n",
              "...                       ...          ...  ...            ...          ...\n",
              "2018-07-23 21:00:00  0.107282     0.235636  ...     1836633.86      7706.00\n",
              "2018-07-23 22:00:00  0.094493     0.271796  ...      489000.25      7750.09\n",
              "2018-07-23 23:00:00  0.074246     0.231640  ...     2173424.81      7722.32\n",
              "2018-07-24 00:00:00  0.080870     0.219367  ...     3830571.66      7719.62\n",
              "2018-07-24 01:00:00  0.090717     0.212626  ...     1264085.79      7723.22\n",
              "\n",
              "[294 rows x 9 columns]"
            ]
          },
          "metadata": {
            "tags": []
          },
          "execution_count": 115
        }
      ]
    },
    {
      "cell_type": "code",
      "metadata": {
        "id": "8QPL_pMc4RAb"
      },
      "source": [
        "#---------------Stage 1 Complete ------------------#\r\n",
        "#Final_df.to_csv('Desktop/Sentiment.csv')"
      ],
      "execution_count": 116,
      "outputs": []
    },
    {
      "cell_type": "markdown",
      "metadata": {
        "id": "GxEFs3X6J_bM"
      },
      "source": [
        "# Exploratory Analysis"
      ]
    },
    {
      "cell_type": "code",
      "metadata": {
        "colab": {
          "base_uri": "https://localhost:8080/",
          "height": 0
        },
        "id": "vohoeBc5J9Lv",
        "outputId": "323baeb3-6f85-4534-dfb0-97e1c15ed2e6"
      },
      "source": [
        "#--------------Analysis----------------------------#\r\n",
        "\r\n",
        "values = Final_df.values\r\n",
        "groups = [0,1,2,3,4,5,6,7]\r\n",
        "i =1  \r\n",
        "pyplot.figure()\r\n",
        "for group in groups:\r\n",
        "    pyplot.subplot(len(groups), 1,i)\r\n",
        "    pyplot.plot(values[:,group])\r\n",
        "    pyplot.title(Final_df.columns[group], y=.5, loc='right')\r\n",
        "    i += 1\r\n",
        "pyplot.show()"
      ],
      "execution_count": 117,
      "outputs": [
        {
          "output_type": "display_data",
          "data": {
            "image/png": "[encoded data removed]",
            "text/plain": [
              "<Figure size 432x288 with 8 Axes>"
            ]
          },
          "metadata": {
            "tags": [],
            "needs_background": "light"
          }
        }
      ]
    },
    {
      "cell_type": "code",
      "metadata": {
        "colab": {
          "base_uri": "https://localhost:8080/"
        },
        "id": "C-zD2QL8KE4d",
        "outputId": "80657df0-96ea-44e8-a863-0a8864f6e420"
      },
      "source": [
        "Final_df['Volume_BTC'].max()\r\n"
      ],
      "execution_count": 118,
      "outputs": [
        {
          "output_type": "execute_result",
          "data": {
            "text/plain": [
              "2640.49"
            ]
          },
          "metadata": {
            "tags": []
          },
          "execution_count": 118
        }
      ]
    },
    {
      "cell_type": "code",
      "metadata": {
        "colab": {
          "base_uri": "https://localhost:8080/"
        },
        "id": "FZC-LRDtKNyn",
        "outputId": "9bf939c0-d5d4-4fb9-cc39-25758da81da3"
      },
      "source": [
        "Final_df['Volume_Dollar'].max()"
      ],
      "execution_count": 119,
      "outputs": [
        {
          "output_type": "execute_result",
          "data": {
            "text/plain": [
              "19126407.89"
            ]
          },
          "metadata": {
            "tags": []
          },
          "execution_count": 119
        }
      ]
    },
    {
      "cell_type": "code",
      "metadata": {
        "colab": {
          "base_uri": "https://localhost:8080/"
        },
        "id": "HzMjP4NkKQuO",
        "outputId": "e38af3ef-9917-46b4-d994-cf429e681fea"
      },
      "source": [
        "Final_df['Volume_BTC'].sum()"
      ],
      "execution_count": 120,
      "outputs": [
        {
          "output_type": "execute_result",
          "data": {
            "text/plain": [
              "96945.04000000001"
            ]
          },
          "metadata": {
            "tags": []
          },
          "execution_count": 120
        }
      ]
    },
    {
      "cell_type": "code",
      "metadata": {
        "colab": {
          "base_uri": "https://localhost:8080/"
        },
        "id": "0CK5OJJOKTxO",
        "outputId": "1db431df-e7b9-4119-b6fc-beab13c26091"
      },
      "source": [
        "Final_df['Volume_Dollar'].sum()"
      ],
      "execution_count": 121,
      "outputs": [
        {
          "output_type": "execute_result",
          "data": {
            "text/plain": [
              "684457140.05"
            ]
          },
          "metadata": {
            "tags": []
          },
          "execution_count": 121
        }
      ]
    },
    {
      "cell_type": "code",
      "metadata": {
        "colab": {
          "base_uri": "https://localhost:8080/"
        },
        "id": "HCa39bKtKWcV",
        "outputId": "dd5c9b66-7f1e-467f-d61f-f95b1cf1d0ac"
      },
      "source": [
        "Final_df['Tweet_vol'].max()"
      ],
      "execution_count": 122,
      "outputs": [
        {
          "output_type": "execute_result",
          "data": {
            "text/plain": [
              "10452.0"
            ]
          },
          "metadata": {
            "tags": []
          },
          "execution_count": 122
        }
      ]
    },
    {
      "cell_type": "code",
      "metadata": {
        "colab": {
          "base_uri": "https://localhost:8080/",
          "height": 0
        },
        "id": "ayGfzYxZKZKD",
        "outputId": "722aba25-3cdc-42a9-9752-5f36b70c802a"
      },
      "source": [
        "Final_df.describe()"
      ],
      "execution_count": 123,
      "outputs": [
        {
          "output_type": "execute_result",
          "data": {
            "text/html": [
              "<div>\n",
              "<style scoped>\n",
              "    .dataframe tbody tr th:only-of-type {\n",
              "        vertical-align: middle;\n",
              "    }\n",
              "\n",
              "    .dataframe tbody tr th {\n",
              "        vertical-align: top;\n",
              "    }\n",
              "\n",
              "    .dataframe thead th {\n",
              "        text-align: right;\n",
              "    }\n",
              "</style>\n",
              "<table border=\"1\" class=\"dataframe\">\n",
              "  <thead>\n",
              "    <tr style=\"text-align: right;\">\n",
              "      <th></th>\n",
              "      <th>Polarity</th>\n",
              "      <th>Sensitivity</th>\n",
              "      <th>Tweet_vol</th>\n",
              "      <th>Open</th>\n",
              "      <th>High</th>\n",
              "      <th>Low</th>\n",
              "      <th>Volume_BTC</th>\n",
              "      <th>Volume_Dollar</th>\n",
              "      <th>Close_Price</th>\n",
              "    </tr>\n",
              "  </thead>\n",
              "  <tbody>\n",
              "    <tr>\n",
              "      <th>count</th>\n",
              "      <td>294.000000</td>\n",
              "      <td>294.000000</td>\n",
              "      <td>294.000000</td>\n",
              "      <td>294.000000</td>\n",
              "      <td>294.000000</td>\n",
              "      <td>294.000000</td>\n",
              "      <td>294.000000</td>\n",
              "      <td>2.940000e+02</td>\n",
              "      <td>294.000000</td>\n",
              "    </tr>\n",
              "    <tr>\n",
              "      <th>mean</th>\n",
              "      <td>0.099534</td>\n",
              "      <td>0.214141</td>\n",
              "      <td>4691.119048</td>\n",
              "      <td>6915.349388</td>\n",
              "      <td>6946.782925</td>\n",
              "      <td>6889.661054</td>\n",
              "      <td>329.745034</td>\n",
              "      <td>2.328086e+06</td>\n",
              "      <td>6920.150000</td>\n",
              "    </tr>\n",
              "    <tr>\n",
              "      <th>std</th>\n",
              "      <td>0.012114</td>\n",
              "      <td>0.014940</td>\n",
              "      <td>1048.922706</td>\n",
              "      <td>564.467674</td>\n",
              "      <td>573.078843</td>\n",
              "      <td>559.037540</td>\n",
              "      <td>344.527625</td>\n",
              "      <td>2.508128e+06</td>\n",
              "      <td>565.424866</td>\n",
              "    </tr>\n",
              "    <tr>\n",
              "      <th>min</th>\n",
              "      <td>0.051695</td>\n",
              "      <td>0.174330</td>\n",
              "      <td>2998.000000</td>\n",
              "      <td>6149.110000</td>\n",
              "      <td>6173.610000</td>\n",
              "      <td>6072.000000</td>\n",
              "      <td>22.000000</td>\n",
              "      <td>1.379601e+05</td>\n",
              "      <td>6149.110000</td>\n",
              "    </tr>\n",
              "    <tr>\n",
              "      <th>25%</th>\n",
              "      <td>0.091489</td>\n",
              "      <td>0.203450</td>\n",
              "      <td>3878.750000</td>\n",
              "      <td>6285.077500</td>\n",
              "      <td>6334.942500</td>\n",
              "      <td>6266.522500</td>\n",
              "      <td>129.230000</td>\n",
              "      <td>8.412214e+05</td>\n",
              "      <td>6283.497500</td>\n",
              "    </tr>\n",
              "    <tr>\n",
              "      <th>50%</th>\n",
              "      <td>0.099198</td>\n",
              "      <td>0.214756</td>\n",
              "      <td>4452.000000</td>\n",
              "      <td>7276.845000</td>\n",
              "      <td>7311.380000</td>\n",
              "      <td>7245.580000</td>\n",
              "      <td>223.870000</td>\n",
              "      <td>1.607008e+06</td>\n",
              "      <td>7281.975000</td>\n",
              "    </tr>\n",
              "    <tr>\n",
              "      <th>75%</th>\n",
              "      <td>0.106649</td>\n",
              "      <td>0.223910</td>\n",
              "      <td>5429.750000</td>\n",
              "      <td>7422.957500</td>\n",
              "      <td>7457.202500</td>\n",
              "      <td>7396.427500</td>\n",
              "      <td>385.135000</td>\n",
              "      <td>2.662185e+06</td>\n",
              "      <td>7424.560000</td>\n",
              "    </tr>\n",
              "    <tr>\n",
              "      <th>max</th>\n",
              "      <td>0.135088</td>\n",
              "      <td>0.271796</td>\n",
              "      <td>10452.000000</td>\n",
              "      <td>7754.570000</td>\n",
              "      <td>7800.000000</td>\n",
              "      <td>7724.500000</td>\n",
              "      <td>2640.490000</td>\n",
              "      <td>1.912641e+07</td>\n",
              "      <td>7750.090000</td>\n",
              "    </tr>\n",
              "  </tbody>\n",
              "</table>\n",
              "</div>"
            ],
            "text/plain": [
              "         Polarity  Sensitivity  ...  Volume_Dollar  Close_Price\n",
              "count  294.000000   294.000000  ...   2.940000e+02   294.000000\n",
              "mean     0.099534     0.214141  ...   2.328086e+06  6920.150000\n",
              "std      0.012114     0.014940  ...   2.508128e+06   565.424866\n",
              "min      0.051695     0.174330  ...   1.379601e+05  6149.110000\n",
              "25%      0.091489     0.203450  ...   8.412214e+05  6283.497500\n",
              "50%      0.099198     0.214756  ...   1.607008e+06  7281.975000\n",
              "75%      0.106649     0.223910  ...   2.662185e+06  7424.560000\n",
              "max      0.135088     0.271796  ...   1.912641e+07  7750.090000\n",
              "\n",
              "[8 rows x 9 columns]"
            ]
          },
          "metadata": {
            "tags": []
          },
          "execution_count": 123
        }
      ]
    },
    {
      "cell_type": "code",
      "metadata": {
        "colab": {
          "base_uri": "https://localhost:8080/",
          "height": 0
        },
        "id": "zu6JNHWQKdU6",
        "outputId": "580080d6-c6e2-49a1-8e4f-4badcc7ab7ff"
      },
      "source": [
        "cor = Final_df.corr()\r\n",
        "cor"
      ],
      "execution_count": 124,
      "outputs": [
        {
          "output_type": "execute_result",
          "data": {
            "text/html": [
              "<div>\n",
              "<style scoped>\n",
              "    .dataframe tbody tr th:only-of-type {\n",
              "        vertical-align: middle;\n",
              "    }\n",
              "\n",
              "    .dataframe tbody tr th {\n",
              "        vertical-align: top;\n",
              "    }\n",
              "\n",
              "    .dataframe thead th {\n",
              "        text-align: right;\n",
              "    }\n",
              "</style>\n",
              "<table border=\"1\" class=\"dataframe\">\n",
              "  <thead>\n",
              "    <tr style=\"text-align: right;\">\n",
              "      <th></th>\n",
              "      <th>Polarity</th>\n",
              "      <th>Sensitivity</th>\n",
              "      <th>Tweet_vol</th>\n",
              "      <th>Open</th>\n",
              "      <th>High</th>\n",
              "      <th>Low</th>\n",
              "      <th>Volume_BTC</th>\n",
              "      <th>Volume_Dollar</th>\n",
              "      <th>Close_Price</th>\n",
              "    </tr>\n",
              "  </thead>\n",
              "  <tbody>\n",
              "    <tr>\n",
              "      <th>Polarity</th>\n",
              "      <td>1.000000</td>\n",
              "      <td>0.380350</td>\n",
              "      <td>-0.167573</td>\n",
              "      <td>0.179056</td>\n",
              "      <td>0.176277</td>\n",
              "      <td>0.180088</td>\n",
              "      <td>-0.062868</td>\n",
              "      <td>-0.052646</td>\n",
              "      <td>0.178456</td>\n",
              "    </tr>\n",
              "    <tr>\n",
              "      <th>Sensitivity</th>\n",
              "      <td>0.380350</td>\n",
              "      <td>1.000000</td>\n",
              "      <td>0.053903</td>\n",
              "      <td>0.194763</td>\n",
              "      <td>0.200611</td>\n",
              "      <td>0.190222</td>\n",
              "      <td>0.097124</td>\n",
              "      <td>0.112425</td>\n",
              "      <td>0.193203</td>\n",
              "    </tr>\n",
              "    <tr>\n",
              "      <th>Tweet_vol</th>\n",
              "      <td>-0.167573</td>\n",
              "      <td>0.053903</td>\n",
              "      <td>1.000000</td>\n",
              "      <td>0.237185</td>\n",
              "      <td>0.262207</td>\n",
              "      <td>0.234330</td>\n",
              "      <td>0.541112</td>\n",
              "      <td>0.545850</td>\n",
              "      <td>0.250448</td>\n",
              "    </tr>\n",
              "    <tr>\n",
              "      <th>Open</th>\n",
              "      <td>0.179056</td>\n",
              "      <td>0.194763</td>\n",
              "      <td>0.237185</td>\n",
              "      <td>1.000000</td>\n",
              "      <td>0.997128</td>\n",
              "      <td>0.998799</td>\n",
              "      <td>0.217478</td>\n",
              "      <td>0.277600</td>\n",
              "      <td>0.997217</td>\n",
              "    </tr>\n",
              "    <tr>\n",
              "      <th>High</th>\n",
              "      <td>0.176277</td>\n",
              "      <td>0.200611</td>\n",
              "      <td>0.262207</td>\n",
              "      <td>0.997128</td>\n",
              "      <td>1.000000</td>\n",
              "      <td>0.996650</td>\n",
              "      <td>0.270551</td>\n",
              "      <td>0.329816</td>\n",
              "      <td>0.998816</td>\n",
              "    </tr>\n",
              "    <tr>\n",
              "      <th>Low</th>\n",
              "      <td>0.180088</td>\n",
              "      <td>0.190222</td>\n",
              "      <td>0.234330</td>\n",
              "      <td>0.998799</td>\n",
              "      <td>0.996650</td>\n",
              "      <td>1.000000</td>\n",
              "      <td>0.202895</td>\n",
              "      <td>0.263863</td>\n",
              "      <td>0.998058</td>\n",
              "    </tr>\n",
              "    <tr>\n",
              "      <th>Volume_BTC</th>\n",
              "      <td>-0.062868</td>\n",
              "      <td>0.097124</td>\n",
              "      <td>0.541112</td>\n",
              "      <td>0.217478</td>\n",
              "      <td>0.270551</td>\n",
              "      <td>0.202895</td>\n",
              "      <td>1.000000</td>\n",
              "      <td>0.995873</td>\n",
              "      <td>0.243875</td>\n",
              "    </tr>\n",
              "    <tr>\n",
              "      <th>Volume_Dollar</th>\n",
              "      <td>-0.052646</td>\n",
              "      <td>0.112425</td>\n",
              "      <td>0.545850</td>\n",
              "      <td>0.277600</td>\n",
              "      <td>0.329816</td>\n",
              "      <td>0.263863</td>\n",
              "      <td>0.995873</td>\n",
              "      <td>1.000000</td>\n",
              "      <td>0.303347</td>\n",
              "    </tr>\n",
              "    <tr>\n",
              "      <th>Close_Price</th>\n",
              "      <td>0.178456</td>\n",
              "      <td>0.193203</td>\n",
              "      <td>0.250448</td>\n",
              "      <td>0.997217</td>\n",
              "      <td>0.998816</td>\n",
              "      <td>0.998058</td>\n",
              "      <td>0.243875</td>\n",
              "      <td>0.303347</td>\n",
              "      <td>1.000000</td>\n",
              "    </tr>\n",
              "  </tbody>\n",
              "</table>\n",
              "</div>"
            ],
            "text/plain": [
              "               Polarity  Sensitivity  ...  Volume_Dollar  Close_Price\n",
              "Polarity       1.000000     0.380350  ...      -0.052646     0.178456\n",
              "Sensitivity    0.380350     1.000000  ...       0.112425     0.193203\n",
              "Tweet_vol     -0.167573     0.053903  ...       0.545850     0.250448\n",
              "Open           0.179056     0.194763  ...       0.277600     0.997217\n",
              "High           0.176277     0.200611  ...       0.329816     0.998816\n",
              "Low            0.180088     0.190222  ...       0.263863     0.998058\n",
              "Volume_BTC    -0.062868     0.097124  ...       0.995873     0.243875\n",
              "Volume_Dollar -0.052646     0.112425  ...       1.000000     0.303347\n",
              "Close_Price    0.178456     0.193203  ...       0.303347     1.000000\n",
              "\n",
              "[9 rows x 9 columns]"
            ]
          },
          "metadata": {
            "tags": []
          },
          "execution_count": 124
        }
      ]
    },
    {
      "cell_type": "code",
      "metadata": {
        "colab": {
          "base_uri": "https://localhost:8080/"
        },
        "id": "XeMw3NlzKgza",
        "outputId": "353ac270-2d07-43fa-cedb-5eb828b8f1d3"
      },
      "source": [
        "Top_Vol =Final_df['Volume_BTC'].nlargest(10)\r\n",
        "Top_Vol"
      ],
      "execution_count": 125,
      "outputs": [
        {
          "output_type": "execute_result",
          "data": {
            "text/plain": [
              "2018-07-17 18:00:00    2640.49\n",
              "2018-07-17 19:00:00    2600.32\n",
              "2018-07-23 03:00:00    1669.28\n",
              "2018-07-18 04:00:00    1576.15\n",
              "2018-07-20 17:00:00    1510.00\n",
              "2018-07-18 19:00:00    1490.02\n",
              "2018-07-23 19:00:00    1396.32\n",
              "2018-07-12 07:00:00    1211.64\n",
              "2018-07-16 10:00:00    1147.69\n",
              "2018-07-23 08:00:00    1135.38\n",
              "Name: Volume_BTC, dtype: float64"
            ]
          },
          "metadata": {
            "tags": []
          },
          "execution_count": 125
        }
      ]
    },
    {
      "cell_type": "code",
      "metadata": {
        "colab": {
          "base_uri": "https://localhost:8080/"
        },
        "id": "X1yaYd5BKkVv",
        "outputId": "60d7cd4d-c5f3-4335-d7ef-3569f7bb46fd"
      },
      "source": [
        "Top_Sen =Final_df['Sensitivity'].nlargest(10)\r\n",
        "Top_Sen"
      ],
      "execution_count": 126,
      "outputs": [
        {
          "output_type": "execute_result",
          "data": {
            "text/plain": [
              "2018-07-23 22:00:00    0.271796\n",
              "2018-07-19 20:00:00    0.262048\n",
              "2018-07-21 19:00:00    0.256952\n",
              "2018-07-20 22:00:00    0.246046\n",
              "2018-07-22 06:00:00    0.245820\n",
              "2018-07-19 19:00:00    0.244655\n",
              "2018-07-19 21:00:00    0.244215\n",
              "2018-07-18 20:00:00    0.243534\n",
              "2018-07-18 21:00:00    0.243422\n",
              "2018-07-18 18:00:00    0.241287\n",
              "Name: Sensitivity, dtype: float64"
            ]
          },
          "metadata": {
            "tags": []
          },
          "execution_count": 126
        }
      ]
    },
    {
      "cell_type": "code",
      "metadata": {
        "colab": {
          "base_uri": "https://localhost:8080/"
        },
        "id": "gnDtpY-aKpjI",
        "outputId": "1bada104-f905-497b-8d65-3be790127e11"
      },
      "source": [
        "Top_Pol =Final_df['Polarity'].nlargest(10)\r\n",
        "Top_Pol"
      ],
      "execution_count": 127,
      "outputs": [
        {
          "output_type": "execute_result",
          "data": {
            "text/plain": [
              "2018-07-22 05:00:00    0.135088\n",
              "2018-07-16 03:00:00    0.130634\n",
              "2018-07-19 20:00:00    0.127696\n",
              "2018-07-15 10:00:00    0.127469\n",
              "2018-07-22 06:00:00    0.126299\n",
              "2018-07-15 06:00:00    0.124505\n",
              "2018-07-16 05:00:00    0.124210\n",
              "2018-07-22 09:00:00    0.122784\n",
              "2018-07-15 13:00:00    0.122411\n",
              "2018-07-22 12:00:00    0.122021\n",
              "Name: Polarity, dtype: float64"
            ]
          },
          "metadata": {
            "tags": []
          },
          "execution_count": 127
        }
      ]
    },
    {
      "cell_type": "code",
      "metadata": {
        "colab": {
          "base_uri": "https://localhost:8080/"
        },
        "id": "7CCz7EXOKwxR",
        "outputId": "49a9edcb-a558-4daa-9e88-4de4fc1dc42f"
      },
      "source": [
        "Top_Tweet =Final_df['Tweet_vol'].nlargest(10)\r\n",
        "Top_Tweet"
      ],
      "execution_count": 128,
      "outputs": [
        {
          "output_type": "execute_result",
          "data": {
            "text/plain": [
              "2018-07-17 19:00:00    10452.0\n",
              "2018-07-17 18:00:00     7995.0\n",
              "2018-07-17 20:00:00     7354.0\n",
              "2018-07-16 14:00:00     7280.0\n",
              "2018-07-18 15:00:00     7222.0\n",
              "2018-07-18 14:00:00     7209.0\n",
              "2018-07-18 13:00:00     7171.0\n",
              "2018-07-16 13:00:00     7133.0\n",
              "2018-07-19 16:00:00     6886.0\n",
              "2018-07-18 12:00:00     6844.0\n",
              "Name: Tweet_vol, dtype: float64"
            ]
          },
          "metadata": {
            "tags": []
          },
          "execution_count": 128
        }
      ]
    },
    {
      "cell_type": "code",
      "metadata": {
        "colab": {
          "base_uri": "https://localhost:8080/",
          "height": 0
        },
        "id": "IEBXkYhIK2Lu",
        "outputId": "1dc75f99-0a70-4b2b-9840-150f2ddfa072"
      },
      "source": [
        "import matplotlib.pyplot as plt\r\n",
        "sns.set(style=\"white\")\r\n",
        "f, ax = plt.subplots(figsize=(11, 9))\r\n",
        "\r\n",
        "cmap = sns.diverging_palette(220, 10, as_cmap=True)\r\n",
        "ax =sns.heatmap(cor, cmap=cmap, vmax=1, center=0,\r\n",
        "            square=True, linewidths=.5, cbar_kws={\"shrink\": .7})\r\n",
        "plt.show()"
      ],
      "execution_count": 129,
      "outputs": [
        {
          "output_type": "display_data",
          "data": {
            "image/png": "[encoded data removed]",
            "text/plain": [
              "<Figure size 792x648 with 2 Axes>"
            ]
          },
          "metadata": {
            "tags": []
          }
        }
      ]
    },
    {
      "cell_type": "code",
      "metadata": {
        "colab": {
          "base_uri": "https://localhost:8080/",
          "height": 0
        },
        "id": "MzwXoW2XK9Th",
        "outputId": "0e27359a-d1dd-4411-8034-880a0ce2b9a3"
      },
      "source": [
        "plt.plot(Final_df.index, Final_df['Open'], 'yellow')\r\n",
        "plt.plot(Final_df.index, Final_df['Low'], 'red')\r\n",
        "plt.plot(Final_df.index, Final_df['High'], 'green')\r\n",
        "plt.title('BTC Close Price(hr)')\r\n",
        "plt.xticks(rotation='vertical')\r\n",
        "plt.ylabel('Price ($)');\r\n",
        "plt.show();\r\n",
        "\r\n",
        "plt.plot(Final_df.index, Final_df['Volume_BTC'], 'g')\r\n",
        "plt.title('Trading Vol BTC(hr)')\r\n",
        "plt.xticks(rotation='vertical')\r\n",
        "plt.ylabel('Vol BTC');\r\n",
        "plt.show();\r\n",
        "\r\n",
        "plt.plot(Final_df.index, Final_df['Polarity'], 'b')\r\n",
        "plt.xticks(rotation='vertical')\r\n",
        "plt.title('Twitter Sentiment(hr)')\r\n",
        "plt.ylabel('Pol (0-1)');\r\n",
        "plt.show();\r\n",
        "plt.legend()\r\n",
        "\r\n",
        "plt.plot(Final_df.index, Final_df['Tweet_vol'], 'b')\r\n",
        "plt.xticks(rotation='vertical')\r\n",
        "plt.title('Tweet Vol(hr)')\r\n",
        "plt.ylabel('No. of Tweets');\r\n",
        "plt.show();\r\n",
        "plt.legend()\r\n"
      ],
      "execution_count": 130,
      "outputs": [
        {
          "output_type": "display_data",
          "data": {
            "image/png": "[encoded data removed]",
            "text/plain": [
              "<Figure size 432x288 with 1 Axes>"
            ]
          },
          "metadata": {
            "tags": []
          }
        },
        {
          "output_type": "display_data",
          "data": {
            "image/png": "[encoded data removed]",
            "text/plain": [
              "<Figure size 432x288 with 1 Axes>"
            ]
          },
          "metadata": {
            "tags": []
          }
        },
        {
          "output_type": "display_data",
          "data": {
            "image/png": "[encoded data removed]",
            "text/plain": [
              "<Figure size 432x288 with 1 Axes>"
            ]
          },
          "metadata": {
            "tags": []
          }
        },
        {
          "output_type": "stream",
          "text": [
            "No handles with labels found to put in legend.\n"
          ],
          "name": "stderr"
        },
        {
          "output_type": "display_data",
          "data": {
            "image/png": "[encoded data removed]",
            "text/plain": [
              "<Figure size 432x288 with 1 Axes>"
            ]
          },
          "metadata": {
            "tags": []
          }
        },
        {
          "output_type": "stream",
          "text": [
            "No handles with labels found to put in legend.\n"
          ],
          "name": "stderr"
        },
        {
          "output_type": "execute_result",
          "data": {
            "text/plain": [
              "<matplotlib.legend.Legend at 0x7f30ea8d3350>"
            ]
          },
          "metadata": {
            "tags": []
          },
          "execution_count": 130
        },
        {
          "output_type": "display_data",
          "data": {
            "image/png": "[encoded data removed]",
            "text/plain": [
              "<Figure size 432x288 with 1 Axes>"
            ]
          },
          "metadata": {
            "tags": []
          }
        }
      ]
    },
    {
      "cell_type": "code",
      "metadata": {
        "id": "ARp8NHkvLEM7"
      },
      "source": [
        "#sns Heatmap for Hour x volume \r\n",
        "#Final_df['time']=Final_df.index.time()\r\n",
        "Final_df['time']=Final_df.index.to_series().apply(lambda x: x.strftime(\"%X\"))"
      ],
      "execution_count": 131,
      "outputs": []
    },
    {
      "cell_type": "code",
      "metadata": {
        "colab": {
          "base_uri": "https://localhost:8080/",
          "height": 0
        },
        "id": "GPp0o8q8LKif",
        "outputId": "b09dc751-f135-4e9d-c0f1-e9c2371e772c"
      },
      "source": [
        "Final_df.head()"
      ],
      "execution_count": 132,
      "outputs": [
        {
          "output_type": "execute_result",
          "data": {
            "text/html": [
              "<div>\n",
              "<style scoped>\n",
              "    .dataframe tbody tr th:only-of-type {\n",
              "        vertical-align: middle;\n",
              "    }\n",
              "\n",
              "    .dataframe tbody tr th {\n",
              "        vertical-align: top;\n",
              "    }\n",
              "\n",
              "    .dataframe thead th {\n",
              "        text-align: right;\n",
              "    }\n",
              "</style>\n",
              "<table border=\"1\" class=\"dataframe\">\n",
              "  <thead>\n",
              "    <tr style=\"text-align: right;\">\n",
              "      <th></th>\n",
              "      <th>Polarity</th>\n",
              "      <th>Sensitivity</th>\n",
              "      <th>Tweet_vol</th>\n",
              "      <th>Open</th>\n",
              "      <th>High</th>\n",
              "      <th>Low</th>\n",
              "      <th>Volume_BTC</th>\n",
              "      <th>Volume_Dollar</th>\n",
              "      <th>Close_Price</th>\n",
              "      <th>time</th>\n",
              "    </tr>\n",
              "  </thead>\n",
              "  <tbody>\n",
              "    <tr>\n",
              "      <th>2018-07-11 20:00:00</th>\n",
              "      <td>0.102657</td>\n",
              "      <td>0.216148</td>\n",
              "      <td>4354.0</td>\n",
              "      <td>6342.97</td>\n",
              "      <td>6354.19</td>\n",
              "      <td>6291.00</td>\n",
              "      <td>986.73</td>\n",
              "      <td>6231532.37</td>\n",
              "      <td>6350.00</td>\n",
              "      <td>20:00:00</td>\n",
              "    </tr>\n",
              "    <tr>\n",
              "      <th>2018-07-11 21:00:00</th>\n",
              "      <td>0.098004</td>\n",
              "      <td>0.218612</td>\n",
              "      <td>4432.0</td>\n",
              "      <td>6352.99</td>\n",
              "      <td>6370.00</td>\n",
              "      <td>6345.76</td>\n",
              "      <td>126.46</td>\n",
              "      <td>804221.55</td>\n",
              "      <td>6356.48</td>\n",
              "      <td>21:00:00</td>\n",
              "    </tr>\n",
              "    <tr>\n",
              "      <th>2018-07-11 22:00:00</th>\n",
              "      <td>0.096688</td>\n",
              "      <td>0.231342</td>\n",
              "      <td>3980.0</td>\n",
              "      <td>6350.85</td>\n",
              "      <td>6378.47</td>\n",
              "      <td>6345.00</td>\n",
              "      <td>259.10</td>\n",
              "      <td>1646353.87</td>\n",
              "      <td>6361.93</td>\n",
              "      <td>22:00:00</td>\n",
              "    </tr>\n",
              "    <tr>\n",
              "      <th>2018-07-11 23:00:00</th>\n",
              "      <td>0.103997</td>\n",
              "      <td>0.217739</td>\n",
              "      <td>3830.0</td>\n",
              "      <td>6362.36</td>\n",
              "      <td>6381.25</td>\n",
              "      <td>6356.74</td>\n",
              "      <td>81.54</td>\n",
              "      <td>519278.69</td>\n",
              "      <td>6368.78</td>\n",
              "      <td>23:00:00</td>\n",
              "    </tr>\n",
              "    <tr>\n",
              "      <th>2018-07-12 00:00:00</th>\n",
              "      <td>0.094383</td>\n",
              "      <td>0.195256</td>\n",
              "      <td>3998.0</td>\n",
              "      <td>6369.49</td>\n",
              "      <td>6381.25</td>\n",
              "      <td>6361.83</td>\n",
              "      <td>124.55</td>\n",
              "      <td>793560.22</td>\n",
              "      <td>6380.00</td>\n",
              "      <td>00:00:00</td>\n",
              "    </tr>\n",
              "  </tbody>\n",
              "</table>\n",
              "</div>"
            ],
            "text/plain": [
              "                     Polarity  Sensitivity  ...  Close_Price      time\n",
              "2018-07-11 20:00:00  0.102657     0.216148  ...      6350.00  20:00:00\n",
              "2018-07-11 21:00:00  0.098004     0.218612  ...      6356.48  21:00:00\n",
              "2018-07-11 22:00:00  0.096688     0.231342  ...      6361.93  22:00:00\n",
              "2018-07-11 23:00:00  0.103997     0.217739  ...      6368.78  23:00:00\n",
              "2018-07-12 00:00:00  0.094383     0.195256  ...      6380.00  00:00:00\n",
              "\n",
              "[5 rows x 10 columns]"
            ]
          },
          "metadata": {
            "tags": []
          },
          "execution_count": 132
        }
      ]
    },
    {
      "cell_type": "code",
      "metadata": {
        "id": "8tyjAN3rLOE3"
      },
      "source": [
        "hour_df=Final_df"
      ],
      "execution_count": 133,
      "outputs": []
    },
    {
      "cell_type": "code",
      "metadata": {
        "colab": {
          "base_uri": "https://localhost:8080/",
          "height": 0
        },
        "id": "unOZKG9yLQp2",
        "outputId": "8f0e9f7f-2843-4542-cb9e-fb8e16ef2d2c"
      },
      "source": [
        "hour_df=hour_df.groupby('time').agg(lambda x: x.mean())\r\n",
        "hour_df"
      ],
      "execution_count": 134,
      "outputs": [
        {
          "output_type": "execute_result",
          "data": {
            "text/html": [
              "<div>\n",
              "<style scoped>\n",
              "    .dataframe tbody tr th:only-of-type {\n",
              "        vertical-align: middle;\n",
              "    }\n",
              "\n",
              "    .dataframe tbody tr th {\n",
              "        vertical-align: top;\n",
              "    }\n",
              "\n",
              "    .dataframe thead th {\n",
              "        text-align: right;\n",
              "    }\n",
              "</style>\n",
              "<table border=\"1\" class=\"dataframe\">\n",
              "  <thead>\n",
              "    <tr style=\"text-align: right;\">\n",
              "      <th></th>\n",
              "      <th>Polarity</th>\n",
              "      <th>Sensitivity</th>\n",
              "      <th>Tweet_vol</th>\n",
              "      <th>Open</th>\n",
              "      <th>High</th>\n",
              "      <th>Low</th>\n",
              "      <th>Volume_BTC</th>\n",
              "      <th>Volume_Dollar</th>\n",
              "      <th>Close_Price</th>\n",
              "    </tr>\n",
              "    <tr>\n",
              "      <th>time</th>\n",
              "      <th></th>\n",
              "      <th></th>\n",
              "      <th></th>\n",
              "      <th></th>\n",
              "      <th></th>\n",
              "      <th></th>\n",
              "      <th></th>\n",
              "      <th></th>\n",
              "      <th></th>\n",
              "    </tr>\n",
              "  </thead>\n",
              "  <tbody>\n",
              "    <tr>\n",
              "      <th>00:00:00</th>\n",
              "      <td>0.090298</td>\n",
              "      <td>0.211771</td>\n",
              "      <td>3976.384615</td>\n",
              "      <td>6930.237692</td>\n",
              "      <td>6958.360769</td>\n",
              "      <td>6900.588462</td>\n",
              "      <td>322.836154</td>\n",
              "      <td>2.228120e+06</td>\n",
              "      <td>6935.983077</td>\n",
              "    </tr>\n",
              "    <tr>\n",
              "      <th>01:00:00</th>\n",
              "      <td>0.099596</td>\n",
              "      <td>0.211714</td>\n",
              "      <td>4016.615385</td>\n",
              "      <td>6935.140769</td>\n",
              "      <td>6963.533846</td>\n",
              "      <td>6894.772308</td>\n",
              "      <td>318.415385</td>\n",
              "      <td>2.243338e+06</td>\n",
              "      <td>6933.794615</td>\n",
              "    </tr>\n",
              "    <tr>\n",
              "      <th>02:00:00</th>\n",
              "      <td>0.102724</td>\n",
              "      <td>0.204445</td>\n",
              "      <td>3824.083333</td>\n",
              "      <td>6868.211667</td>\n",
              "      <td>6889.440000</td>\n",
              "      <td>6842.588333</td>\n",
              "      <td>158.836667</td>\n",
              "      <td>1.105651e+06</td>\n",
              "      <td>6870.695833</td>\n",
              "    </tr>\n",
              "    <tr>\n",
              "      <th>03:00:00</th>\n",
              "      <td>0.105586</td>\n",
              "      <td>0.214824</td>\n",
              "      <td>3791.666667</td>\n",
              "      <td>6870.573333</td>\n",
              "      <td>6909.675833</td>\n",
              "      <td>6855.316667</td>\n",
              "      <td>328.811667</td>\n",
              "      <td>2.385733e+06</td>\n",
              "      <td>6888.139167</td>\n",
              "    </tr>\n",
              "    <tr>\n",
              "      <th>04:00:00</th>\n",
              "      <td>0.103095</td>\n",
              "      <td>0.208516</td>\n",
              "      <td>3822.916667</td>\n",
              "      <td>6887.420000</td>\n",
              "      <td>6911.649167</td>\n",
              "      <td>6872.603333</td>\n",
              "      <td>271.692500</td>\n",
              "      <td>1.949230e+06</td>\n",
              "      <td>6890.985000</td>\n",
              "    </tr>\n",
              "    <tr>\n",
              "      <th>05:00:00</th>\n",
              "      <td>0.108032</td>\n",
              "      <td>0.215058</td>\n",
              "      <td>3904.166667</td>\n",
              "      <td>6891.468333</td>\n",
              "      <td>6911.175833</td>\n",
              "      <td>6869.017500</td>\n",
              "      <td>213.315000</td>\n",
              "      <td>1.524601e+06</td>\n",
              "      <td>6890.451667</td>\n",
              "    </tr>\n",
              "    <tr>\n",
              "      <th>06:00:00</th>\n",
              "      <td>0.104412</td>\n",
              "      <td>0.210424</td>\n",
              "      <td>3760.250000</td>\n",
              "      <td>6889.327500</td>\n",
              "      <td>6907.070833</td>\n",
              "      <td>6868.484167</td>\n",
              "      <td>183.329167</td>\n",
              "      <td>1.281427e+06</td>\n",
              "      <td>6891.371667</td>\n",
              "    </tr>\n",
              "    <tr>\n",
              "      <th>07:00:00</th>\n",
              "      <td>0.100942</td>\n",
              "      <td>0.209435</td>\n",
              "      <td>4056.000000</td>\n",
              "      <td>6891.645833</td>\n",
              "      <td>6908.654167</td>\n",
              "      <td>6858.290833</td>\n",
              "      <td>329.882500</td>\n",
              "      <td>2.263694e+06</td>\n",
              "      <td>6878.757500</td>\n",
              "    </tr>\n",
              "    <tr>\n",
              "      <th>08:00:00</th>\n",
              "      <td>0.099380</td>\n",
              "      <td>0.210113</td>\n",
              "      <td>5095.583333</td>\n",
              "      <td>6878.635833</td>\n",
              "      <td>6903.660833</td>\n",
              "      <td>6851.435833</td>\n",
              "      <td>368.109167</td>\n",
              "      <td>2.616314e+06</td>\n",
              "      <td>6885.867500</td>\n",
              "    </tr>\n",
              "    <tr>\n",
              "      <th>09:00:00</th>\n",
              "      <td>0.099369</td>\n",
              "      <td>0.204565</td>\n",
              "      <td>4650.083333</td>\n",
              "      <td>6886.526667</td>\n",
              "      <td>6915.735000</td>\n",
              "      <td>6852.922500</td>\n",
              "      <td>397.702500</td>\n",
              "      <td>2.740251e+06</td>\n",
              "      <td>6888.328333</td>\n",
              "    </tr>\n",
              "    <tr>\n",
              "      <th>10:00:00</th>\n",
              "      <td>0.099587</td>\n",
              "      <td>0.203848</td>\n",
              "      <td>4932.833333</td>\n",
              "      <td>6888.095000</td>\n",
              "      <td>6921.905000</td>\n",
              "      <td>6870.502500</td>\n",
              "      <td>318.982500</td>\n",
              "      <td>2.194532e+06</td>\n",
              "      <td>6905.600833</td>\n",
              "    </tr>\n",
              "    <tr>\n",
              "      <th>11:00:00</th>\n",
              "      <td>0.097061</td>\n",
              "      <td>0.203488</td>\n",
              "      <td>4996.333333</td>\n",
              "      <td>6904.373333</td>\n",
              "      <td>6928.490000</td>\n",
              "      <td>6885.326667</td>\n",
              "      <td>256.131667</td>\n",
              "      <td>1.766995e+06</td>\n",
              "      <td>6907.590000</td>\n",
              "    </tr>\n",
              "    <tr>\n",
              "      <th>12:00:00</th>\n",
              "      <td>0.099139</td>\n",
              "      <td>0.207495</td>\n",
              "      <td>5446.583333</td>\n",
              "      <td>6908.016667</td>\n",
              "      <td>6942.194167</td>\n",
              "      <td>6890.370000</td>\n",
              "      <td>314.837500</td>\n",
              "      <td>2.200126e+06</td>\n",
              "      <td>6922.389167</td>\n",
              "    </tr>\n",
              "    <tr>\n",
              "      <th>13:00:00</th>\n",
              "      <td>0.097565</td>\n",
              "      <td>0.208969</td>\n",
              "      <td>5565.083333</td>\n",
              "      <td>6922.530000</td>\n",
              "      <td>6948.463333</td>\n",
              "      <td>6902.968333</td>\n",
              "      <td>260.825000</td>\n",
              "      <td>1.808326e+06</td>\n",
              "      <td>6925.079167</td>\n",
              "    </tr>\n",
              "    <tr>\n",
              "      <th>14:00:00</th>\n",
              "      <td>0.098485</td>\n",
              "      <td>0.212563</td>\n",
              "      <td>5736.583333</td>\n",
              "      <td>6925.589167</td>\n",
              "      <td>6952.400833</td>\n",
              "      <td>6908.944167</td>\n",
              "      <td>288.322500</td>\n",
              "      <td>2.033892e+06</td>\n",
              "      <td>6936.545833</td>\n",
              "    </tr>\n",
              "    <tr>\n",
              "      <th>15:00:00</th>\n",
              "      <td>0.099428</td>\n",
              "      <td>0.212782</td>\n",
              "      <td>5686.500000</td>\n",
              "      <td>6934.180833</td>\n",
              "      <td>6965.962500</td>\n",
              "      <td>6915.395833</td>\n",
              "      <td>326.230000</td>\n",
              "      <td>2.313765e+06</td>\n",
              "      <td>6937.513333</td>\n",
              "    </tr>\n",
              "    <tr>\n",
              "      <th>16:00:00</th>\n",
              "      <td>0.098327</td>\n",
              "      <td>0.215643</td>\n",
              "      <td>5647.250000</td>\n",
              "      <td>6937.987500</td>\n",
              "      <td>6970.406667</td>\n",
              "      <td>6914.132500</td>\n",
              "      <td>411.930833</td>\n",
              "      <td>2.977255e+06</td>\n",
              "      <td>6947.045000</td>\n",
              "    </tr>\n",
              "    <tr>\n",
              "      <th>17:00:00</th>\n",
              "      <td>0.099674</td>\n",
              "      <td>0.219544</td>\n",
              "      <td>5482.333333</td>\n",
              "      <td>6947.205000</td>\n",
              "      <td>6986.905000</td>\n",
              "      <td>6928.375833</td>\n",
              "      <td>421.290833</td>\n",
              "      <td>3.020724e+06</td>\n",
              "      <td>6946.573333</td>\n",
              "    </tr>\n",
              "    <tr>\n",
              "      <th>18:00:00</th>\n",
              "      <td>0.098512</td>\n",
              "      <td>0.223854</td>\n",
              "      <td>5340.666667</td>\n",
              "      <td>6946.270833</td>\n",
              "      <td>7020.676667</td>\n",
              "      <td>6917.940000</td>\n",
              "      <td>621.599167</td>\n",
              "      <td>4.405309e+06</td>\n",
              "      <td>6985.155833</td>\n",
              "    </tr>\n",
              "    <tr>\n",
              "      <th>19:00:00</th>\n",
              "      <td>0.094025</td>\n",
              "      <td>0.227546</td>\n",
              "      <td>5345.583333</td>\n",
              "      <td>6984.812500</td>\n",
              "      <td>7048.856667</td>\n",
              "      <td>6948.802500</td>\n",
              "      <td>635.320833</td>\n",
              "      <td>4.639426e+06</td>\n",
              "      <td>6990.852500</td>\n",
              "    </tr>\n",
              "    <tr>\n",
              "      <th>20:00:00</th>\n",
              "      <td>0.096545</td>\n",
              "      <td>0.221846</td>\n",
              "      <td>4829.692308</td>\n",
              "      <td>6941.196923</td>\n",
              "      <td>6968.019231</td>\n",
              "      <td>6903.869231</td>\n",
              "      <td>396.382308</td>\n",
              "      <td>2.764029e+06</td>\n",
              "      <td>6937.162308</td>\n",
              "    </tr>\n",
              "    <tr>\n",
              "      <th>21:00:00</th>\n",
              "      <td>0.100486</td>\n",
              "      <td>0.227031</td>\n",
              "      <td>4586.076923</td>\n",
              "      <td>6937.536923</td>\n",
              "      <td>6961.624615</td>\n",
              "      <td>6902.450000</td>\n",
              "      <td>320.918462</td>\n",
              "      <td>2.235449e+06</td>\n",
              "      <td>6929.238462</td>\n",
              "    </tr>\n",
              "    <tr>\n",
              "      <th>22:00:00</th>\n",
              "      <td>0.101451</td>\n",
              "      <td>0.231768</td>\n",
              "      <td>4215.769231</td>\n",
              "      <td>6928.340769</td>\n",
              "      <td>6960.293846</td>\n",
              "      <td>6899.097692</td>\n",
              "      <td>201.525385</td>\n",
              "      <td>1.425684e+06</td>\n",
              "      <td>6924.276923</td>\n",
              "    </tr>\n",
              "    <tr>\n",
              "      <th>23:00:00</th>\n",
              "      <td>0.096164</td>\n",
              "      <td>0.218966</td>\n",
              "      <td>4081.230769</td>\n",
              "      <td>6924.337692</td>\n",
              "      <td>6960.037692</td>\n",
              "      <td>6893.017692</td>\n",
              "      <td>259.863846</td>\n",
              "      <td>1.851852e+06</td>\n",
              "      <td>6928.529231</td>\n",
              "    </tr>\n",
              "  </tbody>\n",
              "</table>\n",
              "</div>"
            ],
            "text/plain": [
              "          Polarity  Sensitivity  ...  Volume_Dollar  Close_Price\n",
              "time                             ...                            \n",
              "00:00:00  0.090298     0.211771  ...   2.228120e+06  6935.983077\n",
              "01:00:00  0.099596     0.211714  ...   2.243338e+06  6933.794615\n",
              "02:00:00  0.102724     0.204445  ...   1.105651e+06  6870.695833\n",
              "03:00:00  0.105586     0.214824  ...   2.385733e+06  6888.139167\n",
              "04:00:00  0.103095     0.208516  ...   1.949230e+06  6890.985000\n",
              "05:00:00  0.108032     0.215058  ...   1.524601e+06  6890.451667\n",
              "06:00:00  0.104412     0.210424  ...   1.281427e+06  6891.371667\n",
              "07:00:00  0.100942     0.209435  ...   2.263694e+06  6878.757500\n",
              "08:00:00  0.099380     0.210113  ...   2.616314e+06  6885.867500\n",
              "09:00:00  0.099369     0.204565  ...   2.740251e+06  6888.328333\n",
              "10:00:00  0.099587     0.203848  ...   2.194532e+06  6905.600833\n",
              "11:00:00  0.097061     0.203488  ...   1.766995e+06  6907.590000\n",
              "12:00:00  0.099139     0.207495  ...   2.200126e+06  6922.389167\n",
              "13:00:00  0.097565     0.208969  ...   1.808326e+06  6925.079167\n",
              "14:00:00  0.098485     0.212563  ...   2.033892e+06  6936.545833\n",
              "15:00:00  0.099428     0.212782  ...   2.313765e+06  6937.513333\n",
              "16:00:00  0.098327     0.215643  ...   2.977255e+06  6947.045000\n",
              "17:00:00  0.099674     0.219544  ...   3.020724e+06  6946.573333\n",
              "18:00:00  0.098512     0.223854  ...   4.405309e+06  6985.155833\n",
              "19:00:00  0.094025     0.227546  ...   4.639426e+06  6990.852500\n",
              "20:00:00  0.096545     0.221846  ...   2.764029e+06  6937.162308\n",
              "21:00:00  0.100486     0.227031  ...   2.235449e+06  6929.238462\n",
              "22:00:00  0.101451     0.231768  ...   1.425684e+06  6924.276923\n",
              "23:00:00  0.096164     0.218966  ...   1.851852e+06  6928.529231\n",
              "\n",
              "[24 rows x 9 columns]"
            ]
          },
          "metadata": {
            "tags": []
          },
          "execution_count": 134
        }
      ]
    },
    {
      "cell_type": "code",
      "metadata": {
        "colab": {
          "base_uri": "https://localhost:8080/",
          "height": 0
        },
        "id": "GcXeob5sLXsZ",
        "outputId": "6d681b13-b322-4629-f7af-ad58f2e62395"
      },
      "source": [
        "hour_df.head()"
      ],
      "execution_count": 135,
      "outputs": [
        {
          "output_type": "execute_result",
          "data": {
            "text/html": [
              "<div>\n",
              "<style scoped>\n",
              "    .dataframe tbody tr th:only-of-type {\n",
              "        vertical-align: middle;\n",
              "    }\n",
              "\n",
              "    .dataframe tbody tr th {\n",
              "        vertical-align: top;\n",
              "    }\n",
              "\n",
              "    .dataframe thead th {\n",
              "        text-align: right;\n",
              "    }\n",
              "</style>\n",
              "<table border=\"1\" class=\"dataframe\">\n",
              "  <thead>\n",
              "    <tr style=\"text-align: right;\">\n",
              "      <th></th>\n",
              "      <th>Polarity</th>\n",
              "      <th>Sensitivity</th>\n",
              "      <th>Tweet_vol</th>\n",
              "      <th>Open</th>\n",
              "      <th>High</th>\n",
              "      <th>Low</th>\n",
              "      <th>Volume_BTC</th>\n",
              "      <th>Volume_Dollar</th>\n",
              "      <th>Close_Price</th>\n",
              "    </tr>\n",
              "    <tr>\n",
              "      <th>time</th>\n",
              "      <th></th>\n",
              "      <th></th>\n",
              "      <th></th>\n",
              "      <th></th>\n",
              "      <th></th>\n",
              "      <th></th>\n",
              "      <th></th>\n",
              "      <th></th>\n",
              "      <th></th>\n",
              "    </tr>\n",
              "  </thead>\n",
              "  <tbody>\n",
              "    <tr>\n",
              "      <th>00:00:00</th>\n",
              "      <td>0.090298</td>\n",
              "      <td>0.211771</td>\n",
              "      <td>3976.384615</td>\n",
              "      <td>6930.237692</td>\n",
              "      <td>6958.360769</td>\n",
              "      <td>6900.588462</td>\n",
              "      <td>322.836154</td>\n",
              "      <td>2.228120e+06</td>\n",
              "      <td>6935.983077</td>\n",
              "    </tr>\n",
              "    <tr>\n",
              "      <th>01:00:00</th>\n",
              "      <td>0.099596</td>\n",
              "      <td>0.211714</td>\n",
              "      <td>4016.615385</td>\n",
              "      <td>6935.140769</td>\n",
              "      <td>6963.533846</td>\n",
              "      <td>6894.772308</td>\n",
              "      <td>318.415385</td>\n",
              "      <td>2.243338e+06</td>\n",
              "      <td>6933.794615</td>\n",
              "    </tr>\n",
              "    <tr>\n",
              "      <th>02:00:00</th>\n",
              "      <td>0.102724</td>\n",
              "      <td>0.204445</td>\n",
              "      <td>3824.083333</td>\n",
              "      <td>6868.211667</td>\n",
              "      <td>6889.440000</td>\n",
              "      <td>6842.588333</td>\n",
              "      <td>158.836667</td>\n",
              "      <td>1.105651e+06</td>\n",
              "      <td>6870.695833</td>\n",
              "    </tr>\n",
              "    <tr>\n",
              "      <th>03:00:00</th>\n",
              "      <td>0.105586</td>\n",
              "      <td>0.214824</td>\n",
              "      <td>3791.666667</td>\n",
              "      <td>6870.573333</td>\n",
              "      <td>6909.675833</td>\n",
              "      <td>6855.316667</td>\n",
              "      <td>328.811667</td>\n",
              "      <td>2.385733e+06</td>\n",
              "      <td>6888.139167</td>\n",
              "    </tr>\n",
              "    <tr>\n",
              "      <th>04:00:00</th>\n",
              "      <td>0.103095</td>\n",
              "      <td>0.208516</td>\n",
              "      <td>3822.916667</td>\n",
              "      <td>6887.420000</td>\n",
              "      <td>6911.649167</td>\n",
              "      <td>6872.603333</td>\n",
              "      <td>271.692500</td>\n",
              "      <td>1.949230e+06</td>\n",
              "      <td>6890.985000</td>\n",
              "    </tr>\n",
              "  </tbody>\n",
              "</table>\n",
              "</div>"
            ],
            "text/plain": [
              "          Polarity  Sensitivity  ...  Volume_Dollar  Close_Price\n",
              "time                             ...                            \n",
              "00:00:00  0.090298     0.211771  ...   2.228120e+06  6935.983077\n",
              "01:00:00  0.099596     0.211714  ...   2.243338e+06  6933.794615\n",
              "02:00:00  0.102724     0.204445  ...   1.105651e+06  6870.695833\n",
              "03:00:00  0.105586     0.214824  ...   2.385733e+06  6888.139167\n",
              "04:00:00  0.103095     0.208516  ...   1.949230e+06  6890.985000\n",
              "\n",
              "[5 rows x 9 columns]"
            ]
          },
          "metadata": {
            "tags": []
          },
          "execution_count": 135
        }
      ]
    },
    {
      "cell_type": "code",
      "metadata": {
        "colab": {
          "base_uri": "https://localhost:8080/",
          "height": 0
        },
        "id": "IQsl6zpjLbW1",
        "outputId": "98cd0914-33b6-48a3-bb3b-b132c7ab7767"
      },
      "source": [
        "#sns Hourly Heatmap\r\n",
        "hour_df['hour'] = hour_df.index\r\n",
        "result = hour_df.pivot(index='hour', columns='Polarity', values='Volume_BTC')\r\n",
        "sns.heatmap(result, annot=True, fmt=\"g\", cmap='viridis')\r\n",
        "plt.title('Polarity x BTC Volume avg(Hr)')\r\n",
        "plt.show()\r\n",
        "\r\n",
        "#sns daily heatmap?"
      ],
      "execution_count": 136,
      "outputs": [
        {
          "output_type": "display_data",
          "data": {
            "image/png": "[encoded data removed]",
            "text/plain": [
              "<Figure size 432x288 with 2 Axes>"
            ]
          },
          "metadata": {
            "tags": []
          }
        }
      ]
    },
    {
      "cell_type": "code",
      "metadata": {
        "colab": {
          "base_uri": "https://localhost:8080/",
          "height": 0
        },
        "id": "GXVt9wWhLfgp",
        "outputId": "cba3a203-5ba7-4110-9e04-33f99b71ca13"
      },
      "source": [
        "hour_df['hour'] = hour_df.index\r\n",
        "result = hour_df.pivot(index='Volume_BTC', columns='hour', values='Tweet_vol')\r\n",
        "sns.heatmap(result, annot=True, fmt=\"g\", cmap='viridis')\r\n",
        "plt.title('BTC Vol x Tweet Vol avg(Hr)')\r\n",
        "plt.show()"
      ],
      "execution_count": 137,
      "outputs": [
        {
          "output_type": "display_data",
          "data": {
            "image/png": "[encoded data removed]",
            "text/plain": [
              "<Figure size 432x288 with 2 Axes>"
            ]
          },
          "metadata": {
            "tags": []
          }
        }
      ]
    },
    {
      "cell_type": "code",
      "metadata": {
        "colab": {
          "base_uri": "https://localhost:8080/",
          "height": 0
        },
        "id": "8ztfvVMlLitH",
        "outputId": "e0c864cd-b0e5-48c7-d2d2-15515611acc8"
      },
      "source": [
        "cor = Final_df.corr()\r\n",
        "cor\r\n",
        "\r\n",
        "\r\n",
        "#----------------End Analysis------------------------#"
      ],
      "execution_count": 138,
      "outputs": [
        {
          "output_type": "execute_result",
          "data": {
            "text/html": [
              "<div>\n",
              "<style scoped>\n",
              "    .dataframe tbody tr th:only-of-type {\n",
              "        vertical-align: middle;\n",
              "    }\n",
              "\n",
              "    .dataframe tbody tr th {\n",
              "        vertical-align: top;\n",
              "    }\n",
              "\n",
              "    .dataframe thead th {\n",
              "        text-align: right;\n",
              "    }\n",
              "</style>\n",
              "<table border=\"1\" class=\"dataframe\">\n",
              "  <thead>\n",
              "    <tr style=\"text-align: right;\">\n",
              "      <th></th>\n",
              "      <th>Polarity</th>\n",
              "      <th>Sensitivity</th>\n",
              "      <th>Tweet_vol</th>\n",
              "      <th>Open</th>\n",
              "      <th>High</th>\n",
              "      <th>Low</th>\n",
              "      <th>Volume_BTC</th>\n",
              "      <th>Volume_Dollar</th>\n",
              "      <th>Close_Price</th>\n",
              "    </tr>\n",
              "  </thead>\n",
              "  <tbody>\n",
              "    <tr>\n",
              "      <th>Polarity</th>\n",
              "      <td>1.000000</td>\n",
              "      <td>0.380350</td>\n",
              "      <td>-0.167573</td>\n",
              "      <td>0.179056</td>\n",
              "      <td>0.176277</td>\n",
              "      <td>0.180088</td>\n",
              "      <td>-0.062868</td>\n",
              "      <td>-0.052646</td>\n",
              "      <td>0.178456</td>\n",
              "    </tr>\n",
              "    <tr>\n",
              "      <th>Sensitivity</th>\n",
              "      <td>0.380350</td>\n",
              "      <td>1.000000</td>\n",
              "      <td>0.053903</td>\n",
              "      <td>0.194763</td>\n",
              "      <td>0.200611</td>\n",
              "      <td>0.190222</td>\n",
              "      <td>0.097124</td>\n",
              "      <td>0.112425</td>\n",
              "      <td>0.193203</td>\n",
              "    </tr>\n",
              "    <tr>\n",
              "      <th>Tweet_vol</th>\n",
              "      <td>-0.167573</td>\n",
              "      <td>0.053903</td>\n",
              "      <td>1.000000</td>\n",
              "      <td>0.237185</td>\n",
              "      <td>0.262207</td>\n",
              "      <td>0.234330</td>\n",
              "      <td>0.541112</td>\n",
              "      <td>0.545850</td>\n",
              "      <td>0.250448</td>\n",
              "    </tr>\n",
              "    <tr>\n",
              "      <th>Open</th>\n",
              "      <td>0.179056</td>\n",
              "      <td>0.194763</td>\n",
              "      <td>0.237185</td>\n",
              "      <td>1.000000</td>\n",
              "      <td>0.997128</td>\n",
              "      <td>0.998799</td>\n",
              "      <td>0.217478</td>\n",
              "      <td>0.277600</td>\n",
              "      <td>0.997217</td>\n",
              "    </tr>\n",
              "    <tr>\n",
              "      <th>High</th>\n",
              "      <td>0.176277</td>\n",
              "      <td>0.200611</td>\n",
              "      <td>0.262207</td>\n",
              "      <td>0.997128</td>\n",
              "      <td>1.000000</td>\n",
              "      <td>0.996650</td>\n",
              "      <td>0.270551</td>\n",
              "      <td>0.329816</td>\n",
              "      <td>0.998816</td>\n",
              "    </tr>\n",
              "    <tr>\n",
              "      <th>Low</th>\n",
              "      <td>0.180088</td>\n",
              "      <td>0.190222</td>\n",
              "      <td>0.234330</td>\n",
              "      <td>0.998799</td>\n",
              "      <td>0.996650</td>\n",
              "      <td>1.000000</td>\n",
              "      <td>0.202895</td>\n",
              "      <td>0.263863</td>\n",
              "      <td>0.998058</td>\n",
              "    </tr>\n",
              "    <tr>\n",
              "      <th>Volume_BTC</th>\n",
              "      <td>-0.062868</td>\n",
              "      <td>0.097124</td>\n",
              "      <td>0.541112</td>\n",
              "      <td>0.217478</td>\n",
              "      <td>0.270551</td>\n",
              "      <td>0.202895</td>\n",
              "      <td>1.000000</td>\n",
              "      <td>0.995873</td>\n",
              "      <td>0.243875</td>\n",
              "    </tr>\n",
              "    <tr>\n",
              "      <th>Volume_Dollar</th>\n",
              "      <td>-0.052646</td>\n",
              "      <td>0.112425</td>\n",
              "      <td>0.545850</td>\n",
              "      <td>0.277600</td>\n",
              "      <td>0.329816</td>\n",
              "      <td>0.263863</td>\n",
              "      <td>0.995873</td>\n",
              "      <td>1.000000</td>\n",
              "      <td>0.303347</td>\n",
              "    </tr>\n",
              "    <tr>\n",
              "      <th>Close_Price</th>\n",
              "      <td>0.178456</td>\n",
              "      <td>0.193203</td>\n",
              "      <td>0.250448</td>\n",
              "      <td>0.997217</td>\n",
              "      <td>0.998816</td>\n",
              "      <td>0.998058</td>\n",
              "      <td>0.243875</td>\n",
              "      <td>0.303347</td>\n",
              "      <td>1.000000</td>\n",
              "    </tr>\n",
              "  </tbody>\n",
              "</table>\n",
              "</div>"
            ],
            "text/plain": [
              "               Polarity  Sensitivity  ...  Volume_Dollar  Close_Price\n",
              "Polarity       1.000000     0.380350  ...      -0.052646     0.178456\n",
              "Sensitivity    0.380350     1.000000  ...       0.112425     0.193203\n",
              "Tweet_vol     -0.167573     0.053903  ...       0.545850     0.250448\n",
              "Open           0.179056     0.194763  ...       0.277600     0.997217\n",
              "High           0.176277     0.200611  ...       0.329816     0.998816\n",
              "Low            0.180088     0.190222  ...       0.263863     0.998058\n",
              "Volume_BTC    -0.062868     0.097124  ...       0.995873     0.243875\n",
              "Volume_Dollar -0.052646     0.112425  ...       1.000000     0.303347\n",
              "Close_Price    0.178456     0.193203  ...       0.303347     1.000000\n",
              "\n",
              "[9 rows x 9 columns]"
            ]
          },
          "metadata": {
            "tags": []
          },
          "execution_count": 138
        }
      ]
    },
    {
      "cell_type": "markdown",
      "metadata": {
        "id": "SAD61MEPLsGl"
      },
      "source": [
        "**LSTM** **Preparation**"
      ]
    },
    {
      "cell_type": "code",
      "metadata": {
        "id": "lgYaHCOlLoC-"
      },
      "source": [
        "df = Final_df"
      ],
      "execution_count": 139,
      "outputs": []
    },
    {
      "cell_type": "code",
      "metadata": {
        "colab": {
          "base_uri": "https://localhost:8080/"
        },
        "id": "rbMdu0XiLzx4",
        "outputId": "2ec354ff-636e-4be4-b0f8-51b047ec37da"
      },
      "source": [
        "df.info()"
      ],
      "execution_count": 140,
      "outputs": [
        {
          "output_type": "stream",
          "text": [
            "<class 'pandas.core.frame.DataFrame'>\n",
            "DatetimeIndex: 294 entries, 2018-07-11 20:00:00 to 2018-07-24 01:00:00\n",
            "Data columns (total 10 columns):\n",
            " #   Column         Non-Null Count  Dtype  \n",
            "---  ------         --------------  -----  \n",
            " 0   Polarity       294 non-null    float64\n",
            " 1   Sensitivity    294 non-null    float64\n",
            " 2   Tweet_vol      294 non-null    float64\n",
            " 3   Open           294 non-null    float64\n",
            " 4   High           294 non-null    float64\n",
            " 5   Low            294 non-null    float64\n",
            " 6   Volume_BTC     294 non-null    float64\n",
            " 7   Volume_Dollar  294 non-null    float64\n",
            " 8   Close_Price    294 non-null    float64\n",
            " 9   time           294 non-null    object \n",
            "dtypes: float64(9), object(1)\n",
            "memory usage: 25.3+ KB\n"
          ],
          "name": "stdout"
        }
      ]
    },
    {
      "cell_type": "code",
      "metadata": {
        "colab": {
          "base_uri": "https://localhost:8080/",
          "height": 0
        },
        "id": "mVfTHeF4L6z5",
        "outputId": "af8adc9e-9a72-4674-dcc4-8ea0b7dccc38"
      },
      "source": [
        "df = df.drop(['Open','High', 'Low', 'Volume_Dollar'], axis=1)\r\n",
        "df.head()"
      ],
      "execution_count": 141,
      "outputs": [
        {
          "output_type": "execute_result",
          "data": {
            "text/html": [
              "<div>\n",
              "<style scoped>\n",
              "    .dataframe tbody tr th:only-of-type {\n",
              "        vertical-align: middle;\n",
              "    }\n",
              "\n",
              "    .dataframe tbody tr th {\n",
              "        vertical-align: top;\n",
              "    }\n",
              "\n",
              "    .dataframe thead th {\n",
              "        text-align: right;\n",
              "    }\n",
              "</style>\n",
              "<table border=\"1\" class=\"dataframe\">\n",
              "  <thead>\n",
              "    <tr style=\"text-align: right;\">\n",
              "      <th></th>\n",
              "      <th>Polarity</th>\n",
              "      <th>Sensitivity</th>\n",
              "      <th>Tweet_vol</th>\n",
              "      <th>Volume_BTC</th>\n",
              "      <th>Close_Price</th>\n",
              "      <th>time</th>\n",
              "    </tr>\n",
              "  </thead>\n",
              "  <tbody>\n",
              "    <tr>\n",
              "      <th>2018-07-11 20:00:00</th>\n",
              "      <td>0.102657</td>\n",
              "      <td>0.216148</td>\n",
              "      <td>4354.0</td>\n",
              "      <td>986.73</td>\n",
              "      <td>6350.00</td>\n",
              "      <td>20:00:00</td>\n",
              "    </tr>\n",
              "    <tr>\n",
              "      <th>2018-07-11 21:00:00</th>\n",
              "      <td>0.098004</td>\n",
              "      <td>0.218612</td>\n",
              "      <td>4432.0</td>\n",
              "      <td>126.46</td>\n",
              "      <td>6356.48</td>\n",
              "      <td>21:00:00</td>\n",
              "    </tr>\n",
              "    <tr>\n",
              "      <th>2018-07-11 22:00:00</th>\n",
              "      <td>0.096688</td>\n",
              "      <td>0.231342</td>\n",
              "      <td>3980.0</td>\n",
              "      <td>259.10</td>\n",
              "      <td>6361.93</td>\n",
              "      <td>22:00:00</td>\n",
              "    </tr>\n",
              "    <tr>\n",
              "      <th>2018-07-11 23:00:00</th>\n",
              "      <td>0.103997</td>\n",
              "      <td>0.217739</td>\n",
              "      <td>3830.0</td>\n",
              "      <td>81.54</td>\n",
              "      <td>6368.78</td>\n",
              "      <td>23:00:00</td>\n",
              "    </tr>\n",
              "    <tr>\n",
              "      <th>2018-07-12 00:00:00</th>\n",
              "      <td>0.094383</td>\n",
              "      <td>0.195256</td>\n",
              "      <td>3998.0</td>\n",
              "      <td>124.55</td>\n",
              "      <td>6380.00</td>\n",
              "      <td>00:00:00</td>\n",
              "    </tr>\n",
              "  </tbody>\n",
              "</table>\n",
              "</div>"
            ],
            "text/plain": [
              "                     Polarity  Sensitivity  ...  Close_Price      time\n",
              "2018-07-11 20:00:00  0.102657     0.216148  ...      6350.00  20:00:00\n",
              "2018-07-11 21:00:00  0.098004     0.218612  ...      6356.48  21:00:00\n",
              "2018-07-11 22:00:00  0.096688     0.231342  ...      6361.93  22:00:00\n",
              "2018-07-11 23:00:00  0.103997     0.217739  ...      6368.78  23:00:00\n",
              "2018-07-12 00:00:00  0.094383     0.195256  ...      6380.00  00:00:00\n",
              "\n",
              "[5 rows x 6 columns]"
            ]
          },
          "metadata": {
            "tags": []
          },
          "execution_count": 141
        }
      ]
    },
    {
      "cell_type": "code",
      "metadata": {
        "colab": {
          "base_uri": "https://localhost:8080/",
          "height": 0
        },
        "id": "Dcx50FHSL-R1",
        "outputId": "22b0318a-d48d-49d1-be0f-f841c0fc2cad"
      },
      "source": [
        "df = df[['Close_Price', 'Polarity', 'Sensitivity','Tweet_vol','Volume_BTC']]\r\n",
        "df.head()"
      ],
      "execution_count": 142,
      "outputs": [
        {
          "output_type": "execute_result",
          "data": {
            "text/html": [
              "<div>\n",
              "<style scoped>\n",
              "    .dataframe tbody tr th:only-of-type {\n",
              "        vertical-align: middle;\n",
              "    }\n",
              "\n",
              "    .dataframe tbody tr th {\n",
              "        vertical-align: top;\n",
              "    }\n",
              "\n",
              "    .dataframe thead th {\n",
              "        text-align: right;\n",
              "    }\n",
              "</style>\n",
              "<table border=\"1\" class=\"dataframe\">\n",
              "  <thead>\n",
              "    <tr style=\"text-align: right;\">\n",
              "      <th></th>\n",
              "      <th>Close_Price</th>\n",
              "      <th>Polarity</th>\n",
              "      <th>Sensitivity</th>\n",
              "      <th>Tweet_vol</th>\n",
              "      <th>Volume_BTC</th>\n",
              "    </tr>\n",
              "  </thead>\n",
              "  <tbody>\n",
              "    <tr>\n",
              "      <th>2018-07-11 20:00:00</th>\n",
              "      <td>6350.00</td>\n",
              "      <td>0.102657</td>\n",
              "      <td>0.216148</td>\n",
              "      <td>4354.0</td>\n",
              "      <td>986.73</td>\n",
              "    </tr>\n",
              "    <tr>\n",
              "      <th>2018-07-11 21:00:00</th>\n",
              "      <td>6356.48</td>\n",
              "      <td>0.098004</td>\n",
              "      <td>0.218612</td>\n",
              "      <td>4432.0</td>\n",
              "      <td>126.46</td>\n",
              "    </tr>\n",
              "    <tr>\n",
              "      <th>2018-07-11 22:00:00</th>\n",
              "      <td>6361.93</td>\n",
              "      <td>0.096688</td>\n",
              "      <td>0.231342</td>\n",
              "      <td>3980.0</td>\n",
              "      <td>259.10</td>\n",
              "    </tr>\n",
              "    <tr>\n",
              "      <th>2018-07-11 23:00:00</th>\n",
              "      <td>6368.78</td>\n",
              "      <td>0.103997</td>\n",
              "      <td>0.217739</td>\n",
              "      <td>3830.0</td>\n",
              "      <td>81.54</td>\n",
              "    </tr>\n",
              "    <tr>\n",
              "      <th>2018-07-12 00:00:00</th>\n",
              "      <td>6380.00</td>\n",
              "      <td>0.094383</td>\n",
              "      <td>0.195256</td>\n",
              "      <td>3998.0</td>\n",
              "      <td>124.55</td>\n",
              "    </tr>\n",
              "  </tbody>\n",
              "</table>\n",
              "</div>"
            ],
            "text/plain": [
              "                     Close_Price  Polarity  Sensitivity  Tweet_vol  Volume_BTC\n",
              "2018-07-11 20:00:00      6350.00  0.102657     0.216148     4354.0      986.73\n",
              "2018-07-11 21:00:00      6356.48  0.098004     0.218612     4432.0      126.46\n",
              "2018-07-11 22:00:00      6361.93  0.096688     0.231342     3980.0      259.10\n",
              "2018-07-11 23:00:00      6368.78  0.103997     0.217739     3830.0       81.54\n",
              "2018-07-12 00:00:00      6380.00  0.094383     0.195256     3998.0      124.55"
            ]
          },
          "metadata": {
            "tags": []
          },
          "execution_count": 142
        }
      ]
    },
    {
      "cell_type": "code",
      "metadata": {
        "colab": {
          "base_uri": "https://localhost:8080/",
          "height": 0
        },
        "id": "_WlZXtysMCc1",
        "outputId": "8f60cbf1-1101-4fab-bd9e-e4d9c26624d8"
      },
      "source": [
        "cor = df.corr()\r\n",
        "import matplotlib.pyplot as plt\r\n",
        "sns.set(style=\"white\")\r\n",
        "f, ax = plt.subplots(figsize=(11, 9))\r\n",
        "\r\n",
        "cmap = sns.diverging_palette(220, 10, as_cmap=True)\r\n",
        "ax =sns.heatmap(cor, cmap=cmap, vmax=1, center=0,\r\n",
        "            square=True, linewidths=.5, cbar_kws={\"shrink\": .7})\r\n",
        "plt.show()"
      ],
      "execution_count": 143,
      "outputs": [
        {
          "output_type": "display_data",
          "data": {
            "image/png": "[encoded data removed]",
            "text/plain": [
              "<Figure size 792x648 with 2 Axes>"
            ]
          },
          "metadata": {
            "tags": []
          }
        }
      ]
    },
    {
      "cell_type": "markdown",
      "metadata": {
        "id": "8rLArvSWMLH3"
      },
      "source": [
        "# LSTM Model"
      ]
    },
    {
      "cell_type": "code",
      "metadata": {
        "id": "d1fDXRASMElL"
      },
      "source": [
        "from math import sqrt\r\n",
        "from numpy import concatenate\r\n",
        "from sklearn.preprocessing import MinMaxScaler\r\n",
        "from sklearn.preprocessing import LabelEncoder\r\n",
        "from sklearn.metrics import mean_squared_error\r\n",
        "from matplotlib import pyplot\r\n",
        "\r\n",
        "from pandas import read_csv\r\n",
        "from pandas import DataFrame\r\n",
        "from pandas import concat\r\n",
        "from keras.models import Sequential\r\n",
        "from keras.layers import Dense\r\n",
        "from keras.layers import LSTM\r\n",
        "\r\n",
        "# convert series to supervised learning\r\n",
        "def series_to_supervised(data, n_in=1, n_out=1, dropnan=True):\r\n",
        "\tn_vars = 1 if type(data) is list else data.shape[1]\r\n",
        "\tdf = DataFrame(data)\r\n",
        "\tcols, names = list(), list()\r\n",
        "\t# input sequence (t-n, ... t-1)\r\n",
        "\tfor i in range(n_in, 0, -1):\r\n",
        "\t\tcols.append(df.shift(i))\r\n",
        "\t\tnames += [('var%d(t-%d)' % (j+1, i)) for j in range(n_vars)]\r\n",
        "\t# forecast sequence (t, t+1, ... t+n)\r\n",
        "\tfor i in range(0, n_out):\r\n",
        "\t\tcols.append(df.shift(-i))\r\n",
        "\t\tif i == 0:\r\n",
        "\t\t\tnames += [('var%d(t)' % (j+1)) for j in range(n_vars)]\r\n",
        "\t\telse:\r\n",
        "\t\t\tnames += [('var%d(t+%d)' % (j+1, i)) for j in range(n_vars)]\r\n",
        "\t# put it all together\r\n",
        "\tagg = concat(cols, axis=1)\r\n",
        "\tagg.columns = names\r\n",
        "\t# drop rows with NaN values\r\n",
        "\tif dropnan:\r\n",
        "\t\tagg.dropna(inplace=True)\r\n",
        "\treturn agg"
      ],
      "execution_count": 144,
      "outputs": []
    },
    {
      "cell_type": "code",
      "metadata": {
        "colab": {
          "base_uri": "https://localhost:8080/",
          "height": 204
        },
        "id": "9MN72NzeM0GX",
        "outputId": "ecd04b1e-c5be-45c1-886a-40ab12e7a18f"
      },
      "source": [
        "values = df.values\r\n",
        "cols = df.columns.tolist()\r\n",
        "cols = cols[-1:] + cols[:-1]\r\n",
        "df = df[cols]\r\n",
        "df = df[['Close_Price', 'Polarity', 'Sensitivity','Tweet_vol','Volume_BTC']]\r\n",
        "df.head()"
      ],
      "execution_count": 145,
      "outputs": [
        {
          "output_type": "execute_result",
          "data": {
            "text/html": [
              "<div>\n",
              "<style scoped>\n",
              "    .dataframe tbody tr th:only-of-type {\n",
              "        vertical-align: middle;\n",
              "    }\n",
              "\n",
              "    .dataframe tbody tr th {\n",
              "        vertical-align: top;\n",
              "    }\n",
              "\n",
              "    .dataframe thead th {\n",
              "        text-align: right;\n",
              "    }\n",
              "</style>\n",
              "<table border=\"1\" class=\"dataframe\">\n",
              "  <thead>\n",
              "    <tr style=\"text-align: right;\">\n",
              "      <th></th>\n",
              "      <th>Close_Price</th>\n",
              "      <th>Polarity</th>\n",
              "      <th>Sensitivity</th>\n",
              "      <th>Tweet_vol</th>\n",
              "      <th>Volume_BTC</th>\n",
              "    </tr>\n",
              "  </thead>\n",
              "  <tbody>\n",
              "    <tr>\n",
              "      <th>2018-07-11 20:00:00</th>\n",
              "      <td>6350.00</td>\n",
              "      <td>0.102657</td>\n",
              "      <td>0.216148</td>\n",
              "      <td>4354.0</td>\n",
              "      <td>986.73</td>\n",
              "    </tr>\n",
              "    <tr>\n",
              "      <th>2018-07-11 21:00:00</th>\n",
              "      <td>6356.48</td>\n",
              "      <td>0.098004</td>\n",
              "      <td>0.218612</td>\n",
              "      <td>4432.0</td>\n",
              "      <td>126.46</td>\n",
              "    </tr>\n",
              "    <tr>\n",
              "      <th>2018-07-11 22:00:00</th>\n",
              "      <td>6361.93</td>\n",
              "      <td>0.096688</td>\n",
              "      <td>0.231342</td>\n",
              "      <td>3980.0</td>\n",
              "      <td>259.10</td>\n",
              "    </tr>\n",
              "    <tr>\n",
              "      <th>2018-07-11 23:00:00</th>\n",
              "      <td>6368.78</td>\n",
              "      <td>0.103997</td>\n",
              "      <td>0.217739</td>\n",
              "      <td>3830.0</td>\n",
              "      <td>81.54</td>\n",
              "    </tr>\n",
              "    <tr>\n",
              "      <th>2018-07-12 00:00:00</th>\n",
              "      <td>6380.00</td>\n",
              "      <td>0.094383</td>\n",
              "      <td>0.195256</td>\n",
              "      <td>3998.0</td>\n",
              "      <td>124.55</td>\n",
              "    </tr>\n",
              "  </tbody>\n",
              "</table>\n",
              "</div>"
            ],
            "text/plain": [
              "                     Close_Price  Polarity  Sensitivity  Tweet_vol  Volume_BTC\n",
              "2018-07-11 20:00:00      6350.00  0.102657     0.216148     4354.0      986.73\n",
              "2018-07-11 21:00:00      6356.48  0.098004     0.218612     4432.0      126.46\n",
              "2018-07-11 22:00:00      6361.93  0.096688     0.231342     3980.0      259.10\n",
              "2018-07-11 23:00:00      6368.78  0.103997     0.217739     3830.0       81.54\n",
              "2018-07-12 00:00:00      6380.00  0.094383     0.195256     3998.0      124.55"
            ]
          },
          "metadata": {
            "tags": []
          },
          "execution_count": 145
        }
      ]
    },
    {
      "cell_type": "code",
      "metadata": {
        "id": "J-8HunhwM-52"
      },
      "source": [
        "scaler = MinMaxScaler(feature_range=(0, 1))\r\n",
        "scaled = scaler.fit_transform(df.values)\r\n",
        "n_hours = 3 #adding 3 hours lags creating number of observations \r\n",
        "n_features = 5 #Features in the dataset.\r\n",
        "n_obs = n_hours*n_features"
      ],
      "execution_count": 146,
      "outputs": []
    },
    {
      "cell_type": "code",
      "metadata": {
        "colab": {
          "base_uri": "https://localhost:8080/",
          "height": 221
        },
        "id": "KmsltjTDNFR_",
        "outputId": "402fdd80-00f5-4416-856f-2163cb0e4c6a"
      },
      "source": [
        "reframed = series_to_supervised(scaled, n_hours, 1)\r\n",
        "reframed.head()"
      ],
      "execution_count": 147,
      "outputs": [
        {
          "output_type": "execute_result",
          "data": {
            "text/html": [
              "<div>\n",
              "<style scoped>\n",
              "    .dataframe tbody tr th:only-of-type {\n",
              "        vertical-align: middle;\n",
              "    }\n",
              "\n",
              "    .dataframe tbody tr th {\n",
              "        vertical-align: top;\n",
              "    }\n",
              "\n",
              "    .dataframe thead th {\n",
              "        text-align: right;\n",
              "    }\n",
              "</style>\n",
              "<table border=\"1\" class=\"dataframe\">\n",
              "  <thead>\n",
              "    <tr style=\"text-align: right;\">\n",
              "      <th></th>\n",
              "      <th>var1(t-3)</th>\n",
              "      <th>var2(t-3)</th>\n",
              "      <th>var3(t-3)</th>\n",
              "      <th>var4(t-3)</th>\n",
              "      <th>var5(t-3)</th>\n",
              "      <th>var1(t-2)</th>\n",
              "      <th>var2(t-2)</th>\n",
              "      <th>var3(t-2)</th>\n",
              "      <th>var4(t-2)</th>\n",
              "      <th>var5(t-2)</th>\n",
              "      <th>var1(t-1)</th>\n",
              "      <th>var2(t-1)</th>\n",
              "      <th>var3(t-1)</th>\n",
              "      <th>var4(t-1)</th>\n",
              "      <th>var5(t-1)</th>\n",
              "      <th>var1(t)</th>\n",
              "      <th>var2(t)</th>\n",
              "      <th>var3(t)</th>\n",
              "      <th>var4(t)</th>\n",
              "      <th>var5(t)</th>\n",
              "    </tr>\n",
              "  </thead>\n",
              "  <tbody>\n",
              "    <tr>\n",
              "      <th>3</th>\n",
              "      <td>0.125479</td>\n",
              "      <td>0.611105</td>\n",
              "      <td>0.429055</td>\n",
              "      <td>0.181916</td>\n",
              "      <td>0.368430</td>\n",
              "      <td>0.129527</td>\n",
              "      <td>0.555312</td>\n",
              "      <td>0.454335</td>\n",
              "      <td>0.192380</td>\n",
              "      <td>0.039893</td>\n",
              "      <td>0.132931</td>\n",
              "      <td>0.539534</td>\n",
              "      <td>0.584943</td>\n",
              "      <td>0.131741</td>\n",
              "      <td>0.090548</td>\n",
              "      <td>0.137210</td>\n",
              "      <td>0.627175</td>\n",
              "      <td>0.445375</td>\n",
              "      <td>0.111618</td>\n",
              "      <td>0.022738</td>\n",
              "    </tr>\n",
              "    <tr>\n",
              "      <th>4</th>\n",
              "      <td>0.129527</td>\n",
              "      <td>0.555312</td>\n",
              "      <td>0.454335</td>\n",
              "      <td>0.192380</td>\n",
              "      <td>0.039893</td>\n",
              "      <td>0.132931</td>\n",
              "      <td>0.539534</td>\n",
              "      <td>0.584943</td>\n",
              "      <td>0.131741</td>\n",
              "      <td>0.090548</td>\n",
              "      <td>0.137210</td>\n",
              "      <td>0.627175</td>\n",
              "      <td>0.445375</td>\n",
              "      <td>0.111618</td>\n",
              "      <td>0.022738</td>\n",
              "      <td>0.144218</td>\n",
              "      <td>0.511893</td>\n",
              "      <td>0.214693</td>\n",
              "      <td>0.134156</td>\n",
              "      <td>0.039164</td>\n",
              "    </tr>\n",
              "    <tr>\n",
              "      <th>5</th>\n",
              "      <td>0.132931</td>\n",
              "      <td>0.539534</td>\n",
              "      <td>0.584943</td>\n",
              "      <td>0.131741</td>\n",
              "      <td>0.090548</td>\n",
              "      <td>0.137210</td>\n",
              "      <td>0.627175</td>\n",
              "      <td>0.445375</td>\n",
              "      <td>0.111618</td>\n",
              "      <td>0.022738</td>\n",
              "      <td>0.144218</td>\n",
              "      <td>0.511893</td>\n",
              "      <td>0.214693</td>\n",
              "      <td>0.134156</td>\n",
              "      <td>0.039164</td>\n",
              "      <td>0.135117</td>\n",
              "      <td>0.589271</td>\n",
              "      <td>0.500135</td>\n",
              "      <td>0.095922</td>\n",
              "      <td>0.045637</td>\n",
              "    </tr>\n",
              "    <tr>\n",
              "      <th>6</th>\n",
              "      <td>0.137210</td>\n",
              "      <td>0.627175</td>\n",
              "      <td>0.445375</td>\n",
              "      <td>0.111618</td>\n",
              "      <td>0.022738</td>\n",
              "      <td>0.144218</td>\n",
              "      <td>0.511893</td>\n",
              "      <td>0.214693</td>\n",
              "      <td>0.134156</td>\n",
              "      <td>0.039164</td>\n",
              "      <td>0.135117</td>\n",
              "      <td>0.589271</td>\n",
              "      <td>0.500135</td>\n",
              "      <td>0.095922</td>\n",
              "      <td>0.045637</td>\n",
              "      <td>0.111700</td>\n",
              "      <td>0.722717</td>\n",
              "      <td>0.212514</td>\n",
              "      <td>0.113362</td>\n",
              "      <td>0.045561</td>\n",
              "    </tr>\n",
              "    <tr>\n",
              "      <th>7</th>\n",
              "      <td>0.144218</td>\n",
              "      <td>0.511893</td>\n",
              "      <td>0.214693</td>\n",
              "      <td>0.134156</td>\n",
              "      <td>0.039164</td>\n",
              "      <td>0.135117</td>\n",
              "      <td>0.589271</td>\n",
              "      <td>0.500135</td>\n",
              "      <td>0.095922</td>\n",
              "      <td>0.045637</td>\n",
              "      <td>0.111700</td>\n",
              "      <td>0.722717</td>\n",
              "      <td>0.212514</td>\n",
              "      <td>0.113362</td>\n",
              "      <td>0.045561</td>\n",
              "      <td>0.111101</td>\n",
              "      <td>0.649855</td>\n",
              "      <td>0.365349</td>\n",
              "      <td>0.111752</td>\n",
              "      <td>0.053607</td>\n",
              "    </tr>\n",
              "  </tbody>\n",
              "</table>\n",
              "</div>"
            ],
            "text/plain": [
              "   var1(t-3)  var2(t-3)  var3(t-3)  ...   var3(t)   var4(t)   var5(t)\n",
              "3   0.125479   0.611105   0.429055  ...  0.445375  0.111618  0.022738\n",
              "4   0.129527   0.555312   0.454335  ...  0.214693  0.134156  0.039164\n",
              "5   0.132931   0.539534   0.584943  ...  0.500135  0.095922  0.045637\n",
              "6   0.137210   0.627175   0.445375  ...  0.212514  0.113362  0.045561\n",
              "7   0.144218   0.511893   0.214693  ...  0.365349  0.111752  0.053607\n",
              "\n",
              "[5 rows x 20 columns]"
            ]
          },
          "metadata": {
            "tags": []
          },
          "execution_count": 147
        }
      ]
    },
    {
      "cell_type": "code",
      "metadata": {
        "colab": {
          "base_uri": "https://localhost:8080/",
          "height": 221
        },
        "id": "hPeO__VANMWi",
        "outputId": "ff7f71e7-7baf-424a-a440-45f9bf77180b"
      },
      "source": [
        "reframed.drop(reframed.columns[-4], axis=1)\r\n",
        "reframed.head()"
      ],
      "execution_count": 148,
      "outputs": [
        {
          "output_type": "execute_result",
          "data": {
            "text/html": [
              "<div>\n",
              "<style scoped>\n",
              "    .dataframe tbody tr th:only-of-type {\n",
              "        vertical-align: middle;\n",
              "    }\n",
              "\n",
              "    .dataframe tbody tr th {\n",
              "        vertical-align: top;\n",
              "    }\n",
              "\n",
              "    .dataframe thead th {\n",
              "        text-align: right;\n",
              "    }\n",
              "</style>\n",
              "<table border=\"1\" class=\"dataframe\">\n",
              "  <thead>\n",
              "    <tr style=\"text-align: right;\">\n",
              "      <th></th>\n",
              "      <th>var1(t-3)</th>\n",
              "      <th>var2(t-3)</th>\n",
              "      <th>var3(t-3)</th>\n",
              "      <th>var4(t-3)</th>\n",
              "      <th>var5(t-3)</th>\n",
              "      <th>var1(t-2)</th>\n",
              "      <th>var2(t-2)</th>\n",
              "      <th>var3(t-2)</th>\n",
              "      <th>var4(t-2)</th>\n",
              "      <th>var5(t-2)</th>\n",
              "      <th>var1(t-1)</th>\n",
              "      <th>var2(t-1)</th>\n",
              "      <th>var3(t-1)</th>\n",
              "      <th>var4(t-1)</th>\n",
              "      <th>var5(t-1)</th>\n",
              "      <th>var1(t)</th>\n",
              "      <th>var2(t)</th>\n",
              "      <th>var3(t)</th>\n",
              "      <th>var4(t)</th>\n",
              "      <th>var5(t)</th>\n",
              "    </tr>\n",
              "  </thead>\n",
              "  <tbody>\n",
              "    <tr>\n",
              "      <th>3</th>\n",
              "      <td>0.125479</td>\n",
              "      <td>0.611105</td>\n",
              "      <td>0.429055</td>\n",
              "      <td>0.181916</td>\n",
              "      <td>0.368430</td>\n",
              "      <td>0.129527</td>\n",
              "      <td>0.555312</td>\n",
              "      <td>0.454335</td>\n",
              "      <td>0.192380</td>\n",
              "      <td>0.039893</td>\n",
              "      <td>0.132931</td>\n",
              "      <td>0.539534</td>\n",
              "      <td>0.584943</td>\n",
              "      <td>0.131741</td>\n",
              "      <td>0.090548</td>\n",
              "      <td>0.137210</td>\n",
              "      <td>0.627175</td>\n",
              "      <td>0.445375</td>\n",
              "      <td>0.111618</td>\n",
              "      <td>0.022738</td>\n",
              "    </tr>\n",
              "    <tr>\n",
              "      <th>4</th>\n",
              "      <td>0.129527</td>\n",
              "      <td>0.555312</td>\n",
              "      <td>0.454335</td>\n",
              "      <td>0.192380</td>\n",
              "      <td>0.039893</td>\n",
              "      <td>0.132931</td>\n",
              "      <td>0.539534</td>\n",
              "      <td>0.584943</td>\n",
              "      <td>0.131741</td>\n",
              "      <td>0.090548</td>\n",
              "      <td>0.137210</td>\n",
              "      <td>0.627175</td>\n",
              "      <td>0.445375</td>\n",
              "      <td>0.111618</td>\n",
              "      <td>0.022738</td>\n",
              "      <td>0.144218</td>\n",
              "      <td>0.511893</td>\n",
              "      <td>0.214693</td>\n",
              "      <td>0.134156</td>\n",
              "      <td>0.039164</td>\n",
              "    </tr>\n",
              "    <tr>\n",
              "      <th>5</th>\n",
              "      <td>0.132931</td>\n",
              "      <td>0.539534</td>\n",
              "      <td>0.584943</td>\n",
              "      <td>0.131741</td>\n",
              "      <td>0.090548</td>\n",
              "      <td>0.137210</td>\n",
              "      <td>0.627175</td>\n",
              "      <td>0.445375</td>\n",
              "      <td>0.111618</td>\n",
              "      <td>0.022738</td>\n",
              "      <td>0.144218</td>\n",
              "      <td>0.511893</td>\n",
              "      <td>0.214693</td>\n",
              "      <td>0.134156</td>\n",
              "      <td>0.039164</td>\n",
              "      <td>0.135117</td>\n",
              "      <td>0.589271</td>\n",
              "      <td>0.500135</td>\n",
              "      <td>0.095922</td>\n",
              "      <td>0.045637</td>\n",
              "    </tr>\n",
              "    <tr>\n",
              "      <th>6</th>\n",
              "      <td>0.137210</td>\n",
              "      <td>0.627175</td>\n",
              "      <td>0.445375</td>\n",
              "      <td>0.111618</td>\n",
              "      <td>0.022738</td>\n",
              "      <td>0.144218</td>\n",
              "      <td>0.511893</td>\n",
              "      <td>0.214693</td>\n",
              "      <td>0.134156</td>\n",
              "      <td>0.039164</td>\n",
              "      <td>0.135117</td>\n",
              "      <td>0.589271</td>\n",
              "      <td>0.500135</td>\n",
              "      <td>0.095922</td>\n",
              "      <td>0.045637</td>\n",
              "      <td>0.111700</td>\n",
              "      <td>0.722717</td>\n",
              "      <td>0.212514</td>\n",
              "      <td>0.113362</td>\n",
              "      <td>0.045561</td>\n",
              "    </tr>\n",
              "    <tr>\n",
              "      <th>7</th>\n",
              "      <td>0.144218</td>\n",
              "      <td>0.511893</td>\n",
              "      <td>0.214693</td>\n",
              "      <td>0.134156</td>\n",
              "      <td>0.039164</td>\n",
              "      <td>0.135117</td>\n",
              "      <td>0.589271</td>\n",
              "      <td>0.500135</td>\n",
              "      <td>0.095922</td>\n",
              "      <td>0.045637</td>\n",
              "      <td>0.111700</td>\n",
              "      <td>0.722717</td>\n",
              "      <td>0.212514</td>\n",
              "      <td>0.113362</td>\n",
              "      <td>0.045561</td>\n",
              "      <td>0.111101</td>\n",
              "      <td>0.649855</td>\n",
              "      <td>0.365349</td>\n",
              "      <td>0.111752</td>\n",
              "      <td>0.053607</td>\n",
              "    </tr>\n",
              "  </tbody>\n",
              "</table>\n",
              "</div>"
            ],
            "text/plain": [
              "   var1(t-3)  var2(t-3)  var3(t-3)  ...   var3(t)   var4(t)   var5(t)\n",
              "3   0.125479   0.611105   0.429055  ...  0.445375  0.111618  0.022738\n",
              "4   0.129527   0.555312   0.454335  ...  0.214693  0.134156  0.039164\n",
              "5   0.132931   0.539534   0.584943  ...  0.500135  0.095922  0.045637\n",
              "6   0.137210   0.627175   0.445375  ...  0.212514  0.113362  0.045561\n",
              "7   0.144218   0.511893   0.214693  ...  0.365349  0.111752  0.053607\n",
              "\n",
              "[5 rows x 20 columns]"
            ]
          },
          "metadata": {
            "tags": []
          },
          "execution_count": 148
        }
      ]
    },
    {
      "cell_type": "code",
      "metadata": {
        "colab": {
          "base_uri": "https://localhost:8080/"
        },
        "id": "c2UX2egCNQxl",
        "outputId": "5b29ab6d-7858-48fc-fcf4-5d353f6d07b9"
      },
      "source": [
        "print(reframed.head())"
      ],
      "execution_count": 149,
      "outputs": [
        {
          "output_type": "stream",
          "text": [
            "   var1(t-3)  var2(t-3)  var3(t-3)  ...   var3(t)   var4(t)   var5(t)\n",
            "3   0.125479   0.611105   0.429055  ...  0.445375  0.111618  0.022738\n",
            "4   0.129527   0.555312   0.454335  ...  0.214693  0.134156  0.039164\n",
            "5   0.132931   0.539534   0.584943  ...  0.500135  0.095922  0.045637\n",
            "6   0.137210   0.627175   0.445375  ...  0.212514  0.113362  0.045561\n",
            "7   0.144218   0.511893   0.214693  ...  0.365349  0.111752  0.053607\n",
            "\n",
            "[5 rows x 20 columns]\n"
          ],
          "name": "stdout"
        }
      ]
    },
    {
      "cell_type": "code",
      "metadata": {
        "colab": {
          "base_uri": "https://localhost:8080/"
        },
        "id": "fjTRifM3NUAD",
        "outputId": "1e75b6d2-cdd5-4642-ee0c-df7ec4ed396c"
      },
      "source": [
        "values = reframed.values\r\n",
        "n_train_hours = 200\r\n",
        "train = values[:n_train_hours, :]\r\n",
        "test = values[n_train_hours:, :]\r\n",
        "train.shape"
      ],
      "execution_count": 150,
      "outputs": [
        {
          "output_type": "execute_result",
          "data": {
            "text/plain": [
              "(200, 20)"
            ]
          },
          "metadata": {
            "tags": []
          },
          "execution_count": 150
        }
      ]
    },
    {
      "cell_type": "code",
      "metadata": {
        "id": "EAGEB7-XNXFt"
      },
      "source": [
        "# split into input and outputs\r\n",
        "train_X, train_y = train[:, :n_obs], train[:, -n_features]\r\n",
        "test_X, test_y = test[:, :n_obs], test[:, -n_features]"
      ],
      "execution_count": 151,
      "outputs": []
    },
    {
      "cell_type": "code",
      "metadata": {
        "colab": {
          "base_uri": "https://localhost:8080/"
        },
        "id": "XTw-X6QUNaEt",
        "outputId": "1a3ba1eb-1719-4cc7-f18a-83f028ac25c3"
      },
      "source": [
        "# reshape input to be 3D [samples, timesteps, features]\r\n",
        "train_X = train_X.reshape((train_X.shape[0], n_hours, n_features))\r\n",
        "test_X = test_X.reshape((test_X.shape[0], n_hours, n_features))\r\n",
        "print(train_X.shape, train_y.shape, test_X.shape, test_y.shape)"
      ],
      "execution_count": 152,
      "outputs": [
        {
          "output_type": "stream",
          "text": [
            "(200, 3, 5) (200,) (91, 3, 5) (91,)\n"
          ],
          "name": "stdout"
        }
      ]
    },
    {
      "cell_type": "code",
      "metadata": {
        "colab": {
          "base_uri": "https://localhost:8080/"
        },
        "id": "LwdrjymmNdst",
        "outputId": "ae066993-0f4f-4c86-a262-3c029e11a056"
      },
      "source": [
        "# design network\r\n",
        "model = Sequential()\r\n",
        "model.add(LSTM(5, input_shape=(train_X.shape[1], train_X.shape[2])))\r\n",
        "model.add(Dense(1))\r\n",
        "model.compile(loss='mae', optimizer='adam')\r\n",
        "# fit network\r\n",
        "history = model.fit(train_X, train_y, epochs=50, batch_size=6, validation_data=(test_X, test_y), verbose=2, shuffle=False,validation_split=0.2)\r\n",
        "# plot history"
      ],
      "execution_count": 153,
      "outputs": [
        {
          "output_type": "stream",
          "text": [
            "Epoch 1/50\n",
            "27/27 - 3s - loss: 0.1742 - val_loss: 0.6897\n",
            "Epoch 2/50\n",
            "27/27 - 0s - loss: 0.1648 - val_loss: 0.6537\n",
            "Epoch 3/50\n",
            "27/27 - 0s - loss: 0.1635 - val_loss: 0.6327\n",
            "Epoch 4/50\n",
            "27/27 - 0s - loss: 0.1592 - val_loss: 0.6119\n",
            "Epoch 5/50\n",
            "27/27 - 0s - loss: 0.1541 - val_loss: 0.5889\n",
            "Epoch 6/50\n",
            "27/27 - 0s - loss: 0.1485 - val_loss: 0.5612\n",
            "Epoch 7/50\n",
            "27/27 - 0s - loss: 0.1430 - val_loss: 0.5316\n",
            "Epoch 8/50\n",
            "27/27 - 0s - loss: 0.1362 - val_loss: 0.4964\n",
            "Epoch 9/50\n",
            "27/27 - 0s - loss: 0.1281 - val_loss: 0.4540\n",
            "Epoch 10/50\n",
            "27/27 - 0s - loss: 0.1189 - val_loss: 0.4034\n",
            "Epoch 11/50\n",
            "27/27 - 0s - loss: 0.1082 - val_loss: 0.3445\n",
            "Epoch 12/50\n",
            "27/27 - 0s - loss: 0.0953 - val_loss: 0.2743\n",
            "Epoch 13/50\n",
            "27/27 - 0s - loss: 0.0814 - val_loss: 0.1990\n",
            "Epoch 14/50\n",
            "27/27 - 0s - loss: 0.0665 - val_loss: 0.1127\n",
            "Epoch 15/50\n",
            "27/27 - 0s - loss: 0.0537 - val_loss: 0.0625\n",
            "Epoch 16/50\n",
            "27/27 - 0s - loss: 0.0504 - val_loss: 0.0606\n",
            "Epoch 17/50\n",
            "27/27 - 0s - loss: 0.0475 - val_loss: 0.0565\n",
            "Epoch 18/50\n",
            "27/27 - 0s - loss: 0.0469 - val_loss: 0.0552\n",
            "Epoch 19/50\n",
            "27/27 - 0s - loss: 0.0456 - val_loss: 0.0520\n",
            "Epoch 20/50\n",
            "27/27 - 0s - loss: 0.0444 - val_loss: 0.0528\n",
            "Epoch 21/50\n",
            "27/27 - 0s - loss: 0.0407 - val_loss: 0.0492\n",
            "Epoch 22/50\n",
            "27/27 - 0s - loss: 0.0421 - val_loss: 0.0509\n",
            "Epoch 23/50\n",
            "27/27 - 0s - loss: 0.0376 - val_loss: 0.0509\n",
            "Epoch 24/50\n",
            "27/27 - 0s - loss: 0.0361 - val_loss: 0.0485\n",
            "Epoch 25/50\n",
            "27/27 - 0s - loss: 0.0365 - val_loss: 0.0478\n",
            "Epoch 26/50\n",
            "27/27 - 0s - loss: 0.0345 - val_loss: 0.0464\n",
            "Epoch 27/50\n",
            "27/27 - 0s - loss: 0.0336 - val_loss: 0.0474\n",
            "Epoch 28/50\n",
            "27/27 - 0s - loss: 0.0353 - val_loss: 0.0449\n",
            "Epoch 29/50\n",
            "27/27 - 0s - loss: 0.0290 - val_loss: 0.0443\n",
            "Epoch 30/50\n",
            "27/27 - 0s - loss: 0.0330 - val_loss: 0.0439\n",
            "Epoch 31/50\n",
            "27/27 - 0s - loss: 0.0276 - val_loss: 0.0442\n",
            "Epoch 32/50\n",
            "27/27 - 0s - loss: 0.0307 - val_loss: 0.0429\n",
            "Epoch 33/50\n",
            "27/27 - 0s - loss: 0.0258 - val_loss: 0.0422\n",
            "Epoch 34/50\n",
            "27/27 - 0s - loss: 0.0269 - val_loss: 0.0431\n",
            "Epoch 35/50\n",
            "27/27 - 0s - loss: 0.0271 - val_loss: 0.0418\n",
            "Epoch 36/50\n",
            "27/27 - 0s - loss: 0.0247 - val_loss: 0.0406\n",
            "Epoch 37/50\n",
            "27/27 - 0s - loss: 0.0252 - val_loss: 0.0399\n",
            "Epoch 38/50\n",
            "27/27 - 0s - loss: 0.0240 - val_loss: 0.0401\n",
            "Epoch 39/50\n",
            "27/27 - 0s - loss: 0.0239 - val_loss: 0.0387\n",
            "Epoch 40/50\n",
            "27/27 - 0s - loss: 0.0230 - val_loss: 0.0385\n",
            "Epoch 41/50\n",
            "27/27 - 0s - loss: 0.0228 - val_loss: 0.0378\n",
            "Epoch 42/50\n",
            "27/27 - 0s - loss: 0.0223 - val_loss: 0.0374\n",
            "Epoch 43/50\n",
            "27/27 - 0s - loss: 0.0217 - val_loss: 0.0374\n",
            "Epoch 44/50\n",
            "27/27 - 0s - loss: 0.0218 - val_loss: 0.0352\n",
            "Epoch 45/50\n",
            "27/27 - 0s - loss: 0.0208 - val_loss: 0.0362\n",
            "Epoch 46/50\n",
            "27/27 - 0s - loss: 0.0231 - val_loss: 0.0370\n",
            "Epoch 47/50\n",
            "27/27 - 0s - loss: 0.0209 - val_loss: 0.0370\n",
            "Epoch 48/50\n",
            "27/27 - 0s - loss: 0.0218 - val_loss: 0.0334\n",
            "Epoch 49/50\n",
            "27/27 - 0s - loss: 0.0202 - val_loss: 0.0329\n",
            "Epoch 50/50\n",
            "27/27 - 0s - loss: 0.0202 - val_loss: 0.0333\n"
          ],
          "name": "stdout"
        }
      ]
    },
    {
      "cell_type": "code",
      "metadata": {
        "colab": {
          "base_uri": "https://localhost:8080/",
          "height": 268
        },
        "id": "Ygy-1232Nj1o",
        "outputId": "9cbb84df-b117-4525-ecfc-e2e3bce06076"
      },
      "source": [
        "plt.plot(history.history['loss'], label='train')\r\n",
        "plt.plot(history.history['val_loss'], label='test')\r\n",
        "plt.legend()\r\n",
        "plt.show()"
      ],
      "execution_count": 154,
      "outputs": [
        {
          "output_type": "display_data",
          "data": {
            "image/png": "[encoded data removed]",
            "text/plain": [
              "<Figure size 432x288 with 1 Axes>"
            ]
          },
          "metadata": {
            "tags": []
          }
        }
      ]
    },
    {
      "cell_type": "code",
      "metadata": {
        "colab": {
          "base_uri": "https://localhost:8080/"
        },
        "id": "lSfScwCfNpjl",
        "outputId": "4ce6267f-f0dd-4a57-d672-5e59b27744f9"
      },
      "source": [
        "# make a prediction\r\n",
        "yhat = model.predict(test_X)\r\n",
        "test_X = test_X.reshape((test_X.shape[0], n_hours* n_features,))\r\n",
        "# invert scaling for forecast\r\n",
        "inv_yhat = concatenate((yhat, test_X[:, -4:]), axis=1)\r\n",
        "inv_yhat = scaler.inverse_transform(inv_yhat)\r\n",
        "inv_yhat = inv_yhat[:,0]\r\n",
        "# invert scaling for actual\r\n",
        "test_y = test_y.reshape((len(test_y), 1))\r\n",
        "inv_y = concatenate((test_y, test_X[:, -4:]), axis=1)\r\n",
        "inv_y = scaler.inverse_transform(inv_y)\r\n",
        "inv_y = inv_y[:,0]\r\n",
        "# calculate RMSE\r\n",
        "mse = (mean_squared_error(inv_y, inv_yhat))\r\n",
        "print('Test MSE: %.3f' % mse)\r\n",
        "rmse = sqrt(mean_squared_error(inv_y, inv_yhat))\r\n",
        "print('Test RMSE: %.3f' % rmse)"
      ],
      "execution_count": 155,
      "outputs": [
        {
          "output_type": "stream",
          "text": [
            "Test MSE: 5141.553\n",
            "Test RMSE: 71.705\n"
          ],
          "name": "stdout"
        }
      ]
    },
    {
      "cell_type": "code",
      "metadata": {
        "colab": {
          "base_uri": "https://localhost:8080/",
          "height": 285
        },
        "id": "67k5Z1mjNua2",
        "outputId": "c11a70be-e6f8-4f07-d969-8e89408a2263"
      },
      "source": [
        "plt.plot(inv_y, label='Real')\r\n",
        "plt.plot(inv_yhat, label='Predicted')"
      ],
      "execution_count": 156,
      "outputs": [
        {
          "output_type": "execute_result",
          "data": {
            "text/plain": [
              "[<matplotlib.lines.Line2D at 0x7f30ea105d50>]"
            ]
          },
          "metadata": {
            "tags": []
          },
          "execution_count": 156
        },
        {
          "output_type": "display_data",
          "data": {
            "image/png": "[encoded data removed]",
            "text/plain": [
              "<Figure size 432x288 with 1 Axes>"
            ]
          },
          "metadata": {
            "tags": []
          }
        }
      ]
    },
    {
      "cell_type": "code",
      "metadata": {
        "colab": {
          "base_uri": "https://localhost:8080/",
          "height": 301
        },
        "id": "SAtOpIAmN5dl",
        "outputId": "d95373ca-07d4-40e6-b03f-540f4af48159"
      },
      "source": [
        "plt.title('Real v Predicted Close_Price')\r\n",
        "plt.ylabel('Price ($)')\r\n",
        "plt.xlabel('epochs (Hr)')\r\n",
        "plt.show()"
      ],
      "execution_count": 157,
      "outputs": [
        {
          "output_type": "display_data",
          "data": {
            "image/png": "[encoded data removed]",
            "text/plain": [
              "<Figure size 432x288 with 1 Axes>"
            ]
          },
          "metadata": {
            "tags": []
          }
        }
      ]
    }
  ]
}